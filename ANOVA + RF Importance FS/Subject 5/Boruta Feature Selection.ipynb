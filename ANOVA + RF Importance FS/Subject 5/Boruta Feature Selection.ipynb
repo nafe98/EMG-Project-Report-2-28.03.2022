{
 "cells": [
  {
   "cell_type": "markdown",
   "id": "533e88c4",
   "metadata": {},
   "source": [
    "# Importing Libraries"
   ]
  },
  {
   "cell_type": "code",
   "execution_count": 1,
   "id": "66f62036",
   "metadata": {},
   "outputs": [],
   "source": [
    "import pandas as pd\n",
    "from matplotlib import pyplot as plt\n",
    "import seaborn as sns"
   ]
  },
  {
   "cell_type": "code",
   "execution_count": null,
   "id": "6931ef7b",
   "metadata": {},
   "outputs": [],
   "source": [
    "raw_data = pd.read_excel('Dataset 1 Patient 6.xlsx')"
   ]
  },
  {
   "cell_type": "code",
   "execution_count": null,
   "id": "a1f02ec5",
   "metadata": {},
   "outputs": [],
   "source": [
    "index_names = raw_data[ (raw_data['stimulus'] != raw_data['restimulus'])].index\n",
    "raw_data.drop(index_names, inplace = True)\n",
    "print(raw_data)"
   ]
  },
  {
   "cell_type": "code",
   "execution_count": null,
   "id": "8b6d8052",
   "metadata": {},
   "outputs": [],
   "source": [
    "index_names = raw_data[ (raw_data['repetition'] != raw_data['rerepetition'])].index\n",
    "raw_data.drop(index_names, inplace = True)\n",
    "print(raw_data)"
   ]
  },
  {
   "cell_type": "code",
   "execution_count": null,
   "id": "e1d741f6",
   "metadata": {},
   "outputs": [],
   "source": [
    "X = raw_data.iloc[:,0:10]\n",
    "y = raw_data.stimulus"
   ]
  },
  {
   "cell_type": "markdown",
   "id": "78d4155d",
   "metadata": {},
   "source": [
    "# Standard Scling"
   ]
  },
  {
   "cell_type": "code",
   "execution_count": null,
   "id": "cae79f57",
   "metadata": {},
   "outputs": [],
   "source": [
    "from sklearn.preprocessing import StandardScaler\n",
    "scaler = StandardScaler()\n",
    "scaler.fit(X)\n",
    "X = scaler.transform(X)"
   ]
  },
  {
   "cell_type": "markdown",
   "id": "ad2424e3",
   "metadata": {},
   "source": [
    "# Spliting Data"
   ]
  },
  {
   "cell_type": "code",
   "execution_count": null,
   "id": "0b83287f",
   "metadata": {},
   "outputs": [],
   "source": [
    "from sklearn.model_selection import train_test_split\n",
    "X_train, X_test, y_train, y_test = train_test_split(X, y, test_size=0.25, random_state=42)"
   ]
  },
  {
   "cell_type": "code",
   "execution_count": null,
   "id": "3d71e3eb",
   "metadata": {},
   "outputs": [],
   "source": [
    "import xgboost as xgb\n",
    "model = xgb.XGBClassifier()"
   ]
  },
  {
   "cell_type": "code",
   "execution_count": null,
   "id": "ba1560ac",
   "metadata": {},
   "outputs": [],
   "source": [
    "from boruta import BorutaPy"
   ]
  },
  {
   "cell_type": "code",
   "execution_count": null,
   "id": "9a156e7a",
   "metadata": {},
   "outputs": [],
   "source": [
    "# define Boruta feature selection method\n",
    "feat_selector = BorutaPy(model, n_estimators='auto', verbose=2, random_state=1)"
   ]
  },
  {
   "cell_type": "code",
   "execution_count": null,
   "id": "2a0bc0fc",
   "metadata": {},
   "outputs": [],
   "source": [
    "# find all relevant features\n",
    "feat_selector.fit(X_train, y_train)"
   ]
  },
  {
   "cell_type": "code",
   "execution_count": null,
   "id": "f9031876",
   "metadata": {},
   "outputs": [],
   "source": [
    "# check ranking of features\n",
    "print(feat_selector.ranking_) #Rank 1 is the best"
   ]
  },
  {
   "cell_type": "code",
   "execution_count": null,
   "id": "c6b78bf8",
   "metadata": {},
   "outputs": [],
   "source": [
    "# check selected features\n",
    "print(feat_selector.support_)  #Should we accept the feature"
   ]
  },
  {
   "cell_type": "code",
   "execution_count": null,
   "id": "81df75ec",
   "metadata": {},
   "outputs": [],
   "source": []
  }
 ],
 "metadata": {
  "kernelspec": {
   "display_name": "Python 3 (ipykernel)",
   "language": "python",
   "name": "python3"
  },
  "language_info": {
   "codemirror_mode": {
    "name": "ipython",
    "version": 3
   },
   "file_extension": ".py",
   "mimetype": "text/x-python",
   "name": "python",
   "nbconvert_exporter": "python",
   "pygments_lexer": "ipython3",
   "version": "3.8.12"
  }
 },
 "nbformat": 4,
 "nbformat_minor": 5
}
