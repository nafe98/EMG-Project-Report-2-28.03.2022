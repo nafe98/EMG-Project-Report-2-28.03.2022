{
 "cells": [
  {
   "cell_type": "markdown",
   "id": "798f8e9b",
   "metadata": {},
   "source": [
    "# Importing Libraries"
   ]
  },
  {
   "cell_type": "code",
   "execution_count": 1,
   "id": "94303a1a",
   "metadata": {},
   "outputs": [],
   "source": [
    "import matplotlib.pyplot as plt\n",
    "import numpy as np\n",
    "import pandas as pd\n",
    "import seaborn as sns\n",
    "import warnings\n",
    "from sklearn.feature_selection import RFE\n",
    "from sklearn.feature_selection import RFECV\n",
    "from sklearn.feature_selection import SelectKBest, chi2\n",
    "from sklearn.linear_model import LogisticRegression\n",
    "from sklearn.metrics import accuracy_score, f1_score\n",
    "from sklearn.metrics import f1_score,confusion_matrix\n",
    "from sklearn.model_selection import train_test_split"
   ]
  },
  {
   "cell_type": "markdown",
   "id": "e537caf4",
   "metadata": {},
   "source": [
    "# Loading Data"
   ]
  },
  {
   "cell_type": "code",
   "execution_count": 2,
   "id": "9bbde2fc",
   "metadata": {},
   "outputs": [],
   "source": [
    "raw_data = pd.read_excel('Dataset 1 Patient 6.xlsx')"
   ]
  },
  {
   "cell_type": "code",
   "execution_count": 3,
   "id": "b90384a4",
   "metadata": {},
   "outputs": [
    {
     "name": "stdout",
     "output_type": "stream",
     "text": [
      "          Emg1    Emg2    Emg3    Emg4    Emg5    Emg6    Emg7    Emg8  \\\n",
      "0       0.0024  0.0024  0.0024  0.0024  0.0024  0.0024  0.0024  0.0293   \n",
      "1       0.0024  0.0024  0.0024  0.0024  0.0024  0.0024  0.0024  0.0220   \n",
      "2       0.0049  0.0024  0.0024  0.0024  0.0024  0.0024  0.0049  0.0342   \n",
      "3       0.0049  0.0024  0.0024  0.0024  0.0024  0.0024  0.0024  0.0439   \n",
      "4       0.0049  0.0024  0.0024  0.0024  0.0024  0.0024  0.0024  0.0439   \n",
      "...        ...     ...     ...     ...     ...     ...     ...     ...   \n",
      "453164  0.0024  0.1196  0.0757  0.0610  0.1074  0.2148  0.4932  0.6616   \n",
      "453165  0.0024  0.1563  0.1294  0.0610  0.0952  0.1880  0.4663  0.6445   \n",
      "453166  0.0024  0.1782  0.1904  0.0610  0.0903  0.1782  0.4688  0.6299   \n",
      "453167  0.0024  0.1929  0.2246  0.0586  0.0854  0.1733  0.4517  0.5981   \n",
      "453168  0.0024  0.1953  0.2271  0.0562  0.0806  0.1611  0.4175  0.5615   \n",
      "\n",
      "          Emg9   Emg10  repetition  rerepetition  stimulus  restimulus  \n",
      "0       0.0024  0.0024           0             0         0           0  \n",
      "1       0.0024  0.0024           0             0         0           0  \n",
      "2       0.0024  0.0024           0             0         0           0  \n",
      "3       0.0024  0.0024           0             0         0           0  \n",
      "4       0.0024  0.0024           0             0         0           0  \n",
      "...        ...     ...         ...           ...       ...         ...  \n",
      "453164  0.3711  0.3101           0             0         0           0  \n",
      "453165  0.3784  0.2954           0             0         0           0  \n",
      "453166  0.3809  0.2979           0             0         0           0  \n",
      "453167  0.3662  0.2954           0             0         0           0  \n",
      "453168  0.3345  0.2759           0             0         0           0  \n",
      "\n",
      "[378096 rows x 14 columns]\n"
     ]
    }
   ],
   "source": [
    "index_names = raw_data[ (raw_data['stimulus'] != raw_data['restimulus'])].index\n",
    "raw_data.drop(index_names, inplace = True)\n",
    "print(raw_data)"
   ]
  },
  {
   "cell_type": "code",
   "execution_count": 4,
   "id": "067ca8ea",
   "metadata": {},
   "outputs": [
    {
     "name": "stdout",
     "output_type": "stream",
     "text": [
      "          Emg1    Emg2    Emg3    Emg4    Emg5    Emg6    Emg7    Emg8  \\\n",
      "0       0.0024  0.0024  0.0024  0.0024  0.0024  0.0024  0.0024  0.0293   \n",
      "1       0.0024  0.0024  0.0024  0.0024  0.0024  0.0024  0.0024  0.0220   \n",
      "2       0.0049  0.0024  0.0024  0.0024  0.0024  0.0024  0.0049  0.0342   \n",
      "3       0.0049  0.0024  0.0024  0.0024  0.0024  0.0024  0.0024  0.0439   \n",
      "4       0.0049  0.0024  0.0024  0.0024  0.0024  0.0024  0.0024  0.0439   \n",
      "...        ...     ...     ...     ...     ...     ...     ...     ...   \n",
      "453164  0.0024  0.1196  0.0757  0.0610  0.1074  0.2148  0.4932  0.6616   \n",
      "453165  0.0024  0.1563  0.1294  0.0610  0.0952  0.1880  0.4663  0.6445   \n",
      "453166  0.0024  0.1782  0.1904  0.0610  0.0903  0.1782  0.4688  0.6299   \n",
      "453167  0.0024  0.1929  0.2246  0.0586  0.0854  0.1733  0.4517  0.5981   \n",
      "453168  0.0024  0.1953  0.2271  0.0562  0.0806  0.1611  0.4175  0.5615   \n",
      "\n",
      "          Emg9   Emg10  repetition  rerepetition  stimulus  restimulus  \n",
      "0       0.0024  0.0024           0             0         0           0  \n",
      "1       0.0024  0.0024           0             0         0           0  \n",
      "2       0.0024  0.0024           0             0         0           0  \n",
      "3       0.0024  0.0024           0             0         0           0  \n",
      "4       0.0024  0.0024           0             0         0           0  \n",
      "...        ...     ...         ...           ...       ...         ...  \n",
      "453164  0.3711  0.3101           0             0         0           0  \n",
      "453165  0.3784  0.2954           0             0         0           0  \n",
      "453166  0.3809  0.2979           0             0         0           0  \n",
      "453167  0.3662  0.2954           0             0         0           0  \n",
      "453168  0.3345  0.2759           0             0         0           0  \n",
      "\n",
      "[378096 rows x 14 columns]\n"
     ]
    }
   ],
   "source": [
    "index_names = raw_data[ (raw_data['repetition'] != raw_data['rerepetition'])].index\n",
    "raw_data.drop(index_names, inplace = True)\n",
    "print(raw_data)"
   ]
  },
  {
   "cell_type": "code",
   "execution_count": 5,
   "id": "29f6ce7e",
   "metadata": {},
   "outputs": [],
   "source": [
    "X = raw_data.iloc[:,0:10]\n",
    "y = raw_data.stimulus"
   ]
  },
  {
   "cell_type": "code",
   "execution_count": 6,
   "id": "122e10b4",
   "metadata": {},
   "outputs": [],
   "source": [
    "x_train, x_test, y_train, y_test = train_test_split(X, y, test_size=0.33, random_state=33)\n"
   ]
  },
  {
   "cell_type": "markdown",
   "id": "16aea764",
   "metadata": {},
   "source": [
    "# Recursive Feature Elimination with Cross Validation"
   ]
  },
  {
   "cell_type": "code",
   "execution_count": 7,
   "id": "32212ddc",
   "metadata": {},
   "outputs": [],
   "source": [
    "from sklearn.ensemble import RandomForestClassifier\n",
    "clf_lr = RandomForestClassifier()"
   ]
  },
  {
   "cell_type": "code",
   "execution_count": null,
   "id": "55fa0031",
   "metadata": {},
   "outputs": [],
   "source": [
    "rfecv = RFECV(estimator=clf_lr, step=1, cv=5, scoring='accuracy')\n",
    "rfecv = rfecv.fit(x_train, y_train)\n",
    "print('Optimal number of features :', rfecv.n_features_)\n",
    "print('Best features :', x_train.columns[rfecv.support_])"
   ]
  },
  {
   "cell_type": "code",
   "execution_count": null,
   "id": "9fa32efd",
   "metadata": {},
   "outputs": [],
   "source": [
    "rfecv.grid_scores_"
   ]
  },
  {
   "cell_type": "code",
   "execution_count": null,
   "id": "febae4af",
   "metadata": {},
   "outputs": [],
   "source": [
    "plt.figure()\n",
    "plt.xlabel(\"Number of features selected\")\n",
    "plt.ylabel(\"Cross validation score of number of selected features\")\n",
    "plt.plot(range(1, len(rfecv.grid_scores_) + 1), rfecv.grid_scores_)\n",
    "plt.show()"
   ]
  },
  {
   "cell_type": "code",
   "execution_count": null,
   "id": "c89ec9f0",
   "metadata": {},
   "outputs": [],
   "source": [
    "x_train_rfecv = rfecv.transform(x_train)\n",
    "x_test_rfecv = rfecv.transform(x_test)"
   ]
  },
  {
   "cell_type": "code",
   "execution_count": null,
   "id": "d1053f5e",
   "metadata": {},
   "outputs": [],
   "source": []
  }
 ],
 "metadata": {
  "kernelspec": {
   "display_name": "Python 3 (ipykernel)",
   "language": "python",
   "name": "python3"
  },
  "language_info": {
   "codemirror_mode": {
    "name": "ipython",
    "version": 3
   },
   "file_extension": ".py",
   "mimetype": "text/x-python",
   "name": "python",
   "nbconvert_exporter": "python",
   "pygments_lexer": "ipython3",
   "version": "3.8.12"
  }
 },
 "nbformat": 4,
 "nbformat_minor": 5
}
