{
 "cells": [
  {
   "cell_type": "markdown",
   "id": "533e88c4",
   "metadata": {},
   "source": [
    "# Importing Libraries"
   ]
  },
  {
   "cell_type": "code",
   "execution_count": 1,
   "id": "66f62036",
   "metadata": {},
   "outputs": [],
   "source": [
    "import pandas as pd\n",
    "from matplotlib import pyplot as plt\n",
    "import seaborn as sns"
   ]
  },
  {
   "cell_type": "code",
   "execution_count": 2,
   "id": "6931ef7b",
   "metadata": {},
   "outputs": [],
   "source": [
    "raw_data = pd.read_excel('Dataset 1 Patient 2.xlsx')"
   ]
  },
  {
   "cell_type": "code",
   "execution_count": 3,
   "id": "a1f02ec5",
   "metadata": {},
   "outputs": [
    {
     "name": "stdout",
     "output_type": "stream",
     "text": [
      "         Emg1     Emg2    Emg3    Emg4   Emg5     Emg6    Emg7    Emg8  \\\n",
      "0       0.0269  0.1001  0.0024  0.0024  0.0024  0.0024  0.0024  0.0024   \n",
      "1       0.0269  0.0757  0.0024  0.0024  0.0024  0.0024  0.0024  0.0024   \n",
      "2       0.0317  0.0586  0.0024  0.0024  0.0024  0.0024  0.0024  0.0024   \n",
      "3       0.0293  0.0391  0.0024  0.0024  0.0024  0.0024  0.0024  0.0024   \n",
      "4       0.0293  0.0269  0.0024  0.0024  0.0049  0.0024  0.0024  0.0024   \n",
      "...        ...     ...     ...     ...     ...     ...     ...     ...   \n",
      "472496  0.1440  0.3955  0.0293  0.0024  0.0024  0.0024  0.0024  0.0098   \n",
      "472497  0.1392  0.3809  0.0244  0.0024  0.0024  0.0024  0.0024  0.0073   \n",
      "472498  0.1465  0.3955  0.0220  0.0049  0.0024  0.0024  0.0024  0.0098   \n",
      "472499  0.1367  0.3662  0.0146  0.0024  0.0024  0.0024  0.0024  0.0098   \n",
      "472500  0.1489  0.4175  0.0146  0.0024  0.0024  0.0024  0.0024  0.0073   \n",
      "\n",
      "          Emg9   Emg10  repetition  rerepetition  stimulus  restimulus  \n",
      "0       0.0024  0.0024           0             0         0           0  \n",
      "1       0.0024  0.0024           0             0         0           0  \n",
      "2       0.0024  0.0024           0             0         0           0  \n",
      "3       0.0024  0.0024           0             0         0           0  \n",
      "4       0.0024  0.0024           0             0         0           0  \n",
      "...        ...     ...         ...           ...       ...         ...  \n",
      "472496  0.0024  0.0024           0             0         0           0  \n",
      "472497  0.0024  0.0024           0             0         0           0  \n",
      "472498  0.0024  0.0024           0             0         0           0  \n",
      "472499  0.0024  0.0024           0             0         0           0  \n",
      "472500  0.0024  0.0024           0             0         0           0  \n",
      "\n",
      "[386613 rows x 14 columns]\n"
     ]
    }
   ],
   "source": [
    "index_names = raw_data[ (raw_data['stimulus'] != raw_data['restimulus'])].index\n",
    "raw_data.drop(index_names, inplace = True)\n",
    "print(raw_data)"
   ]
  },
  {
   "cell_type": "code",
   "execution_count": 4,
   "id": "8b6d8052",
   "metadata": {},
   "outputs": [
    {
     "name": "stdout",
     "output_type": "stream",
     "text": [
      "         Emg1     Emg2    Emg3    Emg4   Emg5     Emg6    Emg7    Emg8  \\\n",
      "0       0.0269  0.1001  0.0024  0.0024  0.0024  0.0024  0.0024  0.0024   \n",
      "1       0.0269  0.0757  0.0024  0.0024  0.0024  0.0024  0.0024  0.0024   \n",
      "2       0.0317  0.0586  0.0024  0.0024  0.0024  0.0024  0.0024  0.0024   \n",
      "3       0.0293  0.0391  0.0024  0.0024  0.0024  0.0024  0.0024  0.0024   \n",
      "4       0.0293  0.0269  0.0024  0.0024  0.0049  0.0024  0.0024  0.0024   \n",
      "...        ...     ...     ...     ...     ...     ...     ...     ...   \n",
      "472496  0.1440  0.3955  0.0293  0.0024  0.0024  0.0024  0.0024  0.0098   \n",
      "472497  0.1392  0.3809  0.0244  0.0024  0.0024  0.0024  0.0024  0.0073   \n",
      "472498  0.1465  0.3955  0.0220  0.0049  0.0024  0.0024  0.0024  0.0098   \n",
      "472499  0.1367  0.3662  0.0146  0.0024  0.0024  0.0024  0.0024  0.0098   \n",
      "472500  0.1489  0.4175  0.0146  0.0024  0.0024  0.0024  0.0024  0.0073   \n",
      "\n",
      "          Emg9   Emg10  repetition  rerepetition  stimulus  restimulus  \n",
      "0       0.0024  0.0024           0             0         0           0  \n",
      "1       0.0024  0.0024           0             0         0           0  \n",
      "2       0.0024  0.0024           0             0         0           0  \n",
      "3       0.0024  0.0024           0             0         0           0  \n",
      "4       0.0024  0.0024           0             0         0           0  \n",
      "...        ...     ...         ...           ...       ...         ...  \n",
      "472496  0.0024  0.0024           0             0         0           0  \n",
      "472497  0.0024  0.0024           0             0         0           0  \n",
      "472498  0.0024  0.0024           0             0         0           0  \n",
      "472499  0.0024  0.0024           0             0         0           0  \n",
      "472500  0.0024  0.0024           0             0         0           0  \n",
      "\n",
      "[386613 rows x 14 columns]\n"
     ]
    }
   ],
   "source": [
    "index_names = raw_data[ (raw_data['repetition'] != raw_data['rerepetition'])].index\n",
    "raw_data.drop(index_names, inplace = True)\n",
    "print(raw_data)"
   ]
  },
  {
   "cell_type": "code",
   "execution_count": 5,
   "id": "e1d741f6",
   "metadata": {},
   "outputs": [],
   "source": [
    "X = raw_data.iloc[:,0:10]\n",
    "y = raw_data.stimulus"
   ]
  },
  {
   "cell_type": "markdown",
   "id": "78d4155d",
   "metadata": {},
   "source": [
    "# Standard Scling"
   ]
  },
  {
   "cell_type": "code",
   "execution_count": 6,
   "id": "cae79f57",
   "metadata": {},
   "outputs": [],
   "source": [
    "from sklearn.preprocessing import StandardScaler\n",
    "scaler = StandardScaler()\n",
    "scaler.fit(X)\n",
    "X = scaler.transform(X)"
   ]
  },
  {
   "cell_type": "markdown",
   "id": "ad2424e3",
   "metadata": {},
   "source": [
    "# Spliting Data"
   ]
  },
  {
   "cell_type": "code",
   "execution_count": 7,
   "id": "0b83287f",
   "metadata": {},
   "outputs": [],
   "source": [
    "from sklearn.model_selection import train_test_split\n",
    "X_train, X_test, y_train, y_test = train_test_split(X, y, test_size=0.25, random_state=42)"
   ]
  },
  {
   "cell_type": "code",
   "execution_count": 8,
   "id": "3d71e3eb",
   "metadata": {},
   "outputs": [],
   "source": [
    "import xgboost as xgb\n",
    "model = xgb.XGBClassifier()"
   ]
  },
  {
   "cell_type": "code",
   "execution_count": 9,
   "id": "ba1560ac",
   "metadata": {},
   "outputs": [],
   "source": [
    "from boruta import BorutaPy"
   ]
  },
  {
   "cell_type": "code",
   "execution_count": 10,
   "id": "9a156e7a",
   "metadata": {},
   "outputs": [],
   "source": [
    "# define Boruta feature selection method\n",
    "feat_selector = BorutaPy(model, n_estimators='auto', verbose=2, random_state=1)"
   ]
  },
  {
   "cell_type": "code",
   "execution_count": null,
   "id": "2a0bc0fc",
   "metadata": {},
   "outputs": [
    {
     "name": "stderr",
     "output_type": "stream",
     "text": [
      "C:\\Users\\nafem\\anaconda3\\lib\\site-packages\\xgboost\\sklearn.py:1224: UserWarning: The use of label encoder in XGBClassifier is deprecated and will be removed in a future release. To remove this warning, do the following: 1) Pass option use_label_encoder=False when constructing XGBClassifier object; and 2) Encode your labels (y) as integers starting with 0, i.e. 0, 1, 2, ..., [num_class - 1].\n",
      "  warnings.warn(label_encoder_deprecation_msg, UserWarning)\n"
     ]
    },
    {
     "name": "stdout",
     "output_type": "stream",
     "text": [
      "[18:38:26] WARNING: C:/Users/Administrator/workspace/xgboost-win64_release_1.5.1/src/learner.cc:1115: Starting in XGBoost 1.3.0, the default evaluation metric used with the objective 'multi:softprob' was changed from 'merror' to 'mlogloss'. Explicitly set eval_metric if you'd like to restore the old behavior.\n"
     ]
    }
   ],
   "source": [
    "# find all relevant features\n",
    "feat_selector.fit(X_train, y_train)"
   ]
  },
  {
   "cell_type": "code",
   "execution_count": 14,
   "id": "f9031876",
   "metadata": {},
   "outputs": [
    {
     "name": "stdout",
     "output_type": "stream",
     "text": [
      "[1 1 1 1 1 1 1 1 1 1]\n"
     ]
    }
   ],
   "source": [
    "# check ranking of features\n",
    "print(feat_selector.ranking_) #Rank 1 is the best"
   ]
  },
  {
   "cell_type": "code",
   "execution_count": 15,
   "id": "c6b78bf8",
   "metadata": {},
   "outputs": [
    {
     "name": "stdout",
     "output_type": "stream",
     "text": [
      "[ True  True  True  True  True  True  True  True  True  True]\n"
     ]
    }
   ],
   "source": [
    "# check selected features\n",
    "print(feat_selector.support_)  #Should we accept the feature"
   ]
  },
  {
   "cell_type": "code",
   "execution_count": null,
   "id": "81df75ec",
   "metadata": {},
   "outputs": [],
   "source": []
  }
 ],
 "metadata": {
  "kernelspec": {
   "display_name": "Python 3 (ipykernel)",
   "language": "python",
   "name": "python3"
  },
  "language_info": {
   "codemirror_mode": {
    "name": "ipython",
    "version": 3
   },
   "file_extension": ".py",
   "mimetype": "text/x-python",
   "name": "python",
   "nbconvert_exporter": "python",
   "pygments_lexer": "ipython3",
   "version": "3.8.12"
  }
 },
 "nbformat": 4,
 "nbformat_minor": 5
}
