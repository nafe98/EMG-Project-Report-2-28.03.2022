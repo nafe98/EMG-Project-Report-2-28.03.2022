{
 "cells": [
  {
   "cell_type": "markdown",
   "id": "798f8e9b",
   "metadata": {},
   "source": [
    "# Importing Libraries"
   ]
  },
  {
   "cell_type": "code",
   "execution_count": 1,
   "id": "94303a1a",
   "metadata": {},
   "outputs": [],
   "source": [
    "import matplotlib.pyplot as plt\n",
    "import numpy as np\n",
    "import pandas as pd\n",
    "import seaborn as sns\n",
    "import warnings\n",
    "from sklearn.feature_selection import RFE\n",
    "from sklearn.feature_selection import RFECV\n",
    "from sklearn.feature_selection import SelectKBest, chi2\n",
    "from sklearn.linear_model import LogisticRegression\n",
    "from sklearn.metrics import accuracy_score, f1_score\n",
    "from sklearn.metrics import f1_score,confusion_matrix\n",
    "from sklearn.model_selection import train_test_split"
   ]
  },
  {
   "cell_type": "markdown",
   "id": "e537caf4",
   "metadata": {},
   "source": [
    "# Loading Data"
   ]
  },
  {
   "cell_type": "code",
   "execution_count": 2,
   "id": "9bbde2fc",
   "metadata": {},
   "outputs": [],
   "source": [
    "raw_data = pd.read_excel('Dataset 1 Patient 8.xlsx')"
   ]
  },
  {
   "cell_type": "code",
   "execution_count": 3,
   "id": "b90384a4",
   "metadata": {},
   "outputs": [
    {
     "name": "stdout",
     "output_type": "stream",
     "text": [
      "          Emg1    Emg2    Emg3    Emg4    Emg5    Emg6    Emg7    Emg8  \\\n",
      "0       0.0049  0.0024  0.0024  0.0024  0.0024  0.0024  0.0024  0.0024   \n",
      "1       0.0024  0.0024  0.0024  0.0024  0.0024  0.0024  0.0024  0.0024   \n",
      "2       0.0024  0.0024  0.0024  0.0024  0.0049  0.0024  0.0024  0.0024   \n",
      "3       0.0024  0.0024  0.0024  0.0024  0.0024  0.0024  0.0049  0.0024   \n",
      "4       0.0098  0.0024  0.0024  0.0024  0.0024  0.0024  0.0024  0.0024   \n",
      "...        ...     ...     ...     ...     ...     ...     ...     ...   \n",
      "449725  0.0293  0.0024  0.0024  0.0024  0.0024  0.0024  0.0024  0.0903   \n",
      "449726  0.0317  0.0049  0.0024  0.0024  0.0024  0.0024  0.0073  0.1025   \n",
      "449727  0.0269  0.0122  0.0024  0.0024  0.0024  0.0024  0.0171  0.1343   \n",
      "449728  0.0244  0.0098  0.0024  0.0024  0.0024  0.0024  0.0171  0.1465   \n",
      "449729  0.0244  0.0244  0.0024  0.0024  0.0024  0.0024  0.0146  0.1685   \n",
      "\n",
      "          Emg9   Emg10  repetition  rerepetition  stimulus  restimulus  \n",
      "0       0.0024  0.0024           0             0         0           0  \n",
      "1       0.0024  0.0024           0             0         0           0  \n",
      "2       0.0024  0.0024           0             0         0           0  \n",
      "3       0.0024  0.0024           0             0         0           0  \n",
      "4       0.0024  0.0024           0             0         0           0  \n",
      "...        ...     ...         ...           ...       ...         ...  \n",
      "449725  0.0024  0.0024           0             0         0           0  \n",
      "449726  0.0024  0.0024           0             0         0           0  \n",
      "449727  0.0024  0.0024           0             0         0           0  \n",
      "449728  0.0024  0.0024           0             0         0           0  \n",
      "449729  0.0024  0.0024           0             0         0           0  \n",
      "\n",
      "[364664 rows x 14 columns]\n"
     ]
    }
   ],
   "source": [
    "index_names = raw_data[ (raw_data['stimulus'] != raw_data['restimulus'])].index\n",
    "raw_data.drop(index_names, inplace = True)\n",
    "print(raw_data)"
   ]
  },
  {
   "cell_type": "code",
   "execution_count": 4,
   "id": "067ca8ea",
   "metadata": {},
   "outputs": [
    {
     "name": "stdout",
     "output_type": "stream",
     "text": [
      "          Emg1    Emg2    Emg3    Emg4    Emg5    Emg6    Emg7    Emg8  \\\n",
      "0       0.0049  0.0024  0.0024  0.0024  0.0024  0.0024  0.0024  0.0024   \n",
      "1       0.0024  0.0024  0.0024  0.0024  0.0024  0.0024  0.0024  0.0024   \n",
      "2       0.0024  0.0024  0.0024  0.0024  0.0049  0.0024  0.0024  0.0024   \n",
      "3       0.0024  0.0024  0.0024  0.0024  0.0024  0.0024  0.0049  0.0024   \n",
      "4       0.0098  0.0024  0.0024  0.0024  0.0024  0.0024  0.0024  0.0024   \n",
      "...        ...     ...     ...     ...     ...     ...     ...     ...   \n",
      "449725  0.0293  0.0024  0.0024  0.0024  0.0024  0.0024  0.0024  0.0903   \n",
      "449726  0.0317  0.0049  0.0024  0.0024  0.0024  0.0024  0.0073  0.1025   \n",
      "449727  0.0269  0.0122  0.0024  0.0024  0.0024  0.0024  0.0171  0.1343   \n",
      "449728  0.0244  0.0098  0.0024  0.0024  0.0024  0.0024  0.0171  0.1465   \n",
      "449729  0.0244  0.0244  0.0024  0.0024  0.0024  0.0024  0.0146  0.1685   \n",
      "\n",
      "          Emg9   Emg10  repetition  rerepetition  stimulus  restimulus  \n",
      "0       0.0024  0.0024           0             0         0           0  \n",
      "1       0.0024  0.0024           0             0         0           0  \n",
      "2       0.0024  0.0024           0             0         0           0  \n",
      "3       0.0024  0.0024           0             0         0           0  \n",
      "4       0.0024  0.0024           0             0         0           0  \n",
      "...        ...     ...         ...           ...       ...         ...  \n",
      "449725  0.0024  0.0024           0             0         0           0  \n",
      "449726  0.0024  0.0024           0             0         0           0  \n",
      "449727  0.0024  0.0024           0             0         0           0  \n",
      "449728  0.0024  0.0024           0             0         0           0  \n",
      "449729  0.0024  0.0024           0             0         0           0  \n",
      "\n",
      "[364664 rows x 14 columns]\n"
     ]
    }
   ],
   "source": [
    "index_names = raw_data[ (raw_data['repetition'] != raw_data['rerepetition'])].index\n",
    "raw_data.drop(index_names, inplace = True)\n",
    "print(raw_data)"
   ]
  },
  {
   "cell_type": "code",
   "execution_count": 5,
   "id": "29f6ce7e",
   "metadata": {},
   "outputs": [],
   "source": [
    "X = raw_data.iloc[:,0:10]\n",
    "y = raw_data.stimulus"
   ]
  },
  {
   "cell_type": "code",
   "execution_count": 6,
   "id": "122e10b4",
   "metadata": {},
   "outputs": [],
   "source": [
    "x_train, x_test, y_train, y_test = train_test_split(X, y, test_size=0.33, random_state=33)\n"
   ]
  },
  {
   "cell_type": "markdown",
   "id": "16aea764",
   "metadata": {},
   "source": [
    "# Recursive Feature Elimination with Cross Validation"
   ]
  },
  {
   "cell_type": "code",
   "execution_count": 7,
   "id": "32212ddc",
   "metadata": {},
   "outputs": [],
   "source": [
    "from sklearn.ensemble import RandomForestClassifier\n",
    "clf_lr = RandomForestClassifier()"
   ]
  },
  {
   "cell_type": "code",
   "execution_count": 8,
   "id": "55fa0031",
   "metadata": {},
   "outputs": [
    {
     "name": "stdout",
     "output_type": "stream",
     "text": [
      "Optimal number of features : 10\n",
      "Best features : Index(['Emg1', 'Emg2', 'Emg3', 'Emg4', 'Emg5', 'Emg6', 'Emg7', 'Emg8', 'Emg9',\n",
      "       'Emg10'],\n",
      "      dtype='object')\n"
     ]
    }
   ],
   "source": [
    "rfecv = RFECV(estimator=clf_lr, step=1, cv=5, scoring='accuracy')\n",
    "rfecv = rfecv.fit(x_train, y_train)\n",
    "print('Optimal number of features :', rfecv.n_features_)\n",
    "print('Best features :', x_train.columns[rfecv.support_])"
   ]
  },
  {
   "cell_type": "code",
   "execution_count": 9,
   "id": "9fa32efd",
   "metadata": {},
   "outputs": [
    {
     "name": "stderr",
     "output_type": "stream",
     "text": [
      "C:\\Users\\nafem\\anaconda3\\lib\\site-packages\\sklearn\\utils\\deprecation.py:103: FutureWarning: The `grid_scores_` attribute is deprecated in version 1.0 in favor of `cv_results_` and will be removed in version 1.2.\n",
      "  warnings.warn(msg, category=FutureWarning)\n"
     ]
    },
    {
     "data": {
      "text/plain": [
       "array([[0.51533818, 0.51423309, 0.51556329, 0.51466285, 0.51557384],\n",
       "       [0.52407654, 0.52327842, 0.52464954, 0.52395375, 0.52371889],\n",
       "       [0.61444797, 0.61256523, 0.61143968, 0.61518469, 0.61321218],\n",
       "       [0.71443774, 0.71707766, 0.71429448, 0.71494935, 0.71213982],\n",
       "       [0.78446741, 0.78469252, 0.77630206, 0.78589993, 0.7768705 ],\n",
       "       [0.83640643, 0.83599713, 0.82163102, 0.8356697 , 0.82365341],\n",
       "       [0.86434053, 0.86513865, 0.86098434, 0.85965415, 0.86010151],\n",
       "       [0.88365906, 0.88327023, 0.88003684, 0.88337256, 0.88126228],\n",
       "       [0.89139466, 0.8915993 , 0.89119001, 0.89313415, 0.89008268],\n",
       "       [0.90238412, 0.90260923, 0.90043999, 0.90172925, 0.90142027]])"
      ]
     },
     "execution_count": 9,
     "metadata": {},
     "output_type": "execute_result"
    }
   ],
   "source": [
    "rfecv.grid_scores_"
   ]
  },
  {
   "cell_type": "code",
   "execution_count": 10,
   "id": "febae4af",
   "metadata": {},
   "outputs": [
    {
     "data": {
      "image/png": "[encoded data removed]",
      "text/plain": [
       "<Figure size 432x288 with 1 Axes>"
      ]
     },
     "metadata": {
      "needs_background": "light"
     },
     "output_type": "display_data"
    }
   ],
   "source": [
    "plt.figure()\n",
    "plt.xlabel(\"Number of features selected\")\n",
    "plt.ylabel(\"Cross validation score of number of selected features\")\n",
    "plt.plot(range(1, len(rfecv.grid_scores_) + 1), rfecv.grid_scores_)\n",
    "plt.show()"
   ]
  },
  {
   "cell_type": "code",
   "execution_count": null,
   "id": "d1053f5e",
   "metadata": {},
   "outputs": [],
   "source": []
  }
 ],
 "metadata": {
  "kernelspec": {
   "display_name": "Python 3 (ipykernel)",
   "language": "python",
   "name": "python3"
  },
  "language_info": {
   "codemirror_mode": {
    "name": "ipython",
    "version": 3
   },
   "file_extension": ".py",
   "mimetype": "text/x-python",
   "name": "python",
   "nbconvert_exporter": "python",
   "pygments_lexer": "ipython3",
   "version": "3.8.12"
  }
 },
 "nbformat": 4,
 "nbformat_minor": 5
}
