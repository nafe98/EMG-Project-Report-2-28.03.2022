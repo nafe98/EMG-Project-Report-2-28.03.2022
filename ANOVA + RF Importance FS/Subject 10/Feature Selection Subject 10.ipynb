{
 "cells": [
  {
   "cell_type": "markdown",
   "id": "0fe5287d",
   "metadata": {},
   "source": [
    "# Importing Libraries"
   ]
  },
  {
   "cell_type": "code",
   "execution_count": 1,
   "id": "e5688530",
   "metadata": {},
   "outputs": [],
   "source": [
    "import numpy as np\n",
    "import pandas as pd\n",
    "from matplotlib import pyplot\n",
    "import matplotlib.pyplot as plt\n",
    "import seaborn as sns\n",
    "from sklearn.model_selection import train_test_split\n",
    "from sklearn.metrics import confusion_matrix, f1_score, accuracy_score, classification_report"
   ]
  },
  {
   "cell_type": "markdown",
   "id": "e67ca01a",
   "metadata": {},
   "source": [
    "# Data Cleaning and Analysis"
   ]
  },
  {
   "cell_type": "code",
   "execution_count": 2,
   "id": "9a434fb6",
   "metadata": {},
   "outputs": [],
   "source": [
    "raw_data = pd.read_excel('Dataset 1 Patient 10.xlsx')"
   ]
  },
  {
   "cell_type": "code",
   "execution_count": 3,
   "id": "a91c37be",
   "metadata": {},
   "outputs": [],
   "source": [
    "index_names = raw_data[ (raw_data['stimulus'] != raw_data['restimulus'])].index\n",
    "raw_data.drop(index_names, inplace = True)"
   ]
  },
  {
   "cell_type": "code",
   "execution_count": 4,
   "id": "3fd0af3b",
   "metadata": {},
   "outputs": [
    {
     "name": "stdout",
     "output_type": "stream",
     "text": [
      "          Emg1    Emg2    Emg3    Emg4    Emg5    Emg6    Emg7    Emg8  \\\n",
      "0       0.0024  0.0024  0.0024  0.0024  0.0024  0.0098  0.0146  0.0488   \n",
      "1       0.0024  0.0024  0.0024  0.0024  0.0024  0.0098  0.0122  0.0439   \n",
      "2       0.0024  0.0024  0.0024  0.0024  0.0024  0.0073  0.0073  0.0366   \n",
      "3       0.0049  0.0024  0.0024  0.0024  0.0024  0.0073  0.0049  0.0317   \n",
      "4       0.0049  0.0024  0.0024  0.0024  0.0024  0.0024  0.0024  0.0293   \n",
      "...        ...     ...     ...     ...     ...     ...     ...     ...   \n",
      "457923  0.0073  0.1001  0.0439  0.0073  0.0122  0.0952  0.2612  0.7910   \n",
      "457924  0.0098  0.0977  0.0391  0.0049  0.0098  0.0928  0.2710  0.8130   \n",
      "457925  0.0122  0.0806  0.0293  0.0024  0.0073  0.0830  0.2539  0.7715   \n",
      "457926  0.0122  0.0806  0.0366  0.0073  0.0024  0.0757  0.2490  0.8105   \n",
      "457927  0.0122  0.0781  0.0391  0.0098  0.0024  0.0708  0.2393  0.8325   \n",
      "\n",
      "          Emg9   Emg10  repetition  rerepetition  stimulus  restimulus  \n",
      "0       0.0024  0.0317           0             0         0           0  \n",
      "1       0.0024  0.0317           0             0         0           0  \n",
      "2       0.0024  0.0293           0             0         0           0  \n",
      "3       0.0024  0.0269           0             0         0           0  \n",
      "4       0.0024  0.0220           0             0         0           0  \n",
      "...        ...     ...         ...           ...       ...         ...  \n",
      "457923  0.0024  0.1465           0             0         0           0  \n",
      "457924  0.0024  0.1392           0             0         0           0  \n",
      "457925  0.0024  0.1196           0             0         0           0  \n",
      "457926  0.0024  0.1099           0             0         0           0  \n",
      "457927  0.0024  0.1001           0             0         0           0  \n",
      "\n",
      "[379647 rows x 14 columns]\n"
     ]
    }
   ],
   "source": [
    "index_names = raw_data[ (raw_data['repetition'] != raw_data['rerepetition'])].index\n",
    "raw_data.drop(index_names, inplace = True)\n",
    "print(raw_data)"
   ]
  },
  {
   "cell_type": "code",
   "execution_count": 5,
   "id": "d89bb04f",
   "metadata": {},
   "outputs": [
    {
     "name": "stdout",
     "output_type": "stream",
     "text": [
      "<class 'pandas.core.frame.DataFrame'>\n",
      "Int64Index: 379647 entries, 0 to 457927\n",
      "Data columns (total 14 columns):\n",
      " #   Column        Non-Null Count   Dtype  \n",
      "---  ------        --------------   -----  \n",
      " 0   Emg1          379647 non-null  float64\n",
      " 1   Emg2          379647 non-null  float64\n",
      " 2   Emg3          379647 non-null  float64\n",
      " 3   Emg4          379647 non-null  float64\n",
      " 4   Emg5          379647 non-null  float64\n",
      " 5   Emg6          379647 non-null  float64\n",
      " 6   Emg7          379647 non-null  float64\n",
      " 7   Emg8          379647 non-null  float64\n",
      " 8   Emg9          379647 non-null  float64\n",
      " 9   Emg10         379647 non-null  float64\n",
      " 10  repetition    379647 non-null  int64  \n",
      " 11  rerepetition  379647 non-null  int64  \n",
      " 12  stimulus      379647 non-null  int64  \n",
      " 13  restimulus    379647 non-null  int64  \n",
      "dtypes: float64(10), int64(4)\n",
      "memory usage: 43.4 MB\n"
     ]
    }
   ],
   "source": [
    "raw_data.info()"
   ]
  },
  {
   "cell_type": "markdown",
   "id": "e6dbe8a4",
   "metadata": {},
   "source": [
    "# Data Splitting"
   ]
  },
  {
   "cell_type": "code",
   "execution_count": 6,
   "id": "885a22c5",
   "metadata": {},
   "outputs": [],
   "source": [
    "X = raw_data.iloc[:,0:10]\n",
    "y = raw_data.stimulus"
   ]
  },
  {
   "cell_type": "code",
   "execution_count": 7,
   "id": "bbae2255",
   "metadata": {},
   "outputs": [],
   "source": [
    "colnames = X.columns"
   ]
  },
  {
   "cell_type": "code",
   "execution_count": 8,
   "id": "5954d29b",
   "metadata": {},
   "outputs": [],
   "source": [
    "from sklearn.preprocessing import MinMaxScaler\n",
    "# Define dictionary to store our rankings\n",
    "ranks = {}\n",
    "# Create our function which stores the feature rankings to the ranks dictionary\n",
    "def ranking(ranks, names, order=1):\n",
    "    minmax = MinMaxScaler()\n",
    "    ranks = minmax.fit_transform(order*np.array([ranks]).T).T[0]\n",
    "    ranks = map(lambda x: round(x,2), ranks)\n",
    "    return dict(zip(names, ranks))"
   ]
  },
  {
   "cell_type": "markdown",
   "id": "fc400816",
   "metadata": {},
   "source": [
    "# Feature Selection"
   ]
  },
  {
   "cell_type": "markdown",
   "id": "2b4ff7f5",
   "metadata": {},
   "source": [
    "# Filter Method"
   ]
  },
  {
   "cell_type": "markdown",
   "id": "edffae12",
   "metadata": {},
   "source": [
    "# ANOVA f-test Feature Selection"
   ]
  },
  {
   "cell_type": "code",
   "execution_count": 9,
   "id": "d1fa4a76",
   "metadata": {},
   "outputs": [],
   "source": [
    "from sklearn.feature_selection import SelectKBest\n",
    "from sklearn.feature_selection import f_classif"
   ]
  },
  {
   "cell_type": "code",
   "execution_count": 10,
   "id": "2ab7ad4a",
   "metadata": {},
   "outputs": [
    {
     "data": {
      "text/plain": [
       "SelectKBest(k='all')"
      ]
     },
     "execution_count": 10,
     "metadata": {},
     "output_type": "execute_result"
    }
   ],
   "source": [
    "# configure to select all features\n",
    "fs = SelectKBest(score_func=f_classif, k='all')\n",
    "fs.fit(X, y)"
   ]
  },
  {
   "cell_type": "code",
   "execution_count": 11,
   "id": "4b5c30a6",
   "metadata": {},
   "outputs": [
    {
     "name": "stdout",
     "output_type": "stream",
     "text": [
      "finished\n"
     ]
    }
   ],
   "source": [
    "ranks[\"ANOVA\"] = ranking(np.abs(fs.scores_), colnames)\n",
    "print('finished')"
   ]
  },
  {
   "cell_type": "markdown",
   "id": "ac7323c0",
   "metadata": {},
   "source": [
    "# Embedded Method Feature Selection"
   ]
  },
  {
   "cell_type": "markdown",
   "id": "4c2faf0d",
   "metadata": {},
   "source": [
    "# Random Forest Feature Importance"
   ]
  },
  {
   "cell_type": "code",
   "execution_count": 12,
   "id": "053c09c0",
   "metadata": {},
   "outputs": [],
   "source": [
    "from sklearn.ensemble import RandomForestClassifier"
   ]
  },
  {
   "cell_type": "code",
   "execution_count": 13,
   "id": "1cbb0380",
   "metadata": {},
   "outputs": [
    {
     "data": {
      "text/plain": [
       "RandomForestClassifier(criterion='entropy', n_estimators=500)"
      ]
     },
     "execution_count": 13,
     "metadata": {},
     "output_type": "execute_result"
    }
   ],
   "source": [
    "model_rf = RandomForestClassifier(bootstrap = True,\n",
    "              ccp_alpha = 0.0,\n",
    "              class_weight =  None,\n",
    "              criterion = 'entropy',\n",
    "              max_depth = None,\n",
    "              max_features = 'auto' ,\n",
    "              max_leaf_nodes = None,\n",
    "              max_samples = None,\n",
    "              min_impurity_decrease = 0.0,\n",
    "              min_samples_leaf = 1,\n",
    "              min_samples_split = 2,\n",
    "              min_weight_fraction_leaf = 0.0,\n",
    "              n_estimators = 500,\n",
    "              n_jobs = None,\n",
    "              oob_score = False,\n",
    "              random_state = None,\n",
    "              verbose = 0,\n",
    "              warm_start = False)\n",
    "model_rf.fit(X, y)"
   ]
  },
  {
   "cell_type": "code",
   "execution_count": 14,
   "id": "54ffcbcc",
   "metadata": {},
   "outputs": [
    {
     "name": "stdout",
     "output_type": "stream",
     "text": [
      "finished\n"
     ]
    }
   ],
   "source": [
    "ranks[\"RF\"] = ranking(np.abs(model_rf.feature_importances_), colnames)\n",
    "print('finished')"
   ]
  },
  {
   "cell_type": "markdown",
   "id": "d4ac46eb",
   "metadata": {},
   "source": [
    "# Result : Creating the Feature Ranking Matrix"
   ]
  },
  {
   "cell_type": "code",
   "execution_count": 15,
   "id": "e3322f4c",
   "metadata": {},
   "outputs": [
    {
     "name": "stdout",
     "output_type": "stream",
     "text": [
      "\tANOVA\tRF\tMean\n",
      "Emg1\t0.0\t0.07\t0.04\n",
      "Emg2\t0.54\t0.9\t0.72\n",
      "Emg3\t0.43\t0.47\t0.45\n",
      "Emg4\t0.42\t0.0\t0.21\n",
      "Emg5\t0.49\t0.15\t0.32\n",
      "Emg6\t0.54\t0.36\t0.45\n",
      "Emg7\t0.99\t0.52\t0.76\n",
      "Emg8\t0.8\t0.96\t0.88\n",
      "Emg9\t0.6\t0.57\t0.58\n",
      "Emg10\t1.0\t1.0\t1.0\n"
     ]
    }
   ],
   "source": [
    "# Create empty dictionary to store the mean value calculated from all the scores\n",
    "r = {}\n",
    "for name in colnames:\n",
    "    r[name] = round(np.mean([ranks[method][name] \n",
    "                             for method in ranks.keys()]), 2)\n",
    " \n",
    "methods = sorted(ranks.keys())\n",
    "ranks[\"Mean\"] = r\n",
    "methods.append(\"Mean\")\n",
    "\n",
    "print(\"\\t%s\" % \"\\t\".join(methods))\n",
    "for name in colnames:\n",
    "    print(\"%s\\t%s\" % (name, \"\\t\".join(map(str, \n",
    "                         [ranks[method][name] for method in methods]))))"
   ]
  },
  {
   "cell_type": "markdown",
   "id": "42fde413",
   "metadata": {},
   "source": [
    "# Visualization"
   ]
  },
  {
   "cell_type": "code",
   "execution_count": 16,
   "id": "75ad0b0f",
   "metadata": {},
   "outputs": [],
   "source": [
    "# Put the mean scores into a Pandas dataframe\n",
    "meanplot = pd.DataFrame(list(r.items()), columns= ['Feature','Mean Ranking'])\n",
    "\n",
    "# Sort the dataframe\n",
    "meanplot = meanplot.sort_values('Mean Ranking', ascending=False)"
   ]
  },
  {
   "cell_type": "code",
   "execution_count": 17,
   "id": "8360a92a",
   "metadata": {},
   "outputs": [
    {
     "name": "stderr",
     "output_type": "stream",
     "text": [
      "E:\\MachineLearning\\envs\\gpu\\lib\\site-packages\\seaborn\\categorical.py:3717: UserWarning: The `factorplot` function has been renamed to `catplot`. The original name will be removed in a future release. Please update your code. Note that the default `kind` in `factorplot` (`'point'`) has changed `'strip'` in `catplot`.\n",
      "  warnings.warn(msg)\n",
      "E:\\MachineLearning\\envs\\gpu\\lib\\site-packages\\seaborn\\categorical.py:3723: UserWarning: The `size` parameter has been renamed to `height`; please update your code.\n",
      "  warnings.warn(msg, UserWarning)\n"
     ]
    },
    {
     "data": {
      "text/plain": [
       "<seaborn.axisgrid.FacetGrid at 0x2d3aa0442e0>"
      ]
     },
     "execution_count": 17,
     "metadata": {},
     "output_type": "execute_result"
    },
    {
     "data": {
      "image/png": "[encoded data removed]",
      "text/plain": [
       "<Figure size 720x720 with 1 Axes>"
      ]
     },
     "metadata": {
      "needs_background": "light"
     },
     "output_type": "display_data"
    }
   ],
   "source": [
    "# Let's plot the ranking of the features\n",
    "sns.factorplot(x=\"Mean Ranking\", y=\"Feature\", data = meanplot, kind=\"bar\", size=10, aspect=1, palette='coolwarm')"
   ]
  },
  {
   "cell_type": "code",
   "execution_count": null,
   "id": "67365a88",
   "metadata": {},
   "outputs": [],
   "source": []
  },
  {
   "cell_type": "code",
   "execution_count": null,
   "id": "5bec8e6f",
   "metadata": {},
   "outputs": [],
   "source": []
  },
  {
   "cell_type": "code",
   "execution_count": null,
   "id": "2111d54f",
   "metadata": {},
   "outputs": [],
   "source": []
  }
 ],
 "metadata": {
  "kernelspec": {
   "display_name": "Python 3 (ipykernel)",
   "language": "python",
   "name": "python3"
  },
  "language_info": {
   "codemirror_mode": {
    "name": "ipython",
    "version": 3
   },
   "file_extension": ".py",
   "mimetype": "text/x-python",
   "name": "python",
   "nbconvert_exporter": "python",
   "pygments_lexer": "ipython3",
   "version": "3.8.12"
  }
 },
 "nbformat": 4,
 "nbformat_minor": 5
}
