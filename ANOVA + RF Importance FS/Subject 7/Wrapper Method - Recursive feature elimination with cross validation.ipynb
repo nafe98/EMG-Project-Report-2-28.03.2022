{
 "cells": [
  {
   "cell_type": "markdown",
   "id": "798f8e9b",
   "metadata": {},
   "source": [
    "# Importing Libraries"
   ]
  },
  {
   "cell_type": "code",
   "execution_count": 1,
   "id": "94303a1a",
   "metadata": {},
   "outputs": [],
   "source": [
    "import matplotlib.pyplot as plt\n",
    "import numpy as np\n",
    "import pandas as pd\n",
    "import seaborn as sns\n",
    "import warnings\n",
    "from sklearn.feature_selection import RFE\n",
    "from sklearn.feature_selection import RFECV\n",
    "from sklearn.feature_selection import SelectKBest, chi2\n",
    "from sklearn.linear_model import LogisticRegression\n",
    "from sklearn.metrics import accuracy_score, f1_score\n",
    "from sklearn.metrics import f1_score,confusion_matrix\n",
    "from sklearn.model_selection import train_test_split"
   ]
  },
  {
   "cell_type": "markdown",
   "id": "e537caf4",
   "metadata": {},
   "source": [
    "# Loading Data"
   ]
  },
  {
   "cell_type": "code",
   "execution_count": 2,
   "id": "9bbde2fc",
   "metadata": {},
   "outputs": [],
   "source": [
    "raw_data = pd.read_excel('Dataset 1 Patient 7.xlsx')"
   ]
  },
  {
   "cell_type": "code",
   "execution_count": 3,
   "id": "b90384a4",
   "metadata": {},
   "outputs": [
    {
     "name": "stdout",
     "output_type": "stream",
     "text": [
      "          Emg1    Emg2    Emg3    Emg4    Emg5    Emg6    Emg7    Emg8  \\\n",
      "0       0.0024  0.0024  0.0024  0.0024  0.0024  0.0024  0.0635  0.0391   \n",
      "1       0.0024  0.0024  0.0024  0.0024  0.0024  0.0024  0.0684  0.0342   \n",
      "2       0.0024  0.0024  0.0024  0.0024  0.0024  0.0024  0.0684  0.0293   \n",
      "3       0.0024  0.0024  0.0024  0.0024  0.0024  0.0024  0.0659  0.0269   \n",
      "4       0.0024  0.0024  0.0024  0.0024  0.0024  0.0024  0.0610  0.0244   \n",
      "...        ...     ...     ...     ...     ...     ...     ...     ...   \n",
      "465338  0.0464  0.1074  0.0073  0.0024  0.0146  0.2026  0.0024  0.0024   \n",
      "465339  0.0659  0.1099  0.0073  0.0024  0.0269  0.2808  0.0024  0.0024   \n",
      "465340  0.0781  0.1099  0.0073  0.0024  0.0293  0.3027  0.0024  0.0024   \n",
      "465341  0.0781  0.1099  0.0073  0.0024  0.0244  0.2832  0.0024  0.0024   \n",
      "465342  0.0708  0.1074  0.0073  0.0024  0.0146  0.2466  0.0024  0.0024   \n",
      "\n",
      "          Emg9   Emg10  repetition  rerepetition  stimulus  restimulus  \n",
      "0       0.0024  0.1294           0             0         0           0  \n",
      "1       0.0024  0.1294           0             0         0           0  \n",
      "2       0.0024  0.1318           0             0         0           0  \n",
      "3       0.0024  0.1416           0             0         0           0  \n",
      "4       0.0024  0.1465           0             0         0           0  \n",
      "...        ...     ...         ...           ...       ...         ...  \n",
      "465338  0.1074  0.0317           0             0         0           0  \n",
      "465339  0.1074  0.0293           0             0         0           0  \n",
      "465340  0.1074  0.0244           0             0         0           0  \n",
      "465341  0.1074  0.0171           0             0         0           0  \n",
      "465342  0.1050  0.0098           0             0         0           0  \n",
      "\n",
      "[387008 rows x 14 columns]\n"
     ]
    }
   ],
   "source": [
    "index_names = raw_data[ (raw_data['stimulus'] != raw_data['restimulus'])].index\n",
    "raw_data.drop(index_names, inplace = True)\n",
    "print(raw_data)"
   ]
  },
  {
   "cell_type": "code",
   "execution_count": 4,
   "id": "067ca8ea",
   "metadata": {},
   "outputs": [
    {
     "name": "stdout",
     "output_type": "stream",
     "text": [
      "          Emg1    Emg2    Emg3    Emg4    Emg5    Emg6    Emg7    Emg8  \\\n",
      "0       0.0024  0.0024  0.0024  0.0024  0.0024  0.0024  0.0635  0.0391   \n",
      "1       0.0024  0.0024  0.0024  0.0024  0.0024  0.0024  0.0684  0.0342   \n",
      "2       0.0024  0.0024  0.0024  0.0024  0.0024  0.0024  0.0684  0.0293   \n",
      "3       0.0024  0.0024  0.0024  0.0024  0.0024  0.0024  0.0659  0.0269   \n",
      "4       0.0024  0.0024  0.0024  0.0024  0.0024  0.0024  0.0610  0.0244   \n",
      "...        ...     ...     ...     ...     ...     ...     ...     ...   \n",
      "465338  0.0464  0.1074  0.0073  0.0024  0.0146  0.2026  0.0024  0.0024   \n",
      "465339  0.0659  0.1099  0.0073  0.0024  0.0269  0.2808  0.0024  0.0024   \n",
      "465340  0.0781  0.1099  0.0073  0.0024  0.0293  0.3027  0.0024  0.0024   \n",
      "465341  0.0781  0.1099  0.0073  0.0024  0.0244  0.2832  0.0024  0.0024   \n",
      "465342  0.0708  0.1074  0.0073  0.0024  0.0146  0.2466  0.0024  0.0024   \n",
      "\n",
      "          Emg9   Emg10  repetition  rerepetition  stimulus  restimulus  \n",
      "0       0.0024  0.1294           0             0         0           0  \n",
      "1       0.0024  0.1294           0             0         0           0  \n",
      "2       0.0024  0.1318           0             0         0           0  \n",
      "3       0.0024  0.1416           0             0         0           0  \n",
      "4       0.0024  0.1465           0             0         0           0  \n",
      "...        ...     ...         ...           ...       ...         ...  \n",
      "465338  0.1074  0.0317           0             0         0           0  \n",
      "465339  0.1074  0.0293           0             0         0           0  \n",
      "465340  0.1074  0.0244           0             0         0           0  \n",
      "465341  0.1074  0.0171           0             0         0           0  \n",
      "465342  0.1050  0.0098           0             0         0           0  \n",
      "\n",
      "[387008 rows x 14 columns]\n"
     ]
    }
   ],
   "source": [
    "index_names = raw_data[ (raw_data['repetition'] != raw_data['rerepetition'])].index\n",
    "raw_data.drop(index_names, inplace = True)\n",
    "print(raw_data)"
   ]
  },
  {
   "cell_type": "code",
   "execution_count": 5,
   "id": "29f6ce7e",
   "metadata": {},
   "outputs": [],
   "source": [
    "X = raw_data.iloc[:,0:10]\n",
    "y = raw_data.stimulus"
   ]
  },
  {
   "cell_type": "code",
   "execution_count": 6,
   "id": "122e10b4",
   "metadata": {},
   "outputs": [],
   "source": [
    "x_train, x_test, y_train, y_test = train_test_split(X, y, test_size=0.33, random_state=33)\n"
   ]
  },
  {
   "cell_type": "markdown",
   "id": "16aea764",
   "metadata": {},
   "source": [
    "# Recursive Feature Elimination with Cross Validation"
   ]
  },
  {
   "cell_type": "code",
   "execution_count": 7,
   "id": "32212ddc",
   "metadata": {},
   "outputs": [],
   "source": [
    "from sklearn.ensemble import RandomForestClassifier\n",
    "clf_lr = RandomForestClassifier()"
   ]
  },
  {
   "cell_type": "code",
   "execution_count": 8,
   "id": "55fa0031",
   "metadata": {},
   "outputs": [
    {
     "name": "stdout",
     "output_type": "stream",
     "text": [
      "Optimal number of features : 10\n",
      "Best features : Index(['Emg1', 'Emg2', 'Emg3', 'Emg4', 'Emg5', 'Emg6', 'Emg7', 'Emg8', 'Emg9',\n",
      "       'Emg10'],\n",
      "      dtype='object')\n"
     ]
    }
   ],
   "source": [
    "rfecv = RFECV(estimator=clf_lr, step=1, cv=5, scoring='accuracy')\n",
    "rfecv = rfecv.fit(x_train, y_train)\n",
    "print('Optimal number of features :', rfecv.n_features_)\n",
    "print('Best features :', x_train.columns[rfecv.support_])"
   ]
  },
  {
   "cell_type": "code",
   "execution_count": 9,
   "id": "9fa32efd",
   "metadata": {},
   "outputs": [
    {
     "name": "stderr",
     "output_type": "stream",
     "text": [
      "C:\\Users\\nafem\\anaconda3\\lib\\site-packages\\sklearn\\utils\\deprecation.py:103: FutureWarning: The `grid_scores_` attribute is deprecated in version 1.0 in favor of `cv_results_` and will be removed in version 1.2.\n",
      "  warnings.warn(msg, category=FutureWarning)\n"
     ]
    },
    {
     "data": {
      "text/plain": [
       "array([[0.51873349, 0.51807786, 0.51863707, 0.51753794, 0.51800073],\n",
       "       [0.49977824, 0.49906477, 0.50037602, 0.49979753, 0.499489  ],\n",
       "       [0.61566941, 0.61445458, 0.61906323, 0.6188704 , 0.61642145],\n",
       "       [0.76168071, 0.76152645, 0.76397539, 0.76220135, 0.7610058 ],\n",
       "       [0.84529204, 0.84897511, 0.84749031, 0.84918722, 0.8388515 ],\n",
       "       [0.8908579 , 0.89305617, 0.89517731, 0.89386606, 0.89315259],\n",
       "       [0.91162575, 0.91563663, 0.91619584, 0.91255134, 0.91671648],\n",
       "       [0.92606876, 0.92722575, 0.92799707, 0.9279585 , 0.9283056 ],\n",
       "       [0.93474614, 0.9353632 , 0.93534391, 0.93582599, 0.93598025],\n",
       "       [0.94193872, 0.94236295, 0.94151449, 0.94323068, 0.94170732]])"
      ]
     },
     "execution_count": 9,
     "metadata": {},
     "output_type": "execute_result"
    }
   ],
   "source": [
    "rfecv.grid_scores_"
   ]
  },
  {
   "cell_type": "code",
   "execution_count": 10,
   "id": "febae4af",
   "metadata": {},
   "outputs": [
    {
     "data": {
      "image/png": "[encoded data removed]",
      "text/plain": [
       "<Figure size 432x288 with 1 Axes>"
      ]
     },
     "metadata": {
      "needs_background": "light"
     },
     "output_type": "display_data"
    }
   ],
   "source": [
    "plt.figure()\n",
    "plt.xlabel(\"Number of features selected\")\n",
    "plt.ylabel(\"Cross validation score of number of selected features\")\n",
    "plt.plot(range(1, len(rfecv.grid_scores_) + 1), rfecv.grid_scores_)\n",
    "plt.show()"
   ]
  },
  {
   "cell_type": "code",
   "execution_count": 11,
   "id": "c89ec9f0",
   "metadata": {},
   "outputs": [],
   "source": [
    "x_train_rfecv = rfecv.transform(x_train)\n",
    "x_test_rfecv = rfecv.transform(x_test)"
   ]
  },
  {
   "cell_type": "code",
   "execution_count": null,
   "id": "d1053f5e",
   "metadata": {},
   "outputs": [],
   "source": []
  }
 ],
 "metadata": {
  "kernelspec": {
   "display_name": "Python 3 (ipykernel)",
   "language": "python",
   "name": "python3"
  },
  "language_info": {
   "codemirror_mode": {
    "name": "ipython",
    "version": 3
   },
   "file_extension": ".py",
   "mimetype": "text/x-python",
   "name": "python",
   "nbconvert_exporter": "python",
   "pygments_lexer": "ipython3",
   "version": "3.8.12"
  }
 },
 "nbformat": 4,
 "nbformat_minor": 5
}
