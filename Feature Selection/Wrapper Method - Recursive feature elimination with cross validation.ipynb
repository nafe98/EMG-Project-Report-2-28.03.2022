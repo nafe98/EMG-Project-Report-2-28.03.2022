{
 "cells": [
  {
   "cell_type": "markdown",
   "id": "798f8e9b",
   "metadata": {},
   "source": [
    "# Importing Libraries"
   ]
  },
  {
   "cell_type": "code",
   "execution_count": 1,
   "id": "94303a1a",
   "metadata": {},
   "outputs": [],
   "source": [
    "import matplotlib.pyplot as plt\n",
    "import numpy as np\n",
    "import pandas as pd\n",
    "import seaborn as sns\n",
    "import warnings\n",
    "from sklearn.feature_selection import RFE\n",
    "from sklearn.feature_selection import RFECV\n",
    "from sklearn.feature_selection import SelectKBest, chi2\n",
    "from sklearn.linear_model import LogisticRegression\n",
    "from sklearn.metrics import accuracy_score, f1_score\n",
    "from sklearn.metrics import f1_score,confusion_matrix\n",
    "from sklearn.model_selection import train_test_split"
   ]
  },
  {
   "cell_type": "markdown",
   "id": "e537caf4",
   "metadata": {},
   "source": [
    "# Loading Data"
   ]
  },
  {
   "cell_type": "code",
   "execution_count": 2,
   "id": "9bbde2fc",
   "metadata": {},
   "outputs": [],
   "source": [
    "raw_data = pd.read_excel('Dataset 1 Patient 1.xlsx')"
   ]
  },
  {
   "cell_type": "code",
   "execution_count": 3,
   "id": "b90384a4",
   "metadata": {},
   "outputs": [
    {
     "name": "stdout",
     "output_type": "stream",
     "text": [
      "          Emg1    Emg2    Emg3    Emg4    Emg5    Emg6    Emg7    Emg8  \\\n",
      "0       0.0684  0.0024  0.0024  0.0024  0.0024  0.0098  0.0024  0.0488   \n",
      "1       0.0586  0.0024  0.0024  0.0024  0.0024  0.0049  0.0024  0.0415   \n",
      "2       0.0562  0.0024  0.0024  0.0024  0.0024  0.0049  0.0024  0.0391   \n",
      "3       0.0562  0.0024  0.0024  0.0024  0.0024  0.0049  0.0024  0.0342   \n",
      "4       0.0488  0.0024  0.0024  0.0024  0.0024  0.0024  0.0024  0.0366   \n",
      "...        ...     ...     ...     ...     ...     ...     ...     ...   \n",
      "471478  0.0024  0.0024  0.0024  0.0024  0.0024  0.0024  0.0024  0.0562   \n",
      "471479  0.0024  0.0024  0.0024  0.0024  0.0024  0.0049  0.0024  0.0513   \n",
      "471480  0.0024  0.0024  0.0024  0.0024  0.0024  0.0024  0.0024  0.0513   \n",
      "471481  0.0024  0.0024  0.0024  0.0024  0.0024  0.0024  0.0024  0.0488   \n",
      "471482  0.0024  0.0024  0.0024  0.0024  0.0024  0.0024  0.0024  0.0439   \n",
      "\n",
      "          Emg9   Emg10  repetition  rerepetition  stimulus  restimulus  \n",
      "0       0.0024  0.0342           0             0         0           0  \n",
      "1       0.0024  0.0293           0             0         0           0  \n",
      "2       0.0024  0.0244           0             0         0           0  \n",
      "3       0.0024  0.0171           0             0         0           0  \n",
      "4       0.0024  0.0146           0             0         0           0  \n",
      "...        ...     ...         ...           ...       ...         ...  \n",
      "471478  0.1221  0.0024           0             0         0           0  \n",
      "471479  0.1270  0.0024           0             0         0           0  \n",
      "471480  0.1270  0.0024           0             0         0           0  \n",
      "471481  0.1294  0.0024           0             0         0           0  \n",
      "471482  0.1294  0.0024           0             0         0           0  \n",
      "\n",
      "[413687 rows x 14 columns]\n"
     ]
    }
   ],
   "source": [
    "index_names = raw_data[ (raw_data['stimulus'] != raw_data['restimulus'])].index\n",
    "raw_data.drop(index_names, inplace = True)\n",
    "print(raw_data)"
   ]
  },
  {
   "cell_type": "code",
   "execution_count": 4,
   "id": "067ca8ea",
   "metadata": {},
   "outputs": [
    {
     "name": "stdout",
     "output_type": "stream",
     "text": [
      "          Emg1    Emg2    Emg3    Emg4    Emg5    Emg6    Emg7    Emg8  \\\n",
      "0       0.0684  0.0024  0.0024  0.0024  0.0024  0.0098  0.0024  0.0488   \n",
      "1       0.0586  0.0024  0.0024  0.0024  0.0024  0.0049  0.0024  0.0415   \n",
      "2       0.0562  0.0024  0.0024  0.0024  0.0024  0.0049  0.0024  0.0391   \n",
      "3       0.0562  0.0024  0.0024  0.0024  0.0024  0.0049  0.0024  0.0342   \n",
      "4       0.0488  0.0024  0.0024  0.0024  0.0024  0.0024  0.0024  0.0366   \n",
      "...        ...     ...     ...     ...     ...     ...     ...     ...   \n",
      "471478  0.0024  0.0024  0.0024  0.0024  0.0024  0.0024  0.0024  0.0562   \n",
      "471479  0.0024  0.0024  0.0024  0.0024  0.0024  0.0049  0.0024  0.0513   \n",
      "471480  0.0024  0.0024  0.0024  0.0024  0.0024  0.0024  0.0024  0.0513   \n",
      "471481  0.0024  0.0024  0.0024  0.0024  0.0024  0.0024  0.0024  0.0488   \n",
      "471482  0.0024  0.0024  0.0024  0.0024  0.0024  0.0024  0.0024  0.0439   \n",
      "\n",
      "          Emg9   Emg10  repetition  rerepetition  stimulus  restimulus  \n",
      "0       0.0024  0.0342           0             0         0           0  \n",
      "1       0.0024  0.0293           0             0         0           0  \n",
      "2       0.0024  0.0244           0             0         0           0  \n",
      "3       0.0024  0.0171           0             0         0           0  \n",
      "4       0.0024  0.0146           0             0         0           0  \n",
      "...        ...     ...         ...           ...       ...         ...  \n",
      "471478  0.1221  0.0024           0             0         0           0  \n",
      "471479  0.1270  0.0024           0             0         0           0  \n",
      "471480  0.1270  0.0024           0             0         0           0  \n",
      "471481  0.1294  0.0024           0             0         0           0  \n",
      "471482  0.1294  0.0024           0             0         0           0  \n",
      "\n",
      "[378535 rows x 14 columns]\n"
     ]
    }
   ],
   "source": [
    "index_names = raw_data[ (raw_data['repetition'] != raw_data['rerepetition'])].index\n",
    "raw_data.drop(index_names, inplace = True)\n",
    "print(raw_data)"
   ]
  },
  {
   "cell_type": "code",
   "execution_count": 5,
   "id": "29f6ce7e",
   "metadata": {},
   "outputs": [],
   "source": [
    "X = raw_data.iloc[:,0:10]\n",
    "y = raw_data.stimulus"
   ]
  },
  {
   "cell_type": "code",
   "execution_count": 6,
   "id": "122e10b4",
   "metadata": {},
   "outputs": [],
   "source": [
    "x_train, x_test, y_train, y_test = train_test_split(X, y, test_size=0.33, random_state=33)\n"
   ]
  },
  {
   "cell_type": "markdown",
   "id": "16aea764",
   "metadata": {},
   "source": [
    "# Recursive Feature Elimination with Cross Validation"
   ]
  },
  {
   "cell_type": "code",
   "execution_count": 7,
   "id": "32212ddc",
   "metadata": {},
   "outputs": [],
   "source": [
    "from sklearn.ensemble import RandomForestClassifier\n",
    "clf_lr = RandomForestClassifier()"
   ]
  },
  {
   "cell_type": "code",
   "execution_count": 8,
   "id": "55fa0031",
   "metadata": {},
   "outputs": [
    {
     "name": "stdout",
     "output_type": "stream",
     "text": [
      "Optimal number of features : 10\n",
      "Best features : Index(['Emg1', 'Emg2', 'Emg3', 'Emg4', 'Emg5', 'Emg6', 'Emg7', 'Emg8', 'Emg9',\n",
      "       'Emg10'],\n",
      "      dtype='object')\n"
     ]
    }
   ],
   "source": [
    "rfecv = RFECV(estimator=clf_lr, step=1, cv=5, scoring='accuracy')\n",
    "rfecv = rfecv.fit(x_train, y_train)\n",
    "print('Optimal number of features :', rfecv.n_features_)\n",
    "print('Best features :', x_train.columns[rfecv.support_])"
   ]
  },
  {
   "cell_type": "code",
   "execution_count": 9,
   "id": "9fa32efd",
   "metadata": {},
   "outputs": [
    {
     "name": "stderr",
     "output_type": "stream",
     "text": [
      "C:\\Users\\nafem\\anaconda3\\lib\\site-packages\\sklearn\\utils\\deprecation.py:103: FutureWarning: The `grid_scores_` attribute is deprecated in version 1.0 in favor of `cv_results_` and will be removed in version 1.2.\n",
      "  warnings.warn(msg, category=FutureWarning)\n"
     ]
    },
    {
     "data": {
      "text/plain": [
       "array([[0.54339169, 0.54487028, 0.54071051, 0.54612306, 0.54411214],\n",
       "       [0.56371737, 0.56146992, 0.5412428 , 0.56303846, 0.56274274],\n",
       "       [0.64040691, 0.62838104, 0.6260153 , 0.62809771, 0.63531337],\n",
       "       [0.72519912, 0.72107878, 0.7227348 , 0.72393194, 0.72046212],\n",
       "       [0.80742844, 0.80293352, 0.80703415, 0.8043294 , 0.80269306],\n",
       "       [0.85949452, 0.85714849, 0.85927766, 0.85815113, 0.85996491],\n",
       "       [0.89212207, 0.89028862, 0.87970192, 0.89079905, 0.89227766],\n",
       "       [0.90594196, 0.90377336, 0.9049168 , 0.9043432 , 0.90554581],\n",
       "       [0.91577951, 0.91428121, 0.9149515 , 0.91410208, 0.91552156],\n",
       "       [0.92127987, 0.91960413, 0.92066872, 0.91999685, 0.92043057]])"
      ]
     },
     "execution_count": 9,
     "metadata": {},
     "output_type": "execute_result"
    }
   ],
   "source": [
    "rfecv.grid_scores_"
   ]
  },
  {
   "cell_type": "code",
   "execution_count": 10,
   "id": "febae4af",
   "metadata": {},
   "outputs": [
    {
     "data": {
      "image/png": "[encoded data removed]",
      "text/plain": [
       "<Figure size 432x288 with 1 Axes>"
      ]
     },
     "metadata": {
      "needs_background": "light"
     },
     "output_type": "display_data"
    }
   ],
   "source": [
    "plt.figure()\n",
    "plt.xlabel(\"Number of features selected\")\n",
    "plt.ylabel(\"Cross validation score of number of selected features\")\n",
    "plt.plot(range(1, len(rfecv.grid_scores_) + 1), rfecv.grid_scores_)\n",
    "plt.show()"
   ]
  },
  {
   "cell_type": "code",
   "execution_count": 11,
   "id": "c89ec9f0",
   "metadata": {},
   "outputs": [],
   "source": [
    "x_train_rfecv = rfecv.transform(x_train)\n",
    "x_test_rfecv = rfecv.transform(x_test)"
   ]
  },
  {
   "cell_type": "code",
   "execution_count": null,
   "id": "d1053f5e",
   "metadata": {},
   "outputs": [],
   "source": []
  }
 ],
 "metadata": {
  "kernelspec": {
   "display_name": "Python 3 (ipykernel)",
   "language": "python",
   "name": "python3"
  },
  "language_info": {
   "codemirror_mode": {
    "name": "ipython",
    "version": 3
   },
   "file_extension": ".py",
   "mimetype": "text/x-python",
   "name": "python",
   "nbconvert_exporter": "python",
   "pygments_lexer": "ipython3",
   "version": "3.8.12"
  }
 },
 "nbformat": 4,
 "nbformat_minor": 5
}
