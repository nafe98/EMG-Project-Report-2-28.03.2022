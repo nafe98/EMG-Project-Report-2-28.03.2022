{
 "cells": [
  {
   "cell_type": "markdown",
   "id": "6978444d",
   "metadata": {},
   "source": [
    "Reference : https://machinelearningmastery.com/calculate-feature-importance-with-python/"
   ]
  },
  {
   "cell_type": "markdown",
   "id": "ca4f9bf1",
   "metadata": {},
   "source": [
    "https://www.javatpoint.com/feature-selection-techniques-in-machine-learning"
   ]
  },
  {
   "cell_type": "markdown",
   "id": "7505cc25",
   "metadata": {},
   "source": [
    "# Import libraries"
   ]
  },
  {
   "cell_type": "code",
   "execution_count": 1,
   "id": "5382a385",
   "metadata": {},
   "outputs": [],
   "source": [
    "import numpy as np\n",
    "import pandas as pd\n",
    "from sklearn import preprocessing\n",
    "from sklearn.preprocessing import StandardScaler\n",
    "from sklearn.model_selection import train_test_split\n",
    "from sklearn import tree\n",
    "from sklearn.ensemble import RandomForestClassifier\n",
    "import matplotlib.pyplot as plt\n",
    "import matplotlib.pyplot as pyplot"
   ]
  },
  {
   "cell_type": "markdown",
   "id": "a57c0c2f",
   "metadata": {},
   "source": [
    "# loading Data"
   ]
  },
  {
   "cell_type": "code",
   "execution_count": 2,
   "id": "d05ff570",
   "metadata": {},
   "outputs": [],
   "source": [
    "raw_data = pd.read_excel('Dataset 1 Patient 1.xlsx')"
   ]
  },
  {
   "cell_type": "code",
   "execution_count": 3,
   "id": "9a330a78",
   "metadata": {},
   "outputs": [
    {
     "name": "stdout",
     "output_type": "stream",
     "text": [
      "          Emg1    Emg2    Emg3    Emg4    Emg5    Emg6    Emg7    Emg8  \\\n",
      "0       0.0684  0.0024  0.0024  0.0024  0.0024  0.0098  0.0024  0.0488   \n",
      "1       0.0586  0.0024  0.0024  0.0024  0.0024  0.0049  0.0024  0.0415   \n",
      "2       0.0562  0.0024  0.0024  0.0024  0.0024  0.0049  0.0024  0.0391   \n",
      "3       0.0562  0.0024  0.0024  0.0024  0.0024  0.0049  0.0024  0.0342   \n",
      "4       0.0488  0.0024  0.0024  0.0024  0.0024  0.0024  0.0024  0.0366   \n",
      "...        ...     ...     ...     ...     ...     ...     ...     ...   \n",
      "471478  0.0024  0.0024  0.0024  0.0024  0.0024  0.0024  0.0024  0.0562   \n",
      "471479  0.0024  0.0024  0.0024  0.0024  0.0024  0.0049  0.0024  0.0513   \n",
      "471480  0.0024  0.0024  0.0024  0.0024  0.0024  0.0024  0.0024  0.0513   \n",
      "471481  0.0024  0.0024  0.0024  0.0024  0.0024  0.0024  0.0024  0.0488   \n",
      "471482  0.0024  0.0024  0.0024  0.0024  0.0024  0.0024  0.0024  0.0439   \n",
      "\n",
      "          Emg9   Emg10  repetition  rerepetition  stimulus  restimulus  \n",
      "0       0.0024  0.0342           0             0         0           0  \n",
      "1       0.0024  0.0293           0             0         0           0  \n",
      "2       0.0024  0.0244           0             0         0           0  \n",
      "3       0.0024  0.0171           0             0         0           0  \n",
      "4       0.0024  0.0146           0             0         0           0  \n",
      "...        ...     ...         ...           ...       ...         ...  \n",
      "471478  0.1221  0.0024           0             0         0           0  \n",
      "471479  0.1270  0.0024           0             0         0           0  \n",
      "471480  0.1270  0.0024           0             0         0           0  \n",
      "471481  0.1294  0.0024           0             0         0           0  \n",
      "471482  0.1294  0.0024           0             0         0           0  \n",
      "\n",
      "[413687 rows x 14 columns]\n"
     ]
    }
   ],
   "source": [
    "index_names = raw_data[ (raw_data['stimulus'] != raw_data['restimulus'])].index\n",
    "raw_data.drop(index_names, inplace = True)\n",
    "print(raw_data)"
   ]
  },
  {
   "cell_type": "code",
   "execution_count": 4,
   "id": "14bf2665",
   "metadata": {},
   "outputs": [
    {
     "name": "stdout",
     "output_type": "stream",
     "text": [
      "          Emg1    Emg2    Emg3    Emg4    Emg5    Emg6    Emg7    Emg8  \\\n",
      "0       0.0684  0.0024  0.0024  0.0024  0.0024  0.0098  0.0024  0.0488   \n",
      "1       0.0586  0.0024  0.0024  0.0024  0.0024  0.0049  0.0024  0.0415   \n",
      "2       0.0562  0.0024  0.0024  0.0024  0.0024  0.0049  0.0024  0.0391   \n",
      "3       0.0562  0.0024  0.0024  0.0024  0.0024  0.0049  0.0024  0.0342   \n",
      "4       0.0488  0.0024  0.0024  0.0024  0.0024  0.0024  0.0024  0.0366   \n",
      "...        ...     ...     ...     ...     ...     ...     ...     ...   \n",
      "471478  0.0024  0.0024  0.0024  0.0024  0.0024  0.0024  0.0024  0.0562   \n",
      "471479  0.0024  0.0024  0.0024  0.0024  0.0024  0.0049  0.0024  0.0513   \n",
      "471480  0.0024  0.0024  0.0024  0.0024  0.0024  0.0024  0.0024  0.0513   \n",
      "471481  0.0024  0.0024  0.0024  0.0024  0.0024  0.0024  0.0024  0.0488   \n",
      "471482  0.0024  0.0024  0.0024  0.0024  0.0024  0.0024  0.0024  0.0439   \n",
      "\n",
      "          Emg9   Emg10  repetition  rerepetition  stimulus  restimulus  \n",
      "0       0.0024  0.0342           0             0         0           0  \n",
      "1       0.0024  0.0293           0             0         0           0  \n",
      "2       0.0024  0.0244           0             0         0           0  \n",
      "3       0.0024  0.0171           0             0         0           0  \n",
      "4       0.0024  0.0146           0             0         0           0  \n",
      "...        ...     ...         ...           ...       ...         ...  \n",
      "471478  0.1221  0.0024           0             0         0           0  \n",
      "471479  0.1270  0.0024           0             0         0           0  \n",
      "471480  0.1270  0.0024           0             0         0           0  \n",
      "471481  0.1294  0.0024           0             0         0           0  \n",
      "471482  0.1294  0.0024           0             0         0           0  \n",
      "\n",
      "[378535 rows x 14 columns]\n"
     ]
    }
   ],
   "source": [
    "index_names = raw_data[ (raw_data['repetition'] != raw_data['rerepetition'])].index\n",
    "raw_data.drop(index_names, inplace = True)\n",
    "print(raw_data)"
   ]
  },
  {
   "cell_type": "code",
   "execution_count": 5,
   "id": "6af5981b",
   "metadata": {},
   "outputs": [
    {
     "data": {
      "text/html": [
       "<div>\n",
       "<style scoped>\n",
       "    .dataframe tbody tr th:only-of-type {\n",
       "        vertical-align: middle;\n",
       "    }\n",
       "\n",
       "    .dataframe tbody tr th {\n",
       "        vertical-align: top;\n",
       "    }\n",
       "\n",
       "    .dataframe thead th {\n",
       "        text-align: right;\n",
       "    }\n",
       "</style>\n",
       "<table border=\"1\" class=\"dataframe\">\n",
       "  <thead>\n",
       "    <tr style=\"text-align: right;\">\n",
       "      <th></th>\n",
       "      <th>Emg1</th>\n",
       "      <th>Emg2</th>\n",
       "      <th>Emg3</th>\n",
       "      <th>Emg4</th>\n",
       "      <th>Emg5</th>\n",
       "      <th>Emg6</th>\n",
       "      <th>Emg7</th>\n",
       "      <th>Emg8</th>\n",
       "      <th>Emg9</th>\n",
       "      <th>Emg10</th>\n",
       "      <th>repetition</th>\n",
       "      <th>rerepetition</th>\n",
       "      <th>stimulus</th>\n",
       "      <th>restimulus</th>\n",
       "    </tr>\n",
       "  </thead>\n",
       "  <tbody>\n",
       "    <tr>\n",
       "      <th>count</th>\n",
       "      <td>378535.000000</td>\n",
       "      <td>378535.000000</td>\n",
       "      <td>378535.000000</td>\n",
       "      <td>378535.000000</td>\n",
       "      <td>378535.000000</td>\n",
       "      <td>378535.000000</td>\n",
       "      <td>378535.000000</td>\n",
       "      <td>378535.000000</td>\n",
       "      <td>378535.000000</td>\n",
       "      <td>378535.000000</td>\n",
       "      <td>378535.000000</td>\n",
       "      <td>378535.000000</td>\n",
       "      <td>378535.000000</td>\n",
       "      <td>378535.000000</td>\n",
       "    </tr>\n",
       "    <tr>\n",
       "      <th>mean</th>\n",
       "      <td>0.153991</td>\n",
       "      <td>0.151130</td>\n",
       "      <td>0.150774</td>\n",
       "      <td>0.053733</td>\n",
       "      <td>0.015006</td>\n",
       "      <td>0.017358</td>\n",
       "      <td>0.260184</td>\n",
       "      <td>0.265908</td>\n",
       "      <td>0.123911</td>\n",
       "      <td>0.079961</td>\n",
       "      <td>2.598087</td>\n",
       "      <td>2.598087</td>\n",
       "      <td>4.777310</td>\n",
       "      <td>4.777310</td>\n",
       "    </tr>\n",
       "    <tr>\n",
       "      <th>std</th>\n",
       "      <td>0.313319</td>\n",
       "      <td>0.353818</td>\n",
       "      <td>0.369052</td>\n",
       "      <td>0.184839</td>\n",
       "      <td>0.035486</td>\n",
       "      <td>0.046335</td>\n",
       "      <td>0.519964</td>\n",
       "      <td>0.384472</td>\n",
       "      <td>0.243624</td>\n",
       "      <td>0.166058</td>\n",
       "      <td>3.381989</td>\n",
       "      <td>3.381989</td>\n",
       "      <td>6.598915</td>\n",
       "      <td>6.598915</td>\n",
       "    </tr>\n",
       "    <tr>\n",
       "      <th>min</th>\n",
       "      <td>0.002400</td>\n",
       "      <td>0.000000</td>\n",
       "      <td>0.002400</td>\n",
       "      <td>0.000000</td>\n",
       "      <td>0.002400</td>\n",
       "      <td>0.000000</td>\n",
       "      <td>0.002400</td>\n",
       "      <td>0.002400</td>\n",
       "      <td>0.000000</td>\n",
       "      <td>0.002400</td>\n",
       "      <td>0.000000</td>\n",
       "      <td>0.000000</td>\n",
       "      <td>0.000000</td>\n",
       "      <td>0.000000</td>\n",
       "    </tr>\n",
       "    <tr>\n",
       "      <th>25%</th>\n",
       "      <td>0.002400</td>\n",
       "      <td>0.002400</td>\n",
       "      <td>0.002400</td>\n",
       "      <td>0.002400</td>\n",
       "      <td>0.002400</td>\n",
       "      <td>0.002400</td>\n",
       "      <td>0.014600</td>\n",
       "      <td>0.068400</td>\n",
       "      <td>0.002400</td>\n",
       "      <td>0.009800</td>\n",
       "      <td>0.000000</td>\n",
       "      <td>0.000000</td>\n",
       "      <td>0.000000</td>\n",
       "      <td>0.000000</td>\n",
       "    </tr>\n",
       "    <tr>\n",
       "      <th>50%</th>\n",
       "      <td>0.026900</td>\n",
       "      <td>0.002400</td>\n",
       "      <td>0.002400</td>\n",
       "      <td>0.002400</td>\n",
       "      <td>0.002400</td>\n",
       "      <td>0.002400</td>\n",
       "      <td>0.061000</td>\n",
       "      <td>0.124500</td>\n",
       "      <td>0.048800</td>\n",
       "      <td>0.041500</td>\n",
       "      <td>0.000000</td>\n",
       "      <td>0.000000</td>\n",
       "      <td>0.000000</td>\n",
       "      <td>0.000000</td>\n",
       "    </tr>\n",
       "    <tr>\n",
       "      <th>75%</th>\n",
       "      <td>0.151400</td>\n",
       "      <td>0.129400</td>\n",
       "      <td>0.109900</td>\n",
       "      <td>0.026900</td>\n",
       "      <td>0.004900</td>\n",
       "      <td>0.004900</td>\n",
       "      <td>0.256300</td>\n",
       "      <td>0.305200</td>\n",
       "      <td>0.148900</td>\n",
       "      <td>0.070800</td>\n",
       "      <td>5.000000</td>\n",
       "      <td>5.000000</td>\n",
       "      <td>9.000000</td>\n",
       "      <td>9.000000</td>\n",
       "    </tr>\n",
       "    <tr>\n",
       "      <th>max</th>\n",
       "      <td>4.665500</td>\n",
       "      <td>4.663100</td>\n",
       "      <td>4.658200</td>\n",
       "      <td>4.663100</td>\n",
       "      <td>0.876500</td>\n",
       "      <td>1.484400</td>\n",
       "      <td>4.663100</td>\n",
       "      <td>4.665500</td>\n",
       "      <td>4.660600</td>\n",
       "      <td>4.231000</td>\n",
       "      <td>10.000000</td>\n",
       "      <td>10.000000</td>\n",
       "      <td>23.000000</td>\n",
       "      <td>23.000000</td>\n",
       "    </tr>\n",
       "  </tbody>\n",
       "</table>\n",
       "</div>"
      ],
      "text/plain": [
       "                Emg1           Emg2           Emg3           Emg4  \\\n",
       "count  378535.000000  378535.000000  378535.000000  378535.000000   \n",
       "mean        0.153991       0.151130       0.150774       0.053733   \n",
       "std         0.313319       0.353818       0.369052       0.184839   \n",
       "min         0.002400       0.000000       0.002400       0.000000   \n",
       "25%         0.002400       0.002400       0.002400       0.002400   \n",
       "50%         0.026900       0.002400       0.002400       0.002400   \n",
       "75%         0.151400       0.129400       0.109900       0.026900   \n",
       "max         4.665500       4.663100       4.658200       4.663100   \n",
       "\n",
       "                Emg5           Emg6           Emg7           Emg8  \\\n",
       "count  378535.000000  378535.000000  378535.000000  378535.000000   \n",
       "mean        0.015006       0.017358       0.260184       0.265908   \n",
       "std         0.035486       0.046335       0.519964       0.384472   \n",
       "min         0.002400       0.000000       0.002400       0.002400   \n",
       "25%         0.002400       0.002400       0.014600       0.068400   \n",
       "50%         0.002400       0.002400       0.061000       0.124500   \n",
       "75%         0.004900       0.004900       0.256300       0.305200   \n",
       "max         0.876500       1.484400       4.663100       4.665500   \n",
       "\n",
       "                Emg9          Emg10     repetition   rerepetition  \\\n",
       "count  378535.000000  378535.000000  378535.000000  378535.000000   \n",
       "mean        0.123911       0.079961       2.598087       2.598087   \n",
       "std         0.243624       0.166058       3.381989       3.381989   \n",
       "min         0.000000       0.002400       0.000000       0.000000   \n",
       "25%         0.002400       0.009800       0.000000       0.000000   \n",
       "50%         0.048800       0.041500       0.000000       0.000000   \n",
       "75%         0.148900       0.070800       5.000000       5.000000   \n",
       "max         4.660600       4.231000      10.000000      10.000000   \n",
       "\n",
       "            stimulus     restimulus  \n",
       "count  378535.000000  378535.000000  \n",
       "mean        4.777310       4.777310  \n",
       "std         6.598915       6.598915  \n",
       "min         0.000000       0.000000  \n",
       "25%         0.000000       0.000000  \n",
       "50%         0.000000       0.000000  \n",
       "75%         9.000000       9.000000  \n",
       "max        23.000000      23.000000  "
      ]
     },
     "execution_count": 5,
     "metadata": {},
     "output_type": "execute_result"
    }
   ],
   "source": [
    "raw_data.describe(include='all')"
   ]
  },
  {
   "cell_type": "code",
   "execution_count": 6,
   "id": "cf1eef80",
   "metadata": {},
   "outputs": [],
   "source": [
    "X = raw_data.iloc[:,0:10]\n",
    "y = raw_data.stimulus"
   ]
  },
  {
   "cell_type": "code",
   "execution_count": 7,
   "id": "1304508a",
   "metadata": {},
   "outputs": [],
   "source": [
    "# Normalize feature vector\n",
    "X2 = StandardScaler().fit_transform(X)"
   ]
  },
  {
   "cell_type": "code",
   "execution_count": 8,
   "id": "9ea52edc",
   "metadata": {},
   "outputs": [],
   "source": [
    "# Split the dataset\n",
    "X_train, X_test, y_train, y_test = train_test_split(X2, y, test_size = 0.30, random_state = 0)"
   ]
  },
  {
   "cell_type": "code",
   "execution_count": 9,
   "id": "9f8549e5",
   "metadata": {},
   "outputs": [],
   "source": [
    "# instantiate the classifier with n_estimators = 100\n",
    "clf = RandomForestClassifier(n_estimators=100, random_state=0)"
   ]
  },
  {
   "cell_type": "code",
   "execution_count": 10,
   "id": "d0d9d563",
   "metadata": {},
   "outputs": [
    {
     "data": {
      "text/plain": [
       "RandomForestClassifier(random_state=0)"
      ]
     },
     "execution_count": 10,
     "metadata": {},
     "output_type": "execute_result"
    }
   ],
   "source": [
    "# fit the classifier to the training set\n",
    "clf.fit(X_train, y_train)"
   ]
  },
  {
   "cell_type": "code",
   "execution_count": 11,
   "id": "eae2a60f",
   "metadata": {},
   "outputs": [],
   "source": [
    "# predict on the test set\n",
    "y_pred = clf.predict(X_test)"
   ]
  },
  {
   "cell_type": "code",
   "execution_count": 12,
   "id": "19d3519f",
   "metadata": {},
   "outputs": [
    {
     "data": {
      "text/plain": [
       "<AxesSubplot:>"
      ]
     },
     "execution_count": 12,
     "metadata": {},
     "output_type": "execute_result"
    },
    {
     "data": {
      "image/png": "[encoded data removed]",
      "text/plain": [
       "<Figure size 800x640 with 1 Axes>"
      ]
     },
     "metadata": {},
     "output_type": "display_data"
    }
   ],
   "source": [
    "# visualize feature importance\n",
    "\n",
    "plt.figure(num=None, figsize=(10,8), dpi=80, facecolor='w', edgecolor='k')\n",
    "\n",
    "feat_importances = pd.Series(clf.feature_importances_, index= X.columns)\n",
    "\n",
    "feat_importances.nlargest(10).plot(kind='barh')"
   ]
  },
  {
   "cell_type": "code",
   "execution_count": null,
   "id": "4b87b231",
   "metadata": {},
   "outputs": [],
   "source": []
  }
 ],
 "metadata": {
  "kernelspec": {
   "display_name": "Python 3 (ipykernel)",
   "language": "python",
   "name": "python3"
  },
  "language_info": {
   "codemirror_mode": {
    "name": "ipython",
    "version": 3
   },
   "file_extension": ".py",
   "mimetype": "text/x-python",
   "name": "python",
   "nbconvert_exporter": "python",
   "pygments_lexer": "ipython3",
   "version": "3.8.12"
  }
 },
 "nbformat": 4,
 "nbformat_minor": 5
}
