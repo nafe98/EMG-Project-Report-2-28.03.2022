{
 "cells": [
  {
   "cell_type": "markdown",
   "id": "24669793",
   "metadata": {},
   "source": [
    "# Importing Libraries"
   ]
  },
  {
   "cell_type": "code",
   "execution_count": 1,
   "id": "19e863cb",
   "metadata": {},
   "outputs": [],
   "source": [
    "import numpy as np\n",
    "import pandas as pd\n",
    "import matplotlib.pyplot as plt\n",
    "import seaborn as sns\n",
    "from sklearn.model_selection import train_test_split\n",
    "from sklearn.metrics import confusion_matrix, f1_score, accuracy_score, classification_report"
   ]
  },
  {
   "cell_type": "markdown",
   "id": "b808e5bf",
   "metadata": {},
   "source": [
    "# Exploratory Data Analysis"
   ]
  },
  {
   "cell_type": "code",
   "execution_count": 2,
   "id": "6e657163",
   "metadata": {},
   "outputs": [
    {
     "data": {
      "text/html": [
       "<div>\n",
       "<style scoped>\n",
       "    .dataframe tbody tr th:only-of-type {\n",
       "        vertical-align: middle;\n",
       "    }\n",
       "\n",
       "    .dataframe tbody tr th {\n",
       "        vertical-align: top;\n",
       "    }\n",
       "\n",
       "    .dataframe thead th {\n",
       "        text-align: right;\n",
       "    }\n",
       "</style>\n",
       "<table border=\"1\" class=\"dataframe\">\n",
       "  <thead>\n",
       "    <tr style=\"text-align: right;\">\n",
       "      <th></th>\n",
       "      <th>Emg1</th>\n",
       "      <th>Emg2</th>\n",
       "      <th>Emg3</th>\n",
       "      <th>Emg4</th>\n",
       "      <th>Emg5</th>\n",
       "      <th>Emg6</th>\n",
       "      <th>Emg7</th>\n",
       "      <th>Emg8</th>\n",
       "      <th>Emg9</th>\n",
       "      <th>Emg10</th>\n",
       "      <th>repetition</th>\n",
       "      <th>rerepetition</th>\n",
       "      <th>stimulus</th>\n",
       "      <th>restimulus</th>\n",
       "    </tr>\n",
       "  </thead>\n",
       "  <tbody>\n",
       "    <tr>\n",
       "      <th>281553</th>\n",
       "      <td>0.0024</td>\n",
       "      <td>0.0024</td>\n",
       "      <td>0.0049</td>\n",
       "      <td>0.0024</td>\n",
       "      <td>0.0024</td>\n",
       "      <td>0.0024</td>\n",
       "      <td>0.0098</td>\n",
       "      <td>0.0391</td>\n",
       "      <td>0.0024</td>\n",
       "      <td>0.0488</td>\n",
       "      <td>0</td>\n",
       "      <td>0</td>\n",
       "      <td>0</td>\n",
       "      <td>0</td>\n",
       "    </tr>\n",
       "  </tbody>\n",
       "</table>\n",
       "</div>"
      ],
      "text/plain": [
       "          Emg1    Emg2    Emg3    Emg4    Emg5    Emg6    Emg7    Emg8  \\\n",
       "281553  0.0024  0.0024  0.0049  0.0024  0.0024  0.0024  0.0098  0.0391   \n",
       "\n",
       "          Emg9   Emg10  repetition  rerepetition  stimulus  restimulus  \n",
       "281553  0.0024  0.0488           0             0         0           0  "
      ]
     },
     "execution_count": 2,
     "metadata": {},
     "output_type": "execute_result"
    }
   ],
   "source": [
    "raw_data = pd.read_excel('Dataset 1 Patient 1.xlsx')\n",
    "raw_data.sample(1)"
   ]
  },
  {
   "cell_type": "code",
   "execution_count": 3,
   "id": "1035c19e",
   "metadata": {},
   "outputs": [
    {
     "data": {
      "text/plain": [
       "(471483, 14)"
      ]
     },
     "execution_count": 3,
     "metadata": {},
     "output_type": "execute_result"
    }
   ],
   "source": [
    "raw_data.shape"
   ]
  },
  {
   "cell_type": "code",
   "execution_count": 4,
   "id": "2877b4ba",
   "metadata": {},
   "outputs": [
    {
     "data": {
      "text/plain": [
       "Index(['Emg1', 'Emg2', 'Emg3', 'Emg4', 'Emg5', 'Emg6', 'Emg7', 'Emg8', 'Emg9',\n",
       "       'Emg10', 'repetition', 'rerepetition', 'stimulus', 'restimulus'],\n",
       "      dtype='object')"
      ]
     },
     "execution_count": 4,
     "metadata": {},
     "output_type": "execute_result"
    }
   ],
   "source": [
    "raw_data.columns"
   ]
  },
  {
   "cell_type": "code",
   "execution_count": 5,
   "id": "01287309",
   "metadata": {},
   "outputs": [
    {
     "name": "stdout",
     "output_type": "stream",
     "text": [
      "<class 'pandas.core.frame.DataFrame'>\n",
      "RangeIndex: 471483 entries, 0 to 471482\n",
      "Data columns (total 14 columns):\n",
      " #   Column        Non-Null Count   Dtype  \n",
      "---  ------        --------------   -----  \n",
      " 0   Emg1          471483 non-null  float64\n",
      " 1   Emg2          471483 non-null  float64\n",
      " 2   Emg3          471483 non-null  float64\n",
      " 3   Emg4          471483 non-null  float64\n",
      " 4   Emg5          471483 non-null  float64\n",
      " 5   Emg6          471483 non-null  float64\n",
      " 6   Emg7          471483 non-null  float64\n",
      " 7   Emg8          471483 non-null  float64\n",
      " 8   Emg9          471483 non-null  float64\n",
      " 9   Emg10         471483 non-null  float64\n",
      " 10  repetition    471483 non-null  int64  \n",
      " 11  rerepetition  471483 non-null  int64  \n",
      " 12  stimulus      471483 non-null  int64  \n",
      " 13  restimulus    471483 non-null  int64  \n",
      "dtypes: float64(10), int64(4)\n",
      "memory usage: 50.4 MB\n"
     ]
    }
   ],
   "source": [
    "raw_data.info()"
   ]
  },
  {
   "cell_type": "code",
   "execution_count": 6,
   "id": "67daa467",
   "metadata": {},
   "outputs": [
    {
     "data": {
      "text/html": [
       "<div>\n",
       "<style scoped>\n",
       "    .dataframe tbody tr th:only-of-type {\n",
       "        vertical-align: middle;\n",
       "    }\n",
       "\n",
       "    .dataframe tbody tr th {\n",
       "        vertical-align: top;\n",
       "    }\n",
       "\n",
       "    .dataframe thead th {\n",
       "        text-align: right;\n",
       "    }\n",
       "</style>\n",
       "<table border=\"1\" class=\"dataframe\">\n",
       "  <thead>\n",
       "    <tr style=\"text-align: right;\">\n",
       "      <th></th>\n",
       "      <th>Emg1</th>\n",
       "      <th>Emg2</th>\n",
       "      <th>Emg3</th>\n",
       "      <th>Emg4</th>\n",
       "      <th>Emg5</th>\n",
       "      <th>Emg6</th>\n",
       "      <th>Emg7</th>\n",
       "      <th>Emg8</th>\n",
       "      <th>Emg9</th>\n",
       "      <th>Emg10</th>\n",
       "      <th>repetition</th>\n",
       "      <th>rerepetition</th>\n",
       "      <th>stimulus</th>\n",
       "      <th>restimulus</th>\n",
       "    </tr>\n",
       "  </thead>\n",
       "  <tbody>\n",
       "    <tr>\n",
       "      <th>count</th>\n",
       "      <td>471483.000000</td>\n",
       "      <td>471483.000000</td>\n",
       "      <td>471483.000000</td>\n",
       "      <td>471483.000000</td>\n",
       "      <td>471483.000000</td>\n",
       "      <td>471483.000000</td>\n",
       "      <td>471483.000000</td>\n",
       "      <td>471483.000000</td>\n",
       "      <td>471483.000000</td>\n",
       "      <td>471483.000000</td>\n",
       "      <td>471483.000000</td>\n",
       "      <td>471483.000000</td>\n",
       "      <td>471483.000000</td>\n",
       "      <td>471483.000000</td>\n",
       "    </tr>\n",
       "    <tr>\n",
       "      <th>mean</th>\n",
       "      <td>0.129657</td>\n",
       "      <td>0.122672</td>\n",
       "      <td>0.123409</td>\n",
       "      <td>0.044321</td>\n",
       "      <td>0.012722</td>\n",
       "      <td>0.014612</td>\n",
       "      <td>0.221796</td>\n",
       "      <td>0.233414</td>\n",
       "      <td>0.107259</td>\n",
       "      <td>0.072334</td>\n",
       "      <td>3.136047</td>\n",
       "      <td>2.113255</td>\n",
       "      <td>5.562892</td>\n",
       "      <td>4.570513</td>\n",
       "    </tr>\n",
       "    <tr>\n",
       "      <th>std</th>\n",
       "      <td>0.286859</td>\n",
       "      <td>0.322911</td>\n",
       "      <td>0.337717</td>\n",
       "      <td>0.167680</td>\n",
       "      <td>0.032359</td>\n",
       "      <td>0.042109</td>\n",
       "      <td>0.476014</td>\n",
       "      <td>0.353467</td>\n",
       "      <td>0.233386</td>\n",
       "      <td>0.156993</td>\n",
       "      <td>3.480664</td>\n",
       "      <td>3.212682</td>\n",
       "      <td>6.575838</td>\n",
       "      <td>6.427040</td>\n",
       "    </tr>\n",
       "    <tr>\n",
       "      <th>min</th>\n",
       "      <td>0.002400</td>\n",
       "      <td>0.000000</td>\n",
       "      <td>0.002400</td>\n",
       "      <td>0.000000</td>\n",
       "      <td>0.002400</td>\n",
       "      <td>0.000000</td>\n",
       "      <td>0.002400</td>\n",
       "      <td>0.002400</td>\n",
       "      <td>0.000000</td>\n",
       "      <td>0.002400</td>\n",
       "      <td>0.000000</td>\n",
       "      <td>0.000000</td>\n",
       "      <td>0.000000</td>\n",
       "      <td>0.000000</td>\n",
       "    </tr>\n",
       "    <tr>\n",
       "      <th>25%</th>\n",
       "      <td>0.002400</td>\n",
       "      <td>0.002400</td>\n",
       "      <td>0.002400</td>\n",
       "      <td>0.002400</td>\n",
       "      <td>0.002400</td>\n",
       "      <td>0.002400</td>\n",
       "      <td>0.012200</td>\n",
       "      <td>0.063500</td>\n",
       "      <td>0.002400</td>\n",
       "      <td>0.009800</td>\n",
       "      <td>0.000000</td>\n",
       "      <td>0.000000</td>\n",
       "      <td>0.000000</td>\n",
       "      <td>0.000000</td>\n",
       "    </tr>\n",
       "    <tr>\n",
       "      <th>50%</th>\n",
       "      <td>0.017100</td>\n",
       "      <td>0.002400</td>\n",
       "      <td>0.002400</td>\n",
       "      <td>0.002400</td>\n",
       "      <td>0.002400</td>\n",
       "      <td>0.002400</td>\n",
       "      <td>0.051300</td>\n",
       "      <td>0.112300</td>\n",
       "      <td>0.007300</td>\n",
       "      <td>0.039100</td>\n",
       "      <td>2.000000</td>\n",
       "      <td>0.000000</td>\n",
       "      <td>3.000000</td>\n",
       "      <td>0.000000</td>\n",
       "    </tr>\n",
       "    <tr>\n",
       "      <th>75%</th>\n",
       "      <td>0.114700</td>\n",
       "      <td>0.046400</td>\n",
       "      <td>0.058600</td>\n",
       "      <td>0.007300</td>\n",
       "      <td>0.002400</td>\n",
       "      <td>0.002400</td>\n",
       "      <td>0.190400</td>\n",
       "      <td>0.244100</td>\n",
       "      <td>0.136700</td>\n",
       "      <td>0.065900</td>\n",
       "      <td>6.000000</td>\n",
       "      <td>4.000000</td>\n",
       "      <td>10.000000</td>\n",
       "      <td>9.000000</td>\n",
       "    </tr>\n",
       "    <tr>\n",
       "      <th>max</th>\n",
       "      <td>4.665500</td>\n",
       "      <td>4.663100</td>\n",
       "      <td>4.658200</td>\n",
       "      <td>4.663100</td>\n",
       "      <td>0.876500</td>\n",
       "      <td>1.484400</td>\n",
       "      <td>4.663100</td>\n",
       "      <td>4.665500</td>\n",
       "      <td>4.660600</td>\n",
       "      <td>4.628900</td>\n",
       "      <td>10.000000</td>\n",
       "      <td>10.000000</td>\n",
       "      <td>23.000000</td>\n",
       "      <td>23.000000</td>\n",
       "    </tr>\n",
       "  </tbody>\n",
       "</table>\n",
       "</div>"
      ],
      "text/plain": [
       "                Emg1           Emg2           Emg3           Emg4  \\\n",
       "count  471483.000000  471483.000000  471483.000000  471483.000000   \n",
       "mean        0.129657       0.122672       0.123409       0.044321   \n",
       "std         0.286859       0.322911       0.337717       0.167680   \n",
       "min         0.002400       0.000000       0.002400       0.000000   \n",
       "25%         0.002400       0.002400       0.002400       0.002400   \n",
       "50%         0.017100       0.002400       0.002400       0.002400   \n",
       "75%         0.114700       0.046400       0.058600       0.007300   \n",
       "max         4.665500       4.663100       4.658200       4.663100   \n",
       "\n",
       "                Emg5           Emg6           Emg7           Emg8  \\\n",
       "count  471483.000000  471483.000000  471483.000000  471483.000000   \n",
       "mean        0.012722       0.014612       0.221796       0.233414   \n",
       "std         0.032359       0.042109       0.476014       0.353467   \n",
       "min         0.002400       0.000000       0.002400       0.002400   \n",
       "25%         0.002400       0.002400       0.012200       0.063500   \n",
       "50%         0.002400       0.002400       0.051300       0.112300   \n",
       "75%         0.002400       0.002400       0.190400       0.244100   \n",
       "max         0.876500       1.484400       4.663100       4.665500   \n",
       "\n",
       "                Emg9          Emg10     repetition   rerepetition  \\\n",
       "count  471483.000000  471483.000000  471483.000000  471483.000000   \n",
       "mean        0.107259       0.072334       3.136047       2.113255   \n",
       "std         0.233386       0.156993       3.480664       3.212682   \n",
       "min         0.000000       0.002400       0.000000       0.000000   \n",
       "25%         0.002400       0.009800       0.000000       0.000000   \n",
       "50%         0.007300       0.039100       2.000000       0.000000   \n",
       "75%         0.136700       0.065900       6.000000       4.000000   \n",
       "max         4.660600       4.628900      10.000000      10.000000   \n",
       "\n",
       "            stimulus     restimulus  \n",
       "count  471483.000000  471483.000000  \n",
       "mean        5.562892       4.570513  \n",
       "std         6.575838       6.427040  \n",
       "min         0.000000       0.000000  \n",
       "25%         0.000000       0.000000  \n",
       "50%         3.000000       0.000000  \n",
       "75%        10.000000       9.000000  \n",
       "max        23.000000      23.000000  "
      ]
     },
     "execution_count": 6,
     "metadata": {},
     "output_type": "execute_result"
    }
   ],
   "source": [
    "raw_data.describe(include='all')"
   ]
  },
  {
   "cell_type": "code",
   "execution_count": 7,
   "id": "eb1b4565",
   "metadata": {},
   "outputs": [
    {
     "name": "stdout",
     "output_type": "stream",
     "text": [
      "Unique Dependent values and their counts :\n",
      "0     202625\n",
      "2      15538\n",
      "12     15532\n",
      "8      15531\n",
      "7      15518\n",
      "4      15516\n",
      "11     15514\n",
      "5      15492\n",
      "9      15492\n",
      "10     15477\n",
      "1      15476\n",
      "3      15469\n",
      "6      15469\n",
      "14     10361\n",
      "13     10360\n",
      "17     10346\n",
      "15     10334\n",
      "16     10320\n",
      "18      5210\n",
      "20      5202\n",
      "19      5189\n",
      "21      5185\n",
      "23      5166\n",
      "22      5161\n",
      "Name: stimulus, dtype: int64\n"
     ]
    }
   ],
   "source": [
    "print(\"Unique Dependent values and their counts :\")\n",
    "print(raw_data[\"stimulus\"].value_counts())"
   ]
  },
  {
   "cell_type": "code",
   "execution_count": 8,
   "id": "79b91f4f",
   "metadata": {},
   "outputs": [
    {
     "data": {
      "text/plain": [
       "Text(0, 0.5, 'Frequency')"
      ]
     },
     "execution_count": 8,
     "metadata": {},
     "output_type": "execute_result"
    },
    {
     "data": {
      "image/png": "[encoded data removed]",
      "text/plain": [
       "<Figure size 432x288 with 1 Axes>"
      ]
     },
     "metadata": {
      "needs_background": "light"
     },
     "output_type": "display_data"
    }
   ],
   "source": [
    "count_classes = pd.value_counts(raw_data['stimulus'], sort = True)\n",
    "\n",
    "count_classes.plot(kind = 'bar', rot=0)\n",
    "\n",
    "plt.title(\"stimulus Class Distribution\")\n",
    "\n",
    "plt.xlabel(\"Class\")\n",
    "\n",
    "plt.ylabel(\"Frequency\")"
   ]
  },
  {
   "cell_type": "markdown",
   "id": "905d5afe",
   "metadata": {},
   "source": [
    "# Data Cleaning and Exploratory Data Analysis with New Data"
   ]
  },
  {
   "cell_type": "code",
   "execution_count": 9,
   "id": "a26e6021",
   "metadata": {},
   "outputs": [],
   "source": [
    "index_names = raw_data[ (raw_data['stimulus'] != raw_data['restimulus'])].index\n",
    "raw_data.drop(index_names, inplace = True)"
   ]
  },
  {
   "cell_type": "code",
   "execution_count": 10,
   "id": "c4cfc0c8",
   "metadata": {},
   "outputs": [],
   "source": [
    "index_names = raw_data[ (raw_data['repetition'] != raw_data['rerepetition'])].index\n",
    "raw_data.drop(index_names, inplace = True)"
   ]
  },
  {
   "cell_type": "code",
   "execution_count": 11,
   "id": "33a2b6b0",
   "metadata": {},
   "outputs": [
    {
     "data": {
      "text/html": [
       "<div>\n",
       "<style scoped>\n",
       "    .dataframe tbody tr th:only-of-type {\n",
       "        vertical-align: middle;\n",
       "    }\n",
       "\n",
       "    .dataframe tbody tr th {\n",
       "        vertical-align: top;\n",
       "    }\n",
       "\n",
       "    .dataframe thead th {\n",
       "        text-align: right;\n",
       "    }\n",
       "</style>\n",
       "<table border=\"1\" class=\"dataframe\">\n",
       "  <thead>\n",
       "    <tr style=\"text-align: right;\">\n",
       "      <th></th>\n",
       "      <th>Emg1</th>\n",
       "      <th>Emg2</th>\n",
       "      <th>Emg3</th>\n",
       "      <th>Emg4</th>\n",
       "      <th>Emg5</th>\n",
       "      <th>Emg6</th>\n",
       "      <th>Emg7</th>\n",
       "      <th>Emg8</th>\n",
       "      <th>Emg9</th>\n",
       "      <th>Emg10</th>\n",
       "      <th>repetition</th>\n",
       "      <th>rerepetition</th>\n",
       "      <th>stimulus</th>\n",
       "      <th>restimulus</th>\n",
       "    </tr>\n",
       "  </thead>\n",
       "  <tbody>\n",
       "    <tr>\n",
       "      <th>144428</th>\n",
       "      <td>0.8911</td>\n",
       "      <td>0.4370</td>\n",
       "      <td>0.1489</td>\n",
       "      <td>0.0513</td>\n",
       "      <td>0.0317</td>\n",
       "      <td>0.1367</td>\n",
       "      <td>0.6079</td>\n",
       "      <td>0.3687</td>\n",
       "      <td>0.1099</td>\n",
       "      <td>0.2148</td>\n",
       "      <td>2</td>\n",
       "      <td>2</td>\n",
       "      <td>6</td>\n",
       "      <td>6</td>\n",
       "    </tr>\n",
       "    <tr>\n",
       "      <th>280050</th>\n",
       "      <td>0.0024</td>\n",
       "      <td>0.0024</td>\n",
       "      <td>0.0024</td>\n",
       "      <td>0.0024</td>\n",
       "      <td>0.0024</td>\n",
       "      <td>0.0024</td>\n",
       "      <td>0.0024</td>\n",
       "      <td>0.0195</td>\n",
       "      <td>0.0024</td>\n",
       "      <td>0.0439</td>\n",
       "      <td>0</td>\n",
       "      <td>0</td>\n",
       "      <td>0</td>\n",
       "      <td>0</td>\n",
       "    </tr>\n",
       "    <tr>\n",
       "      <th>242894</th>\n",
       "      <td>0.0049</td>\n",
       "      <td>0.0024</td>\n",
       "      <td>0.0024</td>\n",
       "      <td>0.0024</td>\n",
       "      <td>0.0024</td>\n",
       "      <td>0.0024</td>\n",
       "      <td>0.0195</td>\n",
       "      <td>0.1074</td>\n",
       "      <td>0.0024</td>\n",
       "      <td>0.0513</td>\n",
       "      <td>0</td>\n",
       "      <td>0</td>\n",
       "      <td>0</td>\n",
       "      <td>0</td>\n",
       "    </tr>\n",
       "    <tr>\n",
       "      <th>386448</th>\n",
       "      <td>0.0513</td>\n",
       "      <td>0.0024</td>\n",
       "      <td>0.0024</td>\n",
       "      <td>0.0024</td>\n",
       "      <td>0.0024</td>\n",
       "      <td>0.0024</td>\n",
       "      <td>0.0635</td>\n",
       "      <td>0.2393</td>\n",
       "      <td>0.2515</td>\n",
       "      <td>1.3013</td>\n",
       "      <td>0</td>\n",
       "      <td>0</td>\n",
       "      <td>0</td>\n",
       "      <td>0</td>\n",
       "    </tr>\n",
       "    <tr>\n",
       "      <th>127916</th>\n",
       "      <td>0.0854</td>\n",
       "      <td>0.0024</td>\n",
       "      <td>0.0024</td>\n",
       "      <td>0.0024</td>\n",
       "      <td>0.0049</td>\n",
       "      <td>0.0024</td>\n",
       "      <td>0.0024</td>\n",
       "      <td>0.1025</td>\n",
       "      <td>0.0024</td>\n",
       "      <td>0.0146</td>\n",
       "      <td>0</td>\n",
       "      <td>0</td>\n",
       "      <td>0</td>\n",
       "      <td>0</td>\n",
       "    </tr>\n",
       "  </tbody>\n",
       "</table>\n",
       "</div>"
      ],
      "text/plain": [
       "          Emg1    Emg2    Emg3    Emg4    Emg5    Emg6    Emg7    Emg8  \\\n",
       "144428  0.8911  0.4370  0.1489  0.0513  0.0317  0.1367  0.6079  0.3687   \n",
       "280050  0.0024  0.0024  0.0024  0.0024  0.0024  0.0024  0.0024  0.0195   \n",
       "242894  0.0049  0.0024  0.0024  0.0024  0.0024  0.0024  0.0195  0.1074   \n",
       "386448  0.0513  0.0024  0.0024  0.0024  0.0024  0.0024  0.0635  0.2393   \n",
       "127916  0.0854  0.0024  0.0024  0.0024  0.0049  0.0024  0.0024  0.1025   \n",
       "\n",
       "          Emg9   Emg10  repetition  rerepetition  stimulus  restimulus  \n",
       "144428  0.1099  0.2148           2             2         6           6  \n",
       "280050  0.0024  0.0439           0             0         0           0  \n",
       "242894  0.0024  0.0513           0             0         0           0  \n",
       "386448  0.2515  1.3013           0             0         0           0  \n",
       "127916  0.0024  0.0146           0             0         0           0  "
      ]
     },
     "execution_count": 11,
     "metadata": {},
     "output_type": "execute_result"
    }
   ],
   "source": [
    "raw_data.sample(5)"
   ]
  },
  {
   "cell_type": "code",
   "execution_count": 12,
   "id": "660324c7",
   "metadata": {},
   "outputs": [
    {
     "data": {
      "text/plain": [
       "(378535, 14)"
      ]
     },
     "execution_count": 12,
     "metadata": {},
     "output_type": "execute_result"
    }
   ],
   "source": [
    "raw_data.shape"
   ]
  },
  {
   "cell_type": "code",
   "execution_count": 13,
   "id": "c7fa86f2",
   "metadata": {},
   "outputs": [
    {
     "name": "stdout",
     "output_type": "stream",
     "text": [
      "<class 'pandas.core.frame.DataFrame'>\n",
      "Int64Index: 378535 entries, 0 to 471482\n",
      "Data columns (total 14 columns):\n",
      " #   Column        Non-Null Count   Dtype  \n",
      "---  ------        --------------   -----  \n",
      " 0   Emg1          378535 non-null  float64\n",
      " 1   Emg2          378535 non-null  float64\n",
      " 2   Emg3          378535 non-null  float64\n",
      " 3   Emg4          378535 non-null  float64\n",
      " 4   Emg5          378535 non-null  float64\n",
      " 5   Emg6          378535 non-null  float64\n",
      " 6   Emg7          378535 non-null  float64\n",
      " 7   Emg8          378535 non-null  float64\n",
      " 8   Emg9          378535 non-null  float64\n",
      " 9   Emg10         378535 non-null  float64\n",
      " 10  repetition    378535 non-null  int64  \n",
      " 11  rerepetition  378535 non-null  int64  \n",
      " 12  stimulus      378535 non-null  int64  \n",
      " 13  restimulus    378535 non-null  int64  \n",
      "dtypes: float64(10), int64(4)\n",
      "memory usage: 43.3 MB\n"
     ]
    }
   ],
   "source": [
    "raw_data.info()"
   ]
  },
  {
   "cell_type": "code",
   "execution_count": 14,
   "id": "53d81927",
   "metadata": {},
   "outputs": [
    {
     "name": "stdout",
     "output_type": "stream",
     "text": [
      "Emg1            False\n",
      "Emg2            False\n",
      "Emg3            False\n",
      "Emg4            False\n",
      "Emg5            False\n",
      "Emg6            False\n",
      "Emg7            False\n",
      "Emg8            False\n",
      "Emg9            False\n",
      "Emg10           False\n",
      "repetition      False\n",
      "rerepetition    False\n",
      "stimulus        False\n",
      "restimulus      False\n",
      "dtype: bool\n"
     ]
    }
   ],
   "source": [
    "print(raw_data.isnull().any())"
   ]
  },
  {
   "cell_type": "code",
   "execution_count": 15,
   "id": "053e8d29",
   "metadata": {},
   "outputs": [],
   "source": [
    "X = raw_data.iloc[:,0:10]\n",
    "y = raw_data.stimulus"
   ]
  },
  {
   "cell_type": "markdown",
   "id": "ef3f0e96",
   "metadata": {},
   "source": [
    "# Scalling Data"
   ]
  },
  {
   "cell_type": "code",
   "execution_count": 16,
   "id": "6ca1a8db",
   "metadata": {},
   "outputs": [],
   "source": [
    "from sklearn.preprocessing import StandardScaler"
   ]
  },
  {
   "cell_type": "code",
   "execution_count": 17,
   "id": "048f0aed",
   "metadata": {},
   "outputs": [],
   "source": [
    "X = StandardScaler().fit_transform(X)"
   ]
  },
  {
   "cell_type": "markdown",
   "id": "7cdca3a9",
   "metadata": {},
   "source": [
    "# t-Distributed Stochastic Neighbor Embedding (t-SNE)"
   ]
  },
  {
   "cell_type": "code",
   "execution_count": 18,
   "id": "54d539bf",
   "metadata": {},
   "outputs": [],
   "source": [
    "from sklearn.manifold import TSNE"
   ]
  },
  {
   "cell_type": "code",
   "execution_count": 22,
   "id": "26ae58a1",
   "metadata": {},
   "outputs": [
    {
     "name": "stderr",
     "output_type": "stream",
     "text": [
      "E:\\MachineLearning\\envs\\gpu\\lib\\site-packages\\sklearn\\manifold\\_t_sne.py:780: FutureWarning: The default initialization in TSNE will change from 'random' to 'pca' in 1.2.\n",
      "  warnings.warn(\n",
      "E:\\MachineLearning\\envs\\gpu\\lib\\site-packages\\sklearn\\manifold\\_t_sne.py:790: FutureWarning: The default learning rate in TSNE will change from 200.0 to 'auto' in 1.2.\n",
      "  warnings.warn(\n"
     ]
    },
    {
     "name": "stdout",
     "output_type": "stream",
     "text": [
      "[t-SNE] Computing 121 nearest neighbors...\n",
      "[t-SNE] Indexed 378535 samples in 1.806s...\n",
      "[t-SNE] Computed neighbors for 378535 samples in 202.288s...\n",
      "[t-SNE] Computed conditional probabilities for sample 1000 / 378535\n",
      "[t-SNE] Computed conditional probabilities for sample 2000 / 378535\n",
      "[t-SNE] Computed conditional probabilities for sample 3000 / 378535\n",
      "[t-SNE] Computed conditional probabilities for sample 4000 / 378535\n",
      "[t-SNE] Computed conditional probabilities for sample 5000 / 378535\n",
      "[t-SNE] Computed conditional probabilities for sample 6000 / 378535\n",
      "[t-SNE] Computed conditional probabilities for sample 7000 / 378535\n",
      "[t-SNE] Computed conditional probabilities for sample 8000 / 378535\n",
      "[t-SNE] Computed conditional probabilities for sample 9000 / 378535\n",
      "[t-SNE] Computed conditional probabilities for sample 10000 / 378535\n",
      "[t-SNE] Computed conditional probabilities for sample 11000 / 378535\n",
      "[t-SNE] Computed conditional probabilities for sample 12000 / 378535\n",
      "[t-SNE] Computed conditional probabilities for sample 13000 / 378535\n",
      "[t-SNE] Computed conditional probabilities for sample 14000 / 378535\n",
      "[t-SNE] Computed conditional probabilities for sample 15000 / 378535\n",
      "[t-SNE] Computed conditional probabilities for sample 16000 / 378535\n",
      "[t-SNE] Computed conditional probabilities for sample 17000 / 378535\n",
      "[t-SNE] Computed conditional probabilities for sample 18000 / 378535\n",
      "[t-SNE] Computed conditional probabilities for sample 19000 / 378535\n",
      "[t-SNE] Computed conditional probabilities for sample 20000 / 378535\n",
      "[t-SNE] Computed conditional probabilities for sample 21000 / 378535\n",
      "[t-SNE] Computed conditional probabilities for sample 22000 / 378535\n",
      "[t-SNE] Computed conditional probabilities for sample 23000 / 378535\n",
      "[t-SNE] Computed conditional probabilities for sample 24000 / 378535\n",
      "[t-SNE] Computed conditional probabilities for sample 25000 / 378535\n",
      "[t-SNE] Computed conditional probabilities for sample 26000 / 378535\n",
      "[t-SNE] Computed conditional probabilities for sample 27000 / 378535\n",
      "[t-SNE] Computed conditional probabilities for sample 28000 / 378535\n",
      "[t-SNE] Computed conditional probabilities for sample 29000 / 378535\n",
      "[t-SNE] Computed conditional probabilities for sample 30000 / 378535\n",
      "[t-SNE] Computed conditional probabilities for sample 31000 / 378535\n",
      "[t-SNE] Computed conditional probabilities for sample 32000 / 378535\n",
      "[t-SNE] Computed conditional probabilities for sample 33000 / 378535\n",
      "[t-SNE] Computed conditional probabilities for sample 34000 / 378535\n",
      "[t-SNE] Computed conditional probabilities for sample 35000 / 378535\n",
      "[t-SNE] Computed conditional probabilities for sample 36000 / 378535\n",
      "[t-SNE] Computed conditional probabilities for sample 37000 / 378535\n",
      "[t-SNE] Computed conditional probabilities for sample 38000 / 378535\n",
      "[t-SNE] Computed conditional probabilities for sample 39000 / 378535\n",
      "[t-SNE] Computed conditional probabilities for sample 40000 / 378535\n",
      "[t-SNE] Computed conditional probabilities for sample 41000 / 378535\n",
      "[t-SNE] Computed conditional probabilities for sample 42000 / 378535\n",
      "[t-SNE] Computed conditional probabilities for sample 43000 / 378535\n",
      "[t-SNE] Computed conditional probabilities for sample 44000 / 378535\n",
      "[t-SNE] Computed conditional probabilities for sample 45000 / 378535\n",
      "[t-SNE] Computed conditional probabilities for sample 46000 / 378535\n",
      "[t-SNE] Computed conditional probabilities for sample 47000 / 378535\n",
      "[t-SNE] Computed conditional probabilities for sample 48000 / 378535\n",
      "[t-SNE] Computed conditional probabilities for sample 49000 / 378535\n",
      "[t-SNE] Computed conditional probabilities for sample 50000 / 378535\n",
      "[t-SNE] Computed conditional probabilities for sample 51000 / 378535\n",
      "[t-SNE] Computed conditional probabilities for sample 52000 / 378535\n",
      "[t-SNE] Computed conditional probabilities for sample 53000 / 378535\n",
      "[t-SNE] Computed conditional probabilities for sample 54000 / 378535\n",
      "[t-SNE] Computed conditional probabilities for sample 55000 / 378535\n",
      "[t-SNE] Computed conditional probabilities for sample 56000 / 378535\n",
      "[t-SNE] Computed conditional probabilities for sample 57000 / 378535\n",
      "[t-SNE] Computed conditional probabilities for sample 58000 / 378535\n",
      "[t-SNE] Computed conditional probabilities for sample 59000 / 378535\n",
      "[t-SNE] Computed conditional probabilities for sample 60000 / 378535\n",
      "[t-SNE] Computed conditional probabilities for sample 61000 / 378535\n",
      "[t-SNE] Computed conditional probabilities for sample 62000 / 378535\n",
      "[t-SNE] Computed conditional probabilities for sample 63000 / 378535\n",
      "[t-SNE] Computed conditional probabilities for sample 64000 / 378535\n",
      "[t-SNE] Computed conditional probabilities for sample 65000 / 378535\n",
      "[t-SNE] Computed conditional probabilities for sample 66000 / 378535\n",
      "[t-SNE] Computed conditional probabilities for sample 67000 / 378535\n",
      "[t-SNE] Computed conditional probabilities for sample 68000 / 378535\n",
      "[t-SNE] Computed conditional probabilities for sample 69000 / 378535\n",
      "[t-SNE] Computed conditional probabilities for sample 70000 / 378535\n",
      "[t-SNE] Computed conditional probabilities for sample 71000 / 378535\n",
      "[t-SNE] Computed conditional probabilities for sample 72000 / 378535\n",
      "[t-SNE] Computed conditional probabilities for sample 73000 / 378535\n",
      "[t-SNE] Computed conditional probabilities for sample 74000 / 378535\n",
      "[t-SNE] Computed conditional probabilities for sample 75000 / 378535\n",
      "[t-SNE] Computed conditional probabilities for sample 76000 / 378535\n",
      "[t-SNE] Computed conditional probabilities for sample 77000 / 378535\n",
      "[t-SNE] Computed conditional probabilities for sample 78000 / 378535\n",
      "[t-SNE] Computed conditional probabilities for sample 79000 / 378535\n",
      "[t-SNE] Computed conditional probabilities for sample 80000 / 378535\n",
      "[t-SNE] Computed conditional probabilities for sample 81000 / 378535\n",
      "[t-SNE] Computed conditional probabilities for sample 82000 / 378535\n",
      "[t-SNE] Computed conditional probabilities for sample 83000 / 378535\n",
      "[t-SNE] Computed conditional probabilities for sample 84000 / 378535\n",
      "[t-SNE] Computed conditional probabilities for sample 85000 / 378535\n",
      "[t-SNE] Computed conditional probabilities for sample 86000 / 378535\n",
      "[t-SNE] Computed conditional probabilities for sample 87000 / 378535\n",
      "[t-SNE] Computed conditional probabilities for sample 88000 / 378535\n",
      "[t-SNE] Computed conditional probabilities for sample 89000 / 378535\n",
      "[t-SNE] Computed conditional probabilities for sample 90000 / 378535\n",
      "[t-SNE] Computed conditional probabilities for sample 91000 / 378535\n",
      "[t-SNE] Computed conditional probabilities for sample 92000 / 378535\n",
      "[t-SNE] Computed conditional probabilities for sample 93000 / 378535\n",
      "[t-SNE] Computed conditional probabilities for sample 94000 / 378535\n",
      "[t-SNE] Computed conditional probabilities for sample 95000 / 378535\n",
      "[t-SNE] Computed conditional probabilities for sample 96000 / 378535\n",
      "[t-SNE] Computed conditional probabilities for sample 97000 / 378535\n",
      "[t-SNE] Computed conditional probabilities for sample 98000 / 378535\n",
      "[t-SNE] Computed conditional probabilities for sample 99000 / 378535\n",
      "[t-SNE] Computed conditional probabilities for sample 100000 / 378535\n",
      "[t-SNE] Computed conditional probabilities for sample 101000 / 378535\n",
      "[t-SNE] Computed conditional probabilities for sample 102000 / 378535\n",
      "[t-SNE] Computed conditional probabilities for sample 103000 / 378535\n",
      "[t-SNE] Computed conditional probabilities for sample 104000 / 378535\n",
      "[t-SNE] Computed conditional probabilities for sample 105000 / 378535\n",
      "[t-SNE] Computed conditional probabilities for sample 106000 / 378535\n",
      "[t-SNE] Computed conditional probabilities for sample 107000 / 378535\n",
      "[t-SNE] Computed conditional probabilities for sample 108000 / 378535\n",
      "[t-SNE] Computed conditional probabilities for sample 109000 / 378535\n",
      "[t-SNE] Computed conditional probabilities for sample 110000 / 378535\n",
      "[t-SNE] Computed conditional probabilities for sample 111000 / 378535\n",
      "[t-SNE] Computed conditional probabilities for sample 112000 / 378535\n",
      "[t-SNE] Computed conditional probabilities for sample 113000 / 378535\n",
      "[t-SNE] Computed conditional probabilities for sample 114000 / 378535\n",
      "[t-SNE] Computed conditional probabilities for sample 115000 / 378535\n",
      "[t-SNE] Computed conditional probabilities for sample 116000 / 378535\n",
      "[t-SNE] Computed conditional probabilities for sample 117000 / 378535\n",
      "[t-SNE] Computed conditional probabilities for sample 118000 / 378535\n"
     ]
    },
    {
     "name": "stdout",
     "output_type": "stream",
     "text": [
      "[t-SNE] Computed conditional probabilities for sample 119000 / 378535\n",
      "[t-SNE] Computed conditional probabilities for sample 120000 / 378535\n",
      "[t-SNE] Computed conditional probabilities for sample 121000 / 378535\n",
      "[t-SNE] Computed conditional probabilities for sample 122000 / 378535\n",
      "[t-SNE] Computed conditional probabilities for sample 123000 / 378535\n",
      "[t-SNE] Computed conditional probabilities for sample 124000 / 378535\n",
      "[t-SNE] Computed conditional probabilities for sample 125000 / 378535\n",
      "[t-SNE] Computed conditional probabilities for sample 126000 / 378535\n",
      "[t-SNE] Computed conditional probabilities for sample 127000 / 378535\n",
      "[t-SNE] Computed conditional probabilities for sample 128000 / 378535\n",
      "[t-SNE] Computed conditional probabilities for sample 129000 / 378535\n",
      "[t-SNE] Computed conditional probabilities for sample 130000 / 378535\n",
      "[t-SNE] Computed conditional probabilities for sample 131000 / 378535\n",
      "[t-SNE] Computed conditional probabilities for sample 132000 / 378535\n",
      "[t-SNE] Computed conditional probabilities for sample 133000 / 378535\n",
      "[t-SNE] Computed conditional probabilities for sample 134000 / 378535\n",
      "[t-SNE] Computed conditional probabilities for sample 135000 / 378535\n",
      "[t-SNE] Computed conditional probabilities for sample 136000 / 378535\n",
      "[t-SNE] Computed conditional probabilities for sample 137000 / 378535\n",
      "[t-SNE] Computed conditional probabilities for sample 138000 / 378535\n",
      "[t-SNE] Computed conditional probabilities for sample 139000 / 378535\n",
      "[t-SNE] Computed conditional probabilities for sample 140000 / 378535\n",
      "[t-SNE] Computed conditional probabilities for sample 141000 / 378535\n",
      "[t-SNE] Computed conditional probabilities for sample 142000 / 378535\n",
      "[t-SNE] Computed conditional probabilities for sample 143000 / 378535\n",
      "[t-SNE] Computed conditional probabilities for sample 144000 / 378535\n",
      "[t-SNE] Computed conditional probabilities for sample 145000 / 378535\n",
      "[t-SNE] Computed conditional probabilities for sample 146000 / 378535\n",
      "[t-SNE] Computed conditional probabilities for sample 147000 / 378535\n",
      "[t-SNE] Computed conditional probabilities for sample 148000 / 378535\n",
      "[t-SNE] Computed conditional probabilities for sample 149000 / 378535\n",
      "[t-SNE] Computed conditional probabilities for sample 150000 / 378535\n",
      "[t-SNE] Computed conditional probabilities for sample 151000 / 378535\n",
      "[t-SNE] Computed conditional probabilities for sample 152000 / 378535\n",
      "[t-SNE] Computed conditional probabilities for sample 153000 / 378535\n",
      "[t-SNE] Computed conditional probabilities for sample 154000 / 378535\n",
      "[t-SNE] Computed conditional probabilities for sample 155000 / 378535\n",
      "[t-SNE] Computed conditional probabilities for sample 156000 / 378535\n",
      "[t-SNE] Computed conditional probabilities for sample 157000 / 378535\n",
      "[t-SNE] Computed conditional probabilities for sample 158000 / 378535\n",
      "[t-SNE] Computed conditional probabilities for sample 159000 / 378535\n",
      "[t-SNE] Computed conditional probabilities for sample 160000 / 378535\n",
      "[t-SNE] Computed conditional probabilities for sample 161000 / 378535\n",
      "[t-SNE] Computed conditional probabilities for sample 162000 / 378535\n",
      "[t-SNE] Computed conditional probabilities for sample 163000 / 378535\n",
      "[t-SNE] Computed conditional probabilities for sample 164000 / 378535\n",
      "[t-SNE] Computed conditional probabilities for sample 165000 / 378535\n",
      "[t-SNE] Computed conditional probabilities for sample 166000 / 378535\n",
      "[t-SNE] Computed conditional probabilities for sample 167000 / 378535\n",
      "[t-SNE] Computed conditional probabilities for sample 168000 / 378535\n",
      "[t-SNE] Computed conditional probabilities for sample 169000 / 378535\n",
      "[t-SNE] Computed conditional probabilities for sample 170000 / 378535\n",
      "[t-SNE] Computed conditional probabilities for sample 171000 / 378535\n",
      "[t-SNE] Computed conditional probabilities for sample 172000 / 378535\n",
      "[t-SNE] Computed conditional probabilities for sample 173000 / 378535\n",
      "[t-SNE] Computed conditional probabilities for sample 174000 / 378535\n",
      "[t-SNE] Computed conditional probabilities for sample 175000 / 378535\n",
      "[t-SNE] Computed conditional probabilities for sample 176000 / 378535\n",
      "[t-SNE] Computed conditional probabilities for sample 177000 / 378535\n",
      "[t-SNE] Computed conditional probabilities for sample 178000 / 378535\n",
      "[t-SNE] Computed conditional probabilities for sample 179000 / 378535\n",
      "[t-SNE] Computed conditional probabilities for sample 180000 / 378535\n",
      "[t-SNE] Computed conditional probabilities for sample 181000 / 378535\n",
      "[t-SNE] Computed conditional probabilities for sample 182000 / 378535\n",
      "[t-SNE] Computed conditional probabilities for sample 183000 / 378535\n",
      "[t-SNE] Computed conditional probabilities for sample 184000 / 378535\n",
      "[t-SNE] Computed conditional probabilities for sample 185000 / 378535\n",
      "[t-SNE] Computed conditional probabilities for sample 186000 / 378535\n",
      "[t-SNE] Computed conditional probabilities for sample 187000 / 378535\n",
      "[t-SNE] Computed conditional probabilities for sample 188000 / 378535\n",
      "[t-SNE] Computed conditional probabilities for sample 189000 / 378535\n",
      "[t-SNE] Computed conditional probabilities for sample 190000 / 378535\n",
      "[t-SNE] Computed conditional probabilities for sample 191000 / 378535\n",
      "[t-SNE] Computed conditional probabilities for sample 192000 / 378535\n",
      "[t-SNE] Computed conditional probabilities for sample 193000 / 378535\n",
      "[t-SNE] Computed conditional probabilities for sample 194000 / 378535\n",
      "[t-SNE] Computed conditional probabilities for sample 195000 / 378535\n",
      "[t-SNE] Computed conditional probabilities for sample 196000 / 378535\n",
      "[t-SNE] Computed conditional probabilities for sample 197000 / 378535\n",
      "[t-SNE] Computed conditional probabilities for sample 198000 / 378535\n",
      "[t-SNE] Computed conditional probabilities for sample 199000 / 378535\n",
      "[t-SNE] Computed conditional probabilities for sample 200000 / 378535\n",
      "[t-SNE] Computed conditional probabilities for sample 201000 / 378535\n",
      "[t-SNE] Computed conditional probabilities for sample 202000 / 378535\n",
      "[t-SNE] Computed conditional probabilities for sample 203000 / 378535\n",
      "[t-SNE] Computed conditional probabilities for sample 204000 / 378535\n",
      "[t-SNE] Computed conditional probabilities for sample 205000 / 378535\n",
      "[t-SNE] Computed conditional probabilities for sample 206000 / 378535\n",
      "[t-SNE] Computed conditional probabilities for sample 207000 / 378535\n",
      "[t-SNE] Computed conditional probabilities for sample 208000 / 378535\n",
      "[t-SNE] Computed conditional probabilities for sample 209000 / 378535\n",
      "[t-SNE] Computed conditional probabilities for sample 210000 / 378535\n",
      "[t-SNE] Computed conditional probabilities for sample 211000 / 378535\n",
      "[t-SNE] Computed conditional probabilities for sample 212000 / 378535\n",
      "[t-SNE] Computed conditional probabilities for sample 213000 / 378535\n",
      "[t-SNE] Computed conditional probabilities for sample 214000 / 378535\n",
      "[t-SNE] Computed conditional probabilities for sample 215000 / 378535\n",
      "[t-SNE] Computed conditional probabilities for sample 216000 / 378535\n",
      "[t-SNE] Computed conditional probabilities for sample 217000 / 378535\n",
      "[t-SNE] Computed conditional probabilities for sample 218000 / 378535\n",
      "[t-SNE] Computed conditional probabilities for sample 219000 / 378535\n",
      "[t-SNE] Computed conditional probabilities for sample 220000 / 378535\n",
      "[t-SNE] Computed conditional probabilities for sample 221000 / 378535\n",
      "[t-SNE] Computed conditional probabilities for sample 222000 / 378535\n",
      "[t-SNE] Computed conditional probabilities for sample 223000 / 378535\n",
      "[t-SNE] Computed conditional probabilities for sample 224000 / 378535\n",
      "[t-SNE] Computed conditional probabilities for sample 225000 / 378535\n",
      "[t-SNE] Computed conditional probabilities for sample 226000 / 378535\n",
      "[t-SNE] Computed conditional probabilities for sample 227000 / 378535\n",
      "[t-SNE] Computed conditional probabilities for sample 228000 / 378535\n",
      "[t-SNE] Computed conditional probabilities for sample 229000 / 378535\n",
      "[t-SNE] Computed conditional probabilities for sample 230000 / 378535\n",
      "[t-SNE] Computed conditional probabilities for sample 231000 / 378535\n",
      "[t-SNE] Computed conditional probabilities for sample 232000 / 378535\n",
      "[t-SNE] Computed conditional probabilities for sample 233000 / 378535\n",
      "[t-SNE] Computed conditional probabilities for sample 234000 / 378535\n",
      "[t-SNE] Computed conditional probabilities for sample 235000 / 378535\n",
      "[t-SNE] Computed conditional probabilities for sample 236000 / 378535\n",
      "[t-SNE] Computed conditional probabilities for sample 237000 / 378535\n",
      "[t-SNE] Computed conditional probabilities for sample 238000 / 378535\n",
      "[t-SNE] Computed conditional probabilities for sample 239000 / 378535\n"
     ]
    },
    {
     "name": "stdout",
     "output_type": "stream",
     "text": [
      "[t-SNE] Computed conditional probabilities for sample 240000 / 378535\n",
      "[t-SNE] Computed conditional probabilities for sample 241000 / 378535\n",
      "[t-SNE] Computed conditional probabilities for sample 242000 / 378535\n",
      "[t-SNE] Computed conditional probabilities for sample 243000 / 378535\n",
      "[t-SNE] Computed conditional probabilities for sample 244000 / 378535\n",
      "[t-SNE] Computed conditional probabilities for sample 245000 / 378535\n",
      "[t-SNE] Computed conditional probabilities for sample 246000 / 378535\n",
      "[t-SNE] Computed conditional probabilities for sample 247000 / 378535\n",
      "[t-SNE] Computed conditional probabilities for sample 248000 / 378535\n",
      "[t-SNE] Computed conditional probabilities for sample 249000 / 378535\n",
      "[t-SNE] Computed conditional probabilities for sample 250000 / 378535\n",
      "[t-SNE] Computed conditional probabilities for sample 251000 / 378535\n",
      "[t-SNE] Computed conditional probabilities for sample 252000 / 378535\n",
      "[t-SNE] Computed conditional probabilities for sample 253000 / 378535\n",
      "[t-SNE] Computed conditional probabilities for sample 254000 / 378535\n",
      "[t-SNE] Computed conditional probabilities for sample 255000 / 378535\n",
      "[t-SNE] Computed conditional probabilities for sample 256000 / 378535\n",
      "[t-SNE] Computed conditional probabilities for sample 257000 / 378535\n",
      "[t-SNE] Computed conditional probabilities for sample 258000 / 378535\n",
      "[t-SNE] Computed conditional probabilities for sample 259000 / 378535\n",
      "[t-SNE] Computed conditional probabilities for sample 260000 / 378535\n",
      "[t-SNE] Computed conditional probabilities for sample 261000 / 378535\n",
      "[t-SNE] Computed conditional probabilities for sample 262000 / 378535\n",
      "[t-SNE] Computed conditional probabilities for sample 263000 / 378535\n",
      "[t-SNE] Computed conditional probabilities for sample 264000 / 378535\n",
      "[t-SNE] Computed conditional probabilities for sample 265000 / 378535\n",
      "[t-SNE] Computed conditional probabilities for sample 266000 / 378535\n",
      "[t-SNE] Computed conditional probabilities for sample 267000 / 378535\n",
      "[t-SNE] Computed conditional probabilities for sample 268000 / 378535\n",
      "[t-SNE] Computed conditional probabilities for sample 269000 / 378535\n",
      "[t-SNE] Computed conditional probabilities for sample 270000 / 378535\n",
      "[t-SNE] Computed conditional probabilities for sample 271000 / 378535\n",
      "[t-SNE] Computed conditional probabilities for sample 272000 / 378535\n",
      "[t-SNE] Computed conditional probabilities for sample 273000 / 378535\n",
      "[t-SNE] Computed conditional probabilities for sample 274000 / 378535\n",
      "[t-SNE] Computed conditional probabilities for sample 275000 / 378535\n",
      "[t-SNE] Computed conditional probabilities for sample 276000 / 378535\n",
      "[t-SNE] Computed conditional probabilities for sample 277000 / 378535\n",
      "[t-SNE] Computed conditional probabilities for sample 278000 / 378535\n",
      "[t-SNE] Computed conditional probabilities for sample 279000 / 378535\n",
      "[t-SNE] Computed conditional probabilities for sample 280000 / 378535\n",
      "[t-SNE] Computed conditional probabilities for sample 281000 / 378535\n",
      "[t-SNE] Computed conditional probabilities for sample 282000 / 378535\n",
      "[t-SNE] Computed conditional probabilities for sample 283000 / 378535\n",
      "[t-SNE] Computed conditional probabilities for sample 284000 / 378535\n",
      "[t-SNE] Computed conditional probabilities for sample 285000 / 378535\n",
      "[t-SNE] Computed conditional probabilities for sample 286000 / 378535\n",
      "[t-SNE] Computed conditional probabilities for sample 287000 / 378535\n",
      "[t-SNE] Computed conditional probabilities for sample 288000 / 378535\n",
      "[t-SNE] Computed conditional probabilities for sample 289000 / 378535\n",
      "[t-SNE] Computed conditional probabilities for sample 290000 / 378535\n",
      "[t-SNE] Computed conditional probabilities for sample 291000 / 378535\n",
      "[t-SNE] Computed conditional probabilities for sample 292000 / 378535\n",
      "[t-SNE] Computed conditional probabilities for sample 293000 / 378535\n",
      "[t-SNE] Computed conditional probabilities for sample 294000 / 378535\n",
      "[t-SNE] Computed conditional probabilities for sample 295000 / 378535\n",
      "[t-SNE] Computed conditional probabilities for sample 296000 / 378535\n",
      "[t-SNE] Computed conditional probabilities for sample 297000 / 378535\n",
      "[t-SNE] Computed conditional probabilities for sample 298000 / 378535\n",
      "[t-SNE] Computed conditional probabilities for sample 299000 / 378535\n",
      "[t-SNE] Computed conditional probabilities for sample 300000 / 378535\n",
      "[t-SNE] Computed conditional probabilities for sample 301000 / 378535\n",
      "[t-SNE] Computed conditional probabilities for sample 302000 / 378535\n",
      "[t-SNE] Computed conditional probabilities for sample 303000 / 378535\n",
      "[t-SNE] Computed conditional probabilities for sample 304000 / 378535\n",
      "[t-SNE] Computed conditional probabilities for sample 305000 / 378535\n",
      "[t-SNE] Computed conditional probabilities for sample 306000 / 378535\n",
      "[t-SNE] Computed conditional probabilities for sample 307000 / 378535\n",
      "[t-SNE] Computed conditional probabilities for sample 308000 / 378535\n",
      "[t-SNE] Computed conditional probabilities for sample 309000 / 378535\n",
      "[t-SNE] Computed conditional probabilities for sample 310000 / 378535\n",
      "[t-SNE] Computed conditional probabilities for sample 311000 / 378535\n",
      "[t-SNE] Computed conditional probabilities for sample 312000 / 378535\n",
      "[t-SNE] Computed conditional probabilities for sample 313000 / 378535\n",
      "[t-SNE] Computed conditional probabilities for sample 314000 / 378535\n",
      "[t-SNE] Computed conditional probabilities for sample 315000 / 378535\n",
      "[t-SNE] Computed conditional probabilities for sample 316000 / 378535\n",
      "[t-SNE] Computed conditional probabilities for sample 317000 / 378535\n",
      "[t-SNE] Computed conditional probabilities for sample 318000 / 378535\n",
      "[t-SNE] Computed conditional probabilities for sample 319000 / 378535\n",
      "[t-SNE] Computed conditional probabilities for sample 320000 / 378535\n",
      "[t-SNE] Computed conditional probabilities for sample 321000 / 378535\n",
      "[t-SNE] Computed conditional probabilities for sample 322000 / 378535\n",
      "[t-SNE] Computed conditional probabilities for sample 323000 / 378535\n",
      "[t-SNE] Computed conditional probabilities for sample 324000 / 378535\n",
      "[t-SNE] Computed conditional probabilities for sample 325000 / 378535\n",
      "[t-SNE] Computed conditional probabilities for sample 326000 / 378535\n",
      "[t-SNE] Computed conditional probabilities for sample 327000 / 378535\n",
      "[t-SNE] Computed conditional probabilities for sample 328000 / 378535\n",
      "[t-SNE] Computed conditional probabilities for sample 329000 / 378535\n",
      "[t-SNE] Computed conditional probabilities for sample 330000 / 378535\n",
      "[t-SNE] Computed conditional probabilities for sample 331000 / 378535\n",
      "[t-SNE] Computed conditional probabilities for sample 332000 / 378535\n",
      "[t-SNE] Computed conditional probabilities for sample 333000 / 378535\n",
      "[t-SNE] Computed conditional probabilities for sample 334000 / 378535\n",
      "[t-SNE] Computed conditional probabilities for sample 335000 / 378535\n",
      "[t-SNE] Computed conditional probabilities for sample 336000 / 378535\n",
      "[t-SNE] Computed conditional probabilities for sample 337000 / 378535\n",
      "[t-SNE] Computed conditional probabilities for sample 338000 / 378535\n",
      "[t-SNE] Computed conditional probabilities for sample 339000 / 378535\n",
      "[t-SNE] Computed conditional probabilities for sample 340000 / 378535\n",
      "[t-SNE] Computed conditional probabilities for sample 341000 / 378535\n",
      "[t-SNE] Computed conditional probabilities for sample 342000 / 378535\n",
      "[t-SNE] Computed conditional probabilities for sample 343000 / 378535\n",
      "[t-SNE] Computed conditional probabilities for sample 344000 / 378535\n",
      "[t-SNE] Computed conditional probabilities for sample 345000 / 378535\n",
      "[t-SNE] Computed conditional probabilities for sample 346000 / 378535\n",
      "[t-SNE] Computed conditional probabilities for sample 347000 / 378535\n",
      "[t-SNE] Computed conditional probabilities for sample 348000 / 378535\n",
      "[t-SNE] Computed conditional probabilities for sample 349000 / 378535\n",
      "[t-SNE] Computed conditional probabilities for sample 350000 / 378535\n",
      "[t-SNE] Computed conditional probabilities for sample 351000 / 378535\n",
      "[t-SNE] Computed conditional probabilities for sample 352000 / 378535\n",
      "[t-SNE] Computed conditional probabilities for sample 353000 / 378535\n",
      "[t-SNE] Computed conditional probabilities for sample 354000 / 378535\n",
      "[t-SNE] Computed conditional probabilities for sample 355000 / 378535\n",
      "[t-SNE] Computed conditional probabilities for sample 356000 / 378535\n",
      "[t-SNE] Computed conditional probabilities for sample 357000 / 378535\n",
      "[t-SNE] Computed conditional probabilities for sample 358000 / 378535\n",
      "[t-SNE] Computed conditional probabilities for sample 359000 / 378535\n",
      "[t-SNE] Computed conditional probabilities for sample 360000 / 378535\n",
      "[t-SNE] Computed conditional probabilities for sample 361000 / 378535\n",
      "[t-SNE] Computed conditional probabilities for sample 362000 / 378535\n",
      "[t-SNE] Computed conditional probabilities for sample 363000 / 378535\n",
      "[t-SNE] Computed conditional probabilities for sample 364000 / 378535\n"
     ]
    },
    {
     "name": "stdout",
     "output_type": "stream",
     "text": [
      "[t-SNE] Computed conditional probabilities for sample 365000 / 378535\n",
      "[t-SNE] Computed conditional probabilities for sample 366000 / 378535\n",
      "[t-SNE] Computed conditional probabilities for sample 367000 / 378535\n",
      "[t-SNE] Computed conditional probabilities for sample 368000 / 378535\n",
      "[t-SNE] Computed conditional probabilities for sample 369000 / 378535\n",
      "[t-SNE] Computed conditional probabilities for sample 370000 / 378535\n",
      "[t-SNE] Computed conditional probabilities for sample 371000 / 378535\n",
      "[t-SNE] Computed conditional probabilities for sample 372000 / 378535\n",
      "[t-SNE] Computed conditional probabilities for sample 373000 / 378535\n",
      "[t-SNE] Computed conditional probabilities for sample 374000 / 378535\n",
      "[t-SNE] Computed conditional probabilities for sample 375000 / 378535\n",
      "[t-SNE] Computed conditional probabilities for sample 376000 / 378535\n",
      "[t-SNE] Computed conditional probabilities for sample 377000 / 378535\n",
      "[t-SNE] Computed conditional probabilities for sample 378000 / 378535\n",
      "[t-SNE] Computed conditional probabilities for sample 378535 / 378535\n",
      "[t-SNE] Mean sigma: 0.000000\n",
      "[t-SNE] KL divergence after 50 iterations with early exaggeration: 136.253479\n",
      "[t-SNE] KL divergence after 300 iterations: 6.279097\n"
     ]
    }
   ],
   "source": [
    "tsne = TSNE(n_components=3, verbose=1, perplexity=40, n_iter=300)\n",
    "X_tsne = tsne.fit_transform(X)"
   ]
  },
  {
   "cell_type": "code",
   "execution_count": 23,
   "id": "96d12980",
   "metadata": {},
   "outputs": [],
   "source": [
    "# Splitting data for training and testing\n",
    "X_train, X_test, y_train, y_test = train_test_split(X_tsne, y, test_size = 0.2, random_state = 39)"
   ]
  },
  {
   "cell_type": "markdown",
   "id": "e6288f33",
   "metadata": {},
   "source": [
    "# KNeighborsClassifier"
   ]
  },
  {
   "cell_type": "code",
   "execution_count": 24,
   "id": "35db20ba",
   "metadata": {},
   "outputs": [
    {
     "data": {
      "text/plain": [
       "KNeighborsClassifier()"
      ]
     },
     "execution_count": 24,
     "metadata": {},
     "output_type": "execute_result"
    }
   ],
   "source": [
    "from sklearn.neighbors import KNeighborsClassifier\n",
    "KNeighborsClassifier = KNeighborsClassifier()\n",
    "KNeighborsClassifier.fit(X_train, y_train)"
   ]
  },
  {
   "cell_type": "code",
   "execution_count": 25,
   "id": "ef142d49",
   "metadata": {},
   "outputs": [],
   "source": [
    "y_pred = KNeighborsClassifier.predict(X_test)"
   ]
  },
  {
   "cell_type": "code",
   "execution_count": 26,
   "id": "8cf86ce9",
   "metadata": {},
   "outputs": [
    {
     "name": "stdout",
     "output_type": "stream",
     "text": [
      "Accuracy is: 68.31864953042651\n"
     ]
    }
   ],
   "source": [
    "from sklearn.metrics import accuracy_score\n",
    "accuracy = {accuracy_score(y_test, y_pred)}\n",
    "print(f\"Accuracy is: {accuracy_score(y_test, y_pred)* 100}\")"
   ]
  },
  {
   "cell_type": "markdown",
   "id": "0c896bf8",
   "metadata": {},
   "source": [
    "# Decision Tree"
   ]
  },
  {
   "cell_type": "code",
   "execution_count": 27,
   "id": "573cea75",
   "metadata": {},
   "outputs": [
    {
     "data": {
      "text/plain": [
       "DecisionTreeClassifier()"
      ]
     },
     "execution_count": 27,
     "metadata": {},
     "output_type": "execute_result"
    }
   ],
   "source": [
    "from sklearn import tree\n",
    "tree = tree.DecisionTreeClassifier()\n",
    "tree.fit(X_train, y_train)"
   ]
  },
  {
   "cell_type": "code",
   "execution_count": 28,
   "id": "5d7171bd",
   "metadata": {},
   "outputs": [],
   "source": [
    "y_pred1 = tree.predict(X_test)"
   ]
  },
  {
   "cell_type": "code",
   "execution_count": 29,
   "id": "86353be9",
   "metadata": {},
   "outputs": [
    {
     "name": "stdout",
     "output_type": "stream",
     "text": [
      "Accuracy is: 60.248061605928115\n"
     ]
    }
   ],
   "source": [
    "from sklearn.metrics import accuracy_score\n",
    "accuracy1 = {accuracy_score(y_test, y_pred1)}\n",
    "print(f\"Accuracy is: {accuracy_score(y_test, y_pred1)* 100}\")"
   ]
  },
  {
   "cell_type": "markdown",
   "id": "d362ed15",
   "metadata": {},
   "source": [
    "# Random Forest"
   ]
  },
  {
   "cell_type": "code",
   "execution_count": 30,
   "id": "c2a8482b",
   "metadata": {},
   "outputs": [
    {
     "data": {
      "text/plain": [
       "RandomForestClassifier()"
      ]
     },
     "execution_count": 30,
     "metadata": {},
     "output_type": "execute_result"
    }
   ],
   "source": [
    "from sklearn.ensemble import RandomForestClassifier\n",
    "RandomForestClassifier = RandomForestClassifier()\n",
    "RandomForestClassifier.fit(X_train, y_train)"
   ]
  },
  {
   "cell_type": "code",
   "execution_count": 31,
   "id": "26f32f81",
   "metadata": {},
   "outputs": [],
   "source": [
    "y_pred2 = RandomForestClassifier.predict(X_test)"
   ]
  },
  {
   "cell_type": "code",
   "execution_count": 32,
   "id": "6d517489",
   "metadata": {},
   "outputs": [
    {
     "name": "stdout",
     "output_type": "stream",
     "text": [
      "Accuracy is: 69.17061830478028\n"
     ]
    }
   ],
   "source": [
    "from sklearn.metrics import accuracy_score\n",
    "accuracy2 = {accuracy_score(y_test, y_pred2)}\n",
    "print(f\"Accuracy is: {accuracy_score(y_test, y_pred2)* 100}\")"
   ]
  },
  {
   "cell_type": "markdown",
   "id": "221c0b0b",
   "metadata": {},
   "source": [
    "# XGBoost"
   ]
  },
  {
   "cell_type": "code",
   "execution_count": 33,
   "id": "f9f982b6",
   "metadata": {},
   "outputs": [
    {
     "name": "stderr",
     "output_type": "stream",
     "text": [
      "E:\\MachineLearning\\envs\\gpu\\lib\\site-packages\\xgboost\\compat.py:36: FutureWarning: pandas.Int64Index is deprecated and will be removed from pandas in a future version. Use pandas.Index with the appropriate dtype instead.\n",
      "  from pandas import MultiIndex, Int64Index\n",
      "E:\\MachineLearning\\envs\\gpu\\lib\\site-packages\\xgboost\\sklearn.py:1224: UserWarning: The use of label encoder in XGBClassifier is deprecated and will be removed in a future release. To remove this warning, do the following: 1) Pass option use_label_encoder=False when constructing XGBClassifier object; and 2) Encode your labels (y) as integers starting with 0, i.e. 0, 1, 2, ..., [num_class - 1].\n",
      "  warnings.warn(label_encoder_deprecation_msg, UserWarning)\n"
     ]
    },
    {
     "name": "stdout",
     "output_type": "stream",
     "text": [
      "[08:52:14] WARNING: C:/Users/Administrator/workspace/xgboost-win64_release_1.5.1/src/learner.cc:1115: Starting in XGBoost 1.3.0, the default evaluation metric used with the objective 'multi:softprob' was changed from 'merror' to 'mlogloss'. Explicitly set eval_metric if you'd like to restore the old behavior.\n"
     ]
    },
    {
     "data": {
      "text/plain": [
       "XGBClassifier(base_score=0.5, booster='gbtree', colsample_bylevel=1,\n",
       "              colsample_bynode=1, colsample_bytree=1, enable_categorical=False,\n",
       "              gamma=0, gpu_id=-1, importance_type=None,\n",
       "              interaction_constraints='', learning_rate=0.300000012,\n",
       "              max_delta_step=0, max_depth=6, min_child_weight=1, missing=nan,\n",
       "              monotone_constraints='()', n_estimators=100, n_jobs=12,\n",
       "              num_parallel_tree=1, objective='multi:softprob', predictor='auto',\n",
       "              random_state=0, reg_alpha=0, reg_lambda=1, scale_pos_weight=None,\n",
       "              subsample=1, tree_method='exact', validate_parameters=1,\n",
       "              verbosity=None)"
      ]
     },
     "execution_count": 33,
     "metadata": {},
     "output_type": "execute_result"
    }
   ],
   "source": [
    "from xgboost import XGBClassifier\n",
    "xgb = XGBClassifier(objective='multi:softmax')\n",
    "xgb.fit(X_train, y_train)"
   ]
  },
  {
   "cell_type": "code",
   "execution_count": 34,
   "id": "1bba0058",
   "metadata": {},
   "outputs": [],
   "source": [
    "y_pred3 = xgb.predict(X_test)"
   ]
  },
  {
   "cell_type": "code",
   "execution_count": 35,
   "id": "88ec5cc0",
   "metadata": {},
   "outputs": [
    {
     "name": "stdout",
     "output_type": "stream",
     "text": [
      "Accuracy is: 62.79075911078236\n"
     ]
    }
   ],
   "source": [
    "from sklearn.metrics import accuracy_score\n",
    "accuracy3 = {accuracy_score(y_test, y_pred3)}\n",
    "print(f\"Accuracy is: {accuracy_score(y_test, y_pred3)* 100}\")"
   ]
  },
  {
   "cell_type": "markdown",
   "id": "aadffeaa",
   "metadata": {},
   "source": [
    "# Support Vector Machine"
   ]
  },
  {
   "cell_type": "code",
   "execution_count": null,
   "id": "14888c9c",
   "metadata": {},
   "outputs": [],
   "source": [
    "from sklearn import svm\n",
    "svm = svm.SVC(kernel='rbf')\n",
    "svm.fit(X_train, y_train)"
   ]
  },
  {
   "cell_type": "code",
   "execution_count": null,
   "id": "5804049c",
   "metadata": {},
   "outputs": [],
   "source": [
    "y_pred4 = svm.predict(X_test)"
   ]
  },
  {
   "cell_type": "code",
   "execution_count": null,
   "id": "9e05974c",
   "metadata": {},
   "outputs": [],
   "source": [
    "from sklearn.metrics import accuracy_score\n",
    "accuracy4 = {accuracy_score(y_test, y_pred4)}\n",
    "print(f\"Accuracy is: {accuracy_score(y_test, y_pred4)* 100}\")"
   ]
  },
  {
   "cell_type": "code",
   "execution_count": null,
   "id": "86be4c02",
   "metadata": {},
   "outputs": [],
   "source": []
  }
 ],
 "metadata": {
  "kernelspec": {
   "display_name": "Python 3 (ipykernel)",
   "language": "python",
   "name": "python3"
  },
  "language_info": {
   "codemirror_mode": {
    "name": "ipython",
    "version": 3
   },
   "file_extension": ".py",
   "mimetype": "text/x-python",
   "name": "python",
   "nbconvert_exporter": "python",
   "pygments_lexer": "ipython3",
   "version": "3.8.12"
  }
 },
 "nbformat": 4,
 "nbformat_minor": 5
}
