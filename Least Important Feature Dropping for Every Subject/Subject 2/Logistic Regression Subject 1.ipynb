{
 "cells": [
  {
   "cell_type": "markdown",
   "id": "5146ed0c",
   "metadata": {},
   "source": [
    "# Importing Libraries"
   ]
  },
  {
   "cell_type": "code",
   "execution_count": 1,
   "id": "3045e9ed",
   "metadata": {},
   "outputs": [],
   "source": [
    "import numpy as np\n",
    "import pandas as pd\n",
    "import matplotlib.pyplot as plt\n",
    "import seaborn as sns\n",
    "from sklearn.model_selection import train_test_split\n",
    "from sklearn.metrics import confusion_matrix, f1_score, accuracy_score, classification_report"
   ]
  },
  {
   "cell_type": "markdown",
   "id": "42648960",
   "metadata": {},
   "source": [
    "# Exploratory Data Analysis"
   ]
  },
  {
   "cell_type": "code",
   "execution_count": 2,
   "id": "c6cab329",
   "metadata": {
    "scrolled": false
   },
   "outputs": [
    {
     "data": {
      "text/html": [
       "<div>\n",
       "<style scoped>\n",
       "    .dataframe tbody tr th:only-of-type {\n",
       "        vertical-align: middle;\n",
       "    }\n",
       "\n",
       "    .dataframe tbody tr th {\n",
       "        vertical-align: top;\n",
       "    }\n",
       "\n",
       "    .dataframe thead th {\n",
       "        text-align: right;\n",
       "    }\n",
       "</style>\n",
       "<table border=\"1\" class=\"dataframe\">\n",
       "  <thead>\n",
       "    <tr style=\"text-align: right;\">\n",
       "      <th></th>\n",
       "      <th>Emg1</th>\n",
       "      <th>Emg2</th>\n",
       "      <th>Emg3</th>\n",
       "      <th>Emg4</th>\n",
       "      <th>Emg5</th>\n",
       "      <th>Emg6</th>\n",
       "      <th>Emg7</th>\n",
       "      <th>Emg8</th>\n",
       "      <th>Emg9</th>\n",
       "      <th>Emg10</th>\n",
       "      <th>repetition</th>\n",
       "      <th>rerepetition</th>\n",
       "      <th>stimulus</th>\n",
       "      <th>restimulus</th>\n",
       "    </tr>\n",
       "  </thead>\n",
       "  <tbody>\n",
       "    <tr>\n",
       "      <th>74382</th>\n",
       "      <td>0.0977</td>\n",
       "      <td>0.1172</td>\n",
       "      <td>0.0098</td>\n",
       "      <td>0.0024</td>\n",
       "      <td>0.0024</td>\n",
       "      <td>0.0024</td>\n",
       "      <td>0.0024</td>\n",
       "      <td>0.1318</td>\n",
       "      <td>0.0024</td>\n",
       "      <td>0.1245</td>\n",
       "      <td>9</td>\n",
       "      <td>0</td>\n",
       "      <td>9</td>\n",
       "      <td>0</td>\n",
       "    </tr>\n",
       "    <tr>\n",
       "      <th>34066</th>\n",
       "      <td>0.8350</td>\n",
       "      <td>0.7593</td>\n",
       "      <td>0.1636</td>\n",
       "      <td>0.1099</td>\n",
       "      <td>0.0854</td>\n",
       "      <td>0.0024</td>\n",
       "      <td>0.0073</td>\n",
       "      <td>0.7227</td>\n",
       "      <td>0.9399</td>\n",
       "      <td>0.0977</td>\n",
       "      <td>1</td>\n",
       "      <td>1</td>\n",
       "      <td>5</td>\n",
       "      <td>5</td>\n",
       "    </tr>\n",
       "    <tr>\n",
       "      <th>17452</th>\n",
       "      <td>0.4712</td>\n",
       "      <td>0.3882</td>\n",
       "      <td>0.3198</td>\n",
       "      <td>0.0342</td>\n",
       "      <td>0.0024</td>\n",
       "      <td>0.0024</td>\n",
       "      <td>0.0024</td>\n",
       "      <td>0.1001</td>\n",
       "      <td>0.6714</td>\n",
       "      <td>0.0684</td>\n",
       "      <td>1</td>\n",
       "      <td>1</td>\n",
       "      <td>3</td>\n",
       "      <td>3</td>\n",
       "    </tr>\n",
       "    <tr>\n",
       "      <th>26464</th>\n",
       "      <td>1.2305</td>\n",
       "      <td>1.0254</td>\n",
       "      <td>0.4443</td>\n",
       "      <td>0.3076</td>\n",
       "      <td>0.0122</td>\n",
       "      <td>0.0098</td>\n",
       "      <td>0.0269</td>\n",
       "      <td>0.9741</td>\n",
       "      <td>1.3574</td>\n",
       "      <td>0.1514</td>\n",
       "      <td>2</td>\n",
       "      <td>2</td>\n",
       "      <td>4</td>\n",
       "      <td>4</td>\n",
       "    </tr>\n",
       "    <tr>\n",
       "      <th>3627</th>\n",
       "      <td>0.0464</td>\n",
       "      <td>0.0684</td>\n",
       "      <td>0.1514</td>\n",
       "      <td>0.0415</td>\n",
       "      <td>0.0024</td>\n",
       "      <td>0.0024</td>\n",
       "      <td>0.0024</td>\n",
       "      <td>0.0049</td>\n",
       "      <td>0.4004</td>\n",
       "      <td>0.0024</td>\n",
       "      <td>0</td>\n",
       "      <td>0</td>\n",
       "      <td>0</td>\n",
       "      <td>0</td>\n",
       "    </tr>\n",
       "  </tbody>\n",
       "</table>\n",
       "</div>"
      ],
      "text/plain": [
       "        Emg1     Emg2    Emg3    Emg4   Emg5     Emg6    Emg7    Emg8    Emg9  \\\n",
       "74382  0.0977  0.1172  0.0098  0.0024  0.0024  0.0024  0.0024  0.1318  0.0024   \n",
       "34066  0.8350  0.7593  0.1636  0.1099  0.0854  0.0024  0.0073  0.7227  0.9399   \n",
       "17452  0.4712  0.3882  0.3198  0.0342  0.0024  0.0024  0.0024  0.1001  0.6714   \n",
       "26464  1.2305  1.0254  0.4443  0.3076  0.0122  0.0098  0.0269  0.9741  1.3574   \n",
       "3627   0.0464  0.0684  0.1514  0.0415  0.0024  0.0024  0.0024  0.0049  0.4004   \n",
       "\n",
       "        Emg10  repetition  rerepetition  stimulus  restimulus  \n",
       "74382  0.1245           9             0         9           0  \n",
       "34066  0.0977           1             1         5           5  \n",
       "17452  0.0684           1             1         3           3  \n",
       "26464  0.1514           2             2         4           4  \n",
       "3627   0.0024           0             0         0           0  "
      ]
     },
     "execution_count": 2,
     "metadata": {},
     "output_type": "execute_result"
    }
   ],
   "source": [
    "raw_data = pd.read_excel('Dataset 1 Patient 2.xlsx')\n",
    "raw_data.sample(5)"
   ]
  },
  {
   "cell_type": "code",
   "execution_count": 3,
   "id": "8cad9bd6",
   "metadata": {},
   "outputs": [
    {
     "data": {
      "text/plain": [
       "(472501, 14)"
      ]
     },
     "execution_count": 3,
     "metadata": {},
     "output_type": "execute_result"
    }
   ],
   "source": [
    "raw_data.shape"
   ]
  },
  {
   "cell_type": "code",
   "execution_count": 4,
   "id": "d05a18f1",
   "metadata": {},
   "outputs": [
    {
     "data": {
      "text/plain": [
       "Index(['Emg1 ', 'Emg2', 'Emg3', 'Emg4', 'Emg5 ', 'Emg6', 'Emg7', 'Emg8',\n",
       "       'Emg9', 'Emg10', 'repetition', 'rerepetition', 'stimulus',\n",
       "       'restimulus'],\n",
       "      dtype='object')"
      ]
     },
     "execution_count": 4,
     "metadata": {},
     "output_type": "execute_result"
    }
   ],
   "source": [
    "raw_data.columns"
   ]
  },
  {
   "cell_type": "code",
   "execution_count": 5,
   "id": "259f05e6",
   "metadata": {},
   "outputs": [
    {
     "name": "stdout",
     "output_type": "stream",
     "text": [
      "<class 'pandas.core.frame.DataFrame'>\n",
      "RangeIndex: 472501 entries, 0 to 472500\n",
      "Data columns (total 14 columns):\n",
      " #   Column        Non-Null Count   Dtype  \n",
      "---  ------        --------------   -----  \n",
      " 0   Emg1          472501 non-null  float64\n",
      " 1   Emg2          472501 non-null  float64\n",
      " 2   Emg3          472501 non-null  float64\n",
      " 3   Emg4          472501 non-null  float64\n",
      " 4   Emg5          472501 non-null  float64\n",
      " 5   Emg6          472501 non-null  float64\n",
      " 6   Emg7          472501 non-null  float64\n",
      " 7   Emg8          472501 non-null  float64\n",
      " 8   Emg9          472501 non-null  float64\n",
      " 9   Emg10         472501 non-null  float64\n",
      " 10  repetition    472501 non-null  int64  \n",
      " 11  rerepetition  472501 non-null  int64  \n",
      " 12  stimulus      472501 non-null  int64  \n",
      " 13  restimulus    472501 non-null  int64  \n",
      "dtypes: float64(10), int64(4)\n",
      "memory usage: 50.5 MB\n"
     ]
    }
   ],
   "source": [
    "raw_data.info()"
   ]
  },
  {
   "cell_type": "code",
   "execution_count": 6,
   "id": "613a1cc1",
   "metadata": {},
   "outputs": [
    {
     "data": {
      "text/html": [
       "<div>\n",
       "<style scoped>\n",
       "    .dataframe tbody tr th:only-of-type {\n",
       "        vertical-align: middle;\n",
       "    }\n",
       "\n",
       "    .dataframe tbody tr th {\n",
       "        vertical-align: top;\n",
       "    }\n",
       "\n",
       "    .dataframe thead th {\n",
       "        text-align: right;\n",
       "    }\n",
       "</style>\n",
       "<table border=\"1\" class=\"dataframe\">\n",
       "  <thead>\n",
       "    <tr style=\"text-align: right;\">\n",
       "      <th></th>\n",
       "      <th>Emg1</th>\n",
       "      <th>Emg2</th>\n",
       "      <th>Emg3</th>\n",
       "      <th>Emg4</th>\n",
       "      <th>Emg5</th>\n",
       "      <th>Emg6</th>\n",
       "      <th>Emg7</th>\n",
       "      <th>Emg8</th>\n",
       "      <th>Emg9</th>\n",
       "      <th>Emg10</th>\n",
       "      <th>repetition</th>\n",
       "      <th>rerepetition</th>\n",
       "      <th>stimulus</th>\n",
       "      <th>restimulus</th>\n",
       "    </tr>\n",
       "  </thead>\n",
       "  <tbody>\n",
       "    <tr>\n",
       "      <th>count</th>\n",
       "      <td>472501.000000</td>\n",
       "      <td>472501.000000</td>\n",
       "      <td>472501.000000</td>\n",
       "      <td>472501.000000</td>\n",
       "      <td>472501.000000</td>\n",
       "      <td>472501.000000</td>\n",
       "      <td>472501.000000</td>\n",
       "      <td>472501.000000</td>\n",
       "      <td>472501.000000</td>\n",
       "      <td>472501.000000</td>\n",
       "      <td>472501.000000</td>\n",
       "      <td>472501.000000</td>\n",
       "      <td>472501.000000</td>\n",
       "      <td>472501.000000</td>\n",
       "    </tr>\n",
       "    <tr>\n",
       "      <th>mean</th>\n",
       "      <td>0.449598</td>\n",
       "      <td>0.369994</td>\n",
       "      <td>0.165067</td>\n",
       "      <td>0.110990</td>\n",
       "      <td>0.056133</td>\n",
       "      <td>0.014915</td>\n",
       "      <td>0.042496</td>\n",
       "      <td>0.302602</td>\n",
       "      <td>0.260029</td>\n",
       "      <td>0.219605</td>\n",
       "      <td>3.124415</td>\n",
       "      <td>2.194270</td>\n",
       "      <td>5.539897</td>\n",
       "      <td>3.961033</td>\n",
       "    </tr>\n",
       "    <tr>\n",
       "      <th>std</th>\n",
       "      <td>0.549594</td>\n",
       "      <td>0.394968</td>\n",
       "      <td>0.285421</td>\n",
       "      <td>0.240335</td>\n",
       "      <td>0.265131</td>\n",
       "      <td>0.047967</td>\n",
       "      <td>0.110609</td>\n",
       "      <td>0.505100</td>\n",
       "      <td>0.485920</td>\n",
       "      <td>0.424508</td>\n",
       "      <td>3.479845</td>\n",
       "      <td>3.242834</td>\n",
       "      <td>6.570169</td>\n",
       "      <td>6.186865</td>\n",
       "    </tr>\n",
       "    <tr>\n",
       "      <th>min</th>\n",
       "      <td>0.002400</td>\n",
       "      <td>0.002400</td>\n",
       "      <td>0.002400</td>\n",
       "      <td>0.002400</td>\n",
       "      <td>0.002400</td>\n",
       "      <td>0.000000</td>\n",
       "      <td>0.000000</td>\n",
       "      <td>0.002400</td>\n",
       "      <td>0.000000</td>\n",
       "      <td>0.002400</td>\n",
       "      <td>0.000000</td>\n",
       "      <td>0.000000</td>\n",
       "      <td>0.000000</td>\n",
       "      <td>0.000000</td>\n",
       "    </tr>\n",
       "    <tr>\n",
       "      <th>25%</th>\n",
       "      <td>0.100100</td>\n",
       "      <td>0.114700</td>\n",
       "      <td>0.004900</td>\n",
       "      <td>0.002400</td>\n",
       "      <td>0.002400</td>\n",
       "      <td>0.002400</td>\n",
       "      <td>0.002400</td>\n",
       "      <td>0.014600</td>\n",
       "      <td>0.002400</td>\n",
       "      <td>0.002400</td>\n",
       "      <td>0.000000</td>\n",
       "      <td>0.000000</td>\n",
       "      <td>0.000000</td>\n",
       "      <td>0.000000</td>\n",
       "    </tr>\n",
       "    <tr>\n",
       "      <th>50%</th>\n",
       "      <td>0.234400</td>\n",
       "      <td>0.263700</td>\n",
       "      <td>0.043900</td>\n",
       "      <td>0.002400</td>\n",
       "      <td>0.002400</td>\n",
       "      <td>0.002400</td>\n",
       "      <td>0.002400</td>\n",
       "      <td>0.095200</td>\n",
       "      <td>0.002400</td>\n",
       "      <td>0.063500</td>\n",
       "      <td>2.000000</td>\n",
       "      <td>0.000000</td>\n",
       "      <td>3.000000</td>\n",
       "      <td>0.000000</td>\n",
       "    </tr>\n",
       "    <tr>\n",
       "      <th>75%</th>\n",
       "      <td>0.590800</td>\n",
       "      <td>0.502900</td>\n",
       "      <td>0.192900</td>\n",
       "      <td>0.092800</td>\n",
       "      <td>0.009800</td>\n",
       "      <td>0.002400</td>\n",
       "      <td>0.024400</td>\n",
       "      <td>0.371100</td>\n",
       "      <td>0.324700</td>\n",
       "      <td>0.244100</td>\n",
       "      <td>6.000000</td>\n",
       "      <td>4.000000</td>\n",
       "      <td>10.000000</td>\n",
       "      <td>7.000000</td>\n",
       "    </tr>\n",
       "    <tr>\n",
       "      <th>max</th>\n",
       "      <td>4.665500</td>\n",
       "      <td>4.663100</td>\n",
       "      <td>3.886700</td>\n",
       "      <td>3.313000</td>\n",
       "      <td>4.663100</td>\n",
       "      <td>1.196300</td>\n",
       "      <td>1.621100</td>\n",
       "      <td>4.665500</td>\n",
       "      <td>4.663100</td>\n",
       "      <td>4.663100</td>\n",
       "      <td>10.000000</td>\n",
       "      <td>10.000000</td>\n",
       "      <td>23.000000</td>\n",
       "      <td>23.000000</td>\n",
       "    </tr>\n",
       "  </tbody>\n",
       "</table>\n",
       "</div>"
      ],
      "text/plain": [
       "               Emg1            Emg2           Emg3           Emg4  \\\n",
       "count  472501.000000  472501.000000  472501.000000  472501.000000   \n",
       "mean        0.449598       0.369994       0.165067       0.110990   \n",
       "std         0.549594       0.394968       0.285421       0.240335   \n",
       "min         0.002400       0.002400       0.002400       0.002400   \n",
       "25%         0.100100       0.114700       0.004900       0.002400   \n",
       "50%         0.234400       0.263700       0.043900       0.002400   \n",
       "75%         0.590800       0.502900       0.192900       0.092800   \n",
       "max         4.665500       4.663100       3.886700       3.313000   \n",
       "\n",
       "               Emg5            Emg6           Emg7           Emg8  \\\n",
       "count  472501.000000  472501.000000  472501.000000  472501.000000   \n",
       "mean        0.056133       0.014915       0.042496       0.302602   \n",
       "std         0.265131       0.047967       0.110609       0.505100   \n",
       "min         0.002400       0.000000       0.000000       0.002400   \n",
       "25%         0.002400       0.002400       0.002400       0.014600   \n",
       "50%         0.002400       0.002400       0.002400       0.095200   \n",
       "75%         0.009800       0.002400       0.024400       0.371100   \n",
       "max         4.663100       1.196300       1.621100       4.665500   \n",
       "\n",
       "                Emg9          Emg10     repetition   rerepetition  \\\n",
       "count  472501.000000  472501.000000  472501.000000  472501.000000   \n",
       "mean        0.260029       0.219605       3.124415       2.194270   \n",
       "std         0.485920       0.424508       3.479845       3.242834   \n",
       "min         0.000000       0.002400       0.000000       0.000000   \n",
       "25%         0.002400       0.002400       0.000000       0.000000   \n",
       "50%         0.002400       0.063500       2.000000       0.000000   \n",
       "75%         0.324700       0.244100       6.000000       4.000000   \n",
       "max         4.663100       4.663100      10.000000      10.000000   \n",
       "\n",
       "            stimulus     restimulus  \n",
       "count  472501.000000  472501.000000  \n",
       "mean        5.539897       3.961033  \n",
       "std         6.570169       6.186865  \n",
       "min         0.000000       0.000000  \n",
       "25%         0.000000       0.000000  \n",
       "50%         3.000000       0.000000  \n",
       "75%        10.000000       7.000000  \n",
       "max        23.000000      23.000000  "
      ]
     },
     "execution_count": 6,
     "metadata": {},
     "output_type": "execute_result"
    }
   ],
   "source": [
    "raw_data.describe(include='all')"
   ]
  },
  {
   "cell_type": "code",
   "execution_count": 7,
   "id": "fd128768",
   "metadata": {},
   "outputs": [
    {
     "name": "stdout",
     "output_type": "stream",
     "text": [
      "Unique Dependent values and their counts :\n",
      "0     204101\n",
      "8      15513\n",
      "2      15511\n",
      "7      15508\n",
      "12     15504\n",
      "4      15495\n",
      "5      15490\n",
      "6      15478\n",
      "11     15473\n",
      "9      15471\n",
      "10     15448\n",
      "3      15445\n",
      "1      15427\n",
      "17     10345\n",
      "14     10345\n",
      "13     10341\n",
      "15     10313\n",
      "16     10282\n",
      "21      5194\n",
      "19      5185\n",
      "20      5178\n",
      "18      5176\n",
      "22      5151\n",
      "23      5127\n",
      "Name: stimulus, dtype: int64\n"
     ]
    }
   ],
   "source": [
    "print(\"Unique Dependent values and their counts :\")\n",
    "print(raw_data[\"stimulus\"].value_counts())"
   ]
  },
  {
   "cell_type": "code",
   "execution_count": 8,
   "id": "93de5c20",
   "metadata": {},
   "outputs": [
    {
     "data": {
      "text/plain": [
       "Text(0, 0.5, 'Frequency')"
      ]
     },
     "execution_count": 8,
     "metadata": {},
     "output_type": "execute_result"
    },
    {
     "data": {
      "image/png": "[encoded data removed]",
      "text/plain": [
       "<Figure size 432x288 with 1 Axes>"
      ]
     },
     "metadata": {
      "needs_background": "light"
     },
     "output_type": "display_data"
    }
   ],
   "source": [
    "count_classes = pd.value_counts(raw_data['stimulus'], sort = True)\n",
    "\n",
    "count_classes.plot(kind = 'bar', rot=0)\n",
    "\n",
    "plt.title(\"stimulus Class Distribution\")\n",
    "\n",
    "plt.xlabel(\"Class\")\n",
    "\n",
    "plt.ylabel(\"Frequency\")"
   ]
  },
  {
   "cell_type": "markdown",
   "id": "359a141d",
   "metadata": {},
   "source": [
    "# Data Cleaning and Exploratory Data Analysis with New Data"
   ]
  },
  {
   "cell_type": "code",
   "execution_count": 9,
   "id": "34a50c05",
   "metadata": {},
   "outputs": [],
   "source": [
    "index_names = raw_data[ (raw_data['stimulus'] != raw_data['restimulus'])].index\n",
    "raw_data.drop(index_names, inplace = True)"
   ]
  },
  {
   "cell_type": "code",
   "execution_count": 10,
   "id": "78d479cc",
   "metadata": {},
   "outputs": [],
   "source": [
    "index_names = raw_data[ (raw_data['repetition'] != raw_data['rerepetition'])].index\n",
    "raw_data.drop(index_names, inplace = True)"
   ]
  },
  {
   "cell_type": "code",
   "execution_count": 11,
   "id": "8418d307",
   "metadata": {},
   "outputs": [
    {
     "data": {
      "text/html": [
       "<div>\n",
       "<style scoped>\n",
       "    .dataframe tbody tr th:only-of-type {\n",
       "        vertical-align: middle;\n",
       "    }\n",
       "\n",
       "    .dataframe tbody tr th {\n",
       "        vertical-align: top;\n",
       "    }\n",
       "\n",
       "    .dataframe thead th {\n",
       "        text-align: right;\n",
       "    }\n",
       "</style>\n",
       "<table border=\"1\" class=\"dataframe\">\n",
       "  <thead>\n",
       "    <tr style=\"text-align: right;\">\n",
       "      <th></th>\n",
       "      <th>Emg1</th>\n",
       "      <th>Emg2</th>\n",
       "      <th>Emg3</th>\n",
       "      <th>Emg4</th>\n",
       "      <th>Emg5</th>\n",
       "      <th>Emg6</th>\n",
       "      <th>Emg7</th>\n",
       "      <th>Emg8</th>\n",
       "      <th>Emg9</th>\n",
       "      <th>Emg10</th>\n",
       "      <th>repetition</th>\n",
       "      <th>rerepetition</th>\n",
       "      <th>stimulus</th>\n",
       "      <th>restimulus</th>\n",
       "    </tr>\n",
       "  </thead>\n",
       "  <tbody>\n",
       "    <tr>\n",
       "      <th>440738</th>\n",
       "      <td>0.0122</td>\n",
       "      <td>0.1001</td>\n",
       "      <td>0.0024</td>\n",
       "      <td>0.0024</td>\n",
       "      <td>0.0024</td>\n",
       "      <td>0.0024</td>\n",
       "      <td>0.0024</td>\n",
       "      <td>0.0024</td>\n",
       "      <td>0.0024</td>\n",
       "      <td>0.0049</td>\n",
       "      <td>0</td>\n",
       "      <td>0</td>\n",
       "      <td>0</td>\n",
       "      <td>0</td>\n",
       "    </tr>\n",
       "    <tr>\n",
       "      <th>154911</th>\n",
       "      <td>0.8667</td>\n",
       "      <td>0.8691</td>\n",
       "      <td>1.0522</td>\n",
       "      <td>0.3418</td>\n",
       "      <td>0.3027</td>\n",
       "      <td>0.0342</td>\n",
       "      <td>0.0757</td>\n",
       "      <td>1.4648</td>\n",
       "      <td>1.1914</td>\n",
       "      <td>1.1230</td>\n",
       "      <td>5</td>\n",
       "      <td>5</td>\n",
       "      <td>7</td>\n",
       "      <td>7</td>\n",
       "    </tr>\n",
       "    <tr>\n",
       "      <th>327804</th>\n",
       "      <td>1.3428</td>\n",
       "      <td>0.5859</td>\n",
       "      <td>0.1074</td>\n",
       "      <td>0.3857</td>\n",
       "      <td>0.0269</td>\n",
       "      <td>0.0049</td>\n",
       "      <td>0.0171</td>\n",
       "      <td>0.3418</td>\n",
       "      <td>0.5151</td>\n",
       "      <td>0.1196</td>\n",
       "      <td>9</td>\n",
       "      <td>9</td>\n",
       "      <td>9</td>\n",
       "      <td>9</td>\n",
       "    </tr>\n",
       "    <tr>\n",
       "      <th>27035</th>\n",
       "      <td>0.0586</td>\n",
       "      <td>0.1782</td>\n",
       "      <td>0.0366</td>\n",
       "      <td>0.0024</td>\n",
       "      <td>0.0024</td>\n",
       "      <td>0.0024</td>\n",
       "      <td>0.0024</td>\n",
       "      <td>0.0024</td>\n",
       "      <td>0.0049</td>\n",
       "      <td>0.0024</td>\n",
       "      <td>0</td>\n",
       "      <td>0</td>\n",
       "      <td>0</td>\n",
       "      <td>0</td>\n",
       "    </tr>\n",
       "    <tr>\n",
       "      <th>92473</th>\n",
       "      <td>1.3379</td>\n",
       "      <td>0.7959</td>\n",
       "      <td>0.1172</td>\n",
       "      <td>0.4834</td>\n",
       "      <td>0.0464</td>\n",
       "      <td>0.0024</td>\n",
       "      <td>0.0195</td>\n",
       "      <td>0.4639</td>\n",
       "      <td>0.6201</td>\n",
       "      <td>0.3125</td>\n",
       "      <td>1</td>\n",
       "      <td>1</td>\n",
       "      <td>12</td>\n",
       "      <td>12</td>\n",
       "    </tr>\n",
       "  </tbody>\n",
       "</table>\n",
       "</div>"
      ],
      "text/plain": [
       "         Emg1     Emg2    Emg3    Emg4   Emg5     Emg6    Emg7    Emg8  \\\n",
       "440738  0.0122  0.1001  0.0024  0.0024  0.0024  0.0024  0.0024  0.0024   \n",
       "154911  0.8667  0.8691  1.0522  0.3418  0.3027  0.0342  0.0757  1.4648   \n",
       "327804  1.3428  0.5859  0.1074  0.3857  0.0269  0.0049  0.0171  0.3418   \n",
       "27035   0.0586  0.1782  0.0366  0.0024  0.0024  0.0024  0.0024  0.0024   \n",
       "92473   1.3379  0.7959  0.1172  0.4834  0.0464  0.0024  0.0195  0.4639   \n",
       "\n",
       "          Emg9   Emg10  repetition  rerepetition  stimulus  restimulus  \n",
       "440738  0.0024  0.0049           0             0         0           0  \n",
       "154911  1.1914  1.1230           5             5         7           7  \n",
       "327804  0.5151  0.1196           9             9         9           9  \n",
       "27035   0.0049  0.0024           0             0         0           0  \n",
       "92473   0.6201  0.3125           1             1        12          12  "
      ]
     },
     "execution_count": 11,
     "metadata": {},
     "output_type": "execute_result"
    }
   ],
   "source": [
    "raw_data.sample(5)"
   ]
  },
  {
   "cell_type": "code",
   "execution_count": 12,
   "id": "ff5d7709",
   "metadata": {},
   "outputs": [
    {
     "data": {
      "text/plain": [
       "(386613, 14)"
      ]
     },
     "execution_count": 12,
     "metadata": {},
     "output_type": "execute_result"
    }
   ],
   "source": [
    "raw_data.shape"
   ]
  },
  {
   "cell_type": "code",
   "execution_count": 13,
   "id": "9df2c3c9",
   "metadata": {},
   "outputs": [
    {
     "name": "stdout",
     "output_type": "stream",
     "text": [
      "<class 'pandas.core.frame.DataFrame'>\n",
      "Int64Index: 386613 entries, 0 to 472500\n",
      "Data columns (total 14 columns):\n",
      " #   Column        Non-Null Count   Dtype  \n",
      "---  ------        --------------   -----  \n",
      " 0   Emg1          386613 non-null  float64\n",
      " 1   Emg2          386613 non-null  float64\n",
      " 2   Emg3          386613 non-null  float64\n",
      " 3   Emg4          386613 non-null  float64\n",
      " 4   Emg5          386613 non-null  float64\n",
      " 5   Emg6          386613 non-null  float64\n",
      " 6   Emg7          386613 non-null  float64\n",
      " 7   Emg8          386613 non-null  float64\n",
      " 8   Emg9          386613 non-null  float64\n",
      " 9   Emg10         386613 non-null  float64\n",
      " 10  repetition    386613 non-null  int64  \n",
      " 11  rerepetition  386613 non-null  int64  \n",
      " 12  stimulus      386613 non-null  int64  \n",
      " 13  restimulus    386613 non-null  int64  \n",
      "dtypes: float64(10), int64(4)\n",
      "memory usage: 52.3 MB\n"
     ]
    }
   ],
   "source": [
    "raw_data.info()"
   ]
  },
  {
   "cell_type": "code",
   "execution_count": 14,
   "id": "fbec9c31",
   "metadata": {},
   "outputs": [
    {
     "name": "stdout",
     "output_type": "stream",
     "text": [
      "Emg1            False\n",
      "Emg2            False\n",
      "Emg3            False\n",
      "Emg4            False\n",
      "Emg5            False\n",
      "Emg6            False\n",
      "Emg7            False\n",
      "Emg8            False\n",
      "Emg9            False\n",
      "Emg10           False\n",
      "repetition      False\n",
      "rerepetition    False\n",
      "stimulus        False\n",
      "restimulus      False\n",
      "dtype: bool\n"
     ]
    }
   ],
   "source": [
    "print(raw_data.isnull().any())"
   ]
  },
  {
   "cell_type": "code",
   "execution_count": 15,
   "id": "3a406dae",
   "metadata": {},
   "outputs": [],
   "source": [
    "X = raw_data.iloc[:,0:10]\n",
    "y = raw_data.stimulus"
   ]
  },
  {
   "cell_type": "markdown",
   "id": "43c83045",
   "metadata": {},
   "source": [
    "# Dropping Feature 7"
   ]
  },
  {
   "cell_type": "code",
   "execution_count": 16,
   "id": "b6982bfe",
   "metadata": {},
   "outputs": [
    {
     "data": {
      "text/html": [
       "<div>\n",
       "<style scoped>\n",
       "    .dataframe tbody tr th:only-of-type {\n",
       "        vertical-align: middle;\n",
       "    }\n",
       "\n",
       "    .dataframe tbody tr th {\n",
       "        vertical-align: top;\n",
       "    }\n",
       "\n",
       "    .dataframe thead th {\n",
       "        text-align: right;\n",
       "    }\n",
       "</style>\n",
       "<table border=\"1\" class=\"dataframe\">\n",
       "  <thead>\n",
       "    <tr style=\"text-align: right;\">\n",
       "      <th></th>\n",
       "      <th>Emg1</th>\n",
       "      <th>Emg2</th>\n",
       "      <th>Emg3</th>\n",
       "      <th>Emg4</th>\n",
       "      <th>Emg5</th>\n",
       "      <th>Emg6</th>\n",
       "      <th>Emg8</th>\n",
       "      <th>Emg9</th>\n",
       "      <th>Emg10</th>\n",
       "    </tr>\n",
       "  </thead>\n",
       "  <tbody>\n",
       "    <tr>\n",
       "      <th>0</th>\n",
       "      <td>0.0269</td>\n",
       "      <td>0.1001</td>\n",
       "      <td>0.0024</td>\n",
       "      <td>0.0024</td>\n",
       "      <td>0.0024</td>\n",
       "      <td>0.0024</td>\n",
       "      <td>0.0024</td>\n",
       "      <td>0.0024</td>\n",
       "      <td>0.0024</td>\n",
       "    </tr>\n",
       "    <tr>\n",
       "      <th>1</th>\n",
       "      <td>0.0269</td>\n",
       "      <td>0.0757</td>\n",
       "      <td>0.0024</td>\n",
       "      <td>0.0024</td>\n",
       "      <td>0.0024</td>\n",
       "      <td>0.0024</td>\n",
       "      <td>0.0024</td>\n",
       "      <td>0.0024</td>\n",
       "      <td>0.0024</td>\n",
       "    </tr>\n",
       "    <tr>\n",
       "      <th>2</th>\n",
       "      <td>0.0317</td>\n",
       "      <td>0.0586</td>\n",
       "      <td>0.0024</td>\n",
       "      <td>0.0024</td>\n",
       "      <td>0.0024</td>\n",
       "      <td>0.0024</td>\n",
       "      <td>0.0024</td>\n",
       "      <td>0.0024</td>\n",
       "      <td>0.0024</td>\n",
       "    </tr>\n",
       "    <tr>\n",
       "      <th>3</th>\n",
       "      <td>0.0293</td>\n",
       "      <td>0.0391</td>\n",
       "      <td>0.0024</td>\n",
       "      <td>0.0024</td>\n",
       "      <td>0.0024</td>\n",
       "      <td>0.0024</td>\n",
       "      <td>0.0024</td>\n",
       "      <td>0.0024</td>\n",
       "      <td>0.0024</td>\n",
       "    </tr>\n",
       "    <tr>\n",
       "      <th>4</th>\n",
       "      <td>0.0293</td>\n",
       "      <td>0.0269</td>\n",
       "      <td>0.0024</td>\n",
       "      <td>0.0024</td>\n",
       "      <td>0.0049</td>\n",
       "      <td>0.0024</td>\n",
       "      <td>0.0024</td>\n",
       "      <td>0.0024</td>\n",
       "      <td>0.0024</td>\n",
       "    </tr>\n",
       "  </tbody>\n",
       "</table>\n",
       "</div>"
      ],
      "text/plain": [
       "    Emg1     Emg2    Emg3    Emg4   Emg5     Emg6    Emg8    Emg9   Emg10\n",
       "0  0.0269  0.1001  0.0024  0.0024  0.0024  0.0024  0.0024  0.0024  0.0024\n",
       "1  0.0269  0.0757  0.0024  0.0024  0.0024  0.0024  0.0024  0.0024  0.0024\n",
       "2  0.0317  0.0586  0.0024  0.0024  0.0024  0.0024  0.0024  0.0024  0.0024\n",
       "3  0.0293  0.0391  0.0024  0.0024  0.0024  0.0024  0.0024  0.0024  0.0024\n",
       "4  0.0293  0.0269  0.0024  0.0024  0.0049  0.0024  0.0024  0.0024  0.0024"
      ]
     },
     "execution_count": 16,
     "metadata": {},
     "output_type": "execute_result"
    }
   ],
   "source": [
    "drop_list1 = ['Emg7']\n",
    "X = X.drop(drop_list1,axis = 1 )       \n",
    "X.head()"
   ]
  },
  {
   "cell_type": "markdown",
   "id": "8a73eef8",
   "metadata": {},
   "source": [
    "# Standard Scaler"
   ]
  },
  {
   "cell_type": "code",
   "execution_count": 17,
   "id": "4ad753d2",
   "metadata": {},
   "outputs": [],
   "source": [
    "from sklearn.preprocessing import StandardScaler\n",
    "standardscaler=StandardScaler()"
   ]
  },
  {
   "cell_type": "code",
   "execution_count": 18,
   "id": "9a536810",
   "metadata": {},
   "outputs": [],
   "source": [
    "sc = pd.DataFrame(standardscaler.fit_transform(X))"
   ]
  },
  {
   "cell_type": "code",
   "execution_count": 19,
   "id": "9f00ed0c",
   "metadata": {},
   "outputs": [
    {
     "data": {
      "text/html": [
       "<div>\n",
       "<style scoped>\n",
       "    .dataframe tbody tr th:only-of-type {\n",
       "        vertical-align: middle;\n",
       "    }\n",
       "\n",
       "    .dataframe tbody tr th {\n",
       "        vertical-align: top;\n",
       "    }\n",
       "\n",
       "    .dataframe thead th {\n",
       "        text-align: right;\n",
       "    }\n",
       "</style>\n",
       "<table border=\"1\" class=\"dataframe\">\n",
       "  <thead>\n",
       "    <tr style=\"text-align: right;\">\n",
       "      <th></th>\n",
       "      <th>0</th>\n",
       "      <th>1</th>\n",
       "      <th>2</th>\n",
       "      <th>3</th>\n",
       "      <th>4</th>\n",
       "      <th>5</th>\n",
       "      <th>6</th>\n",
       "      <th>7</th>\n",
       "      <th>8</th>\n",
       "    </tr>\n",
       "  </thead>\n",
       "  <tbody>\n",
       "    <tr>\n",
       "      <th>0</th>\n",
       "      <td>-0.813756</td>\n",
       "      <td>-0.710291</td>\n",
       "      <td>-0.611593</td>\n",
       "      <td>-0.504274</td>\n",
       "      <td>-0.223238</td>\n",
       "      <td>-0.289385</td>\n",
       "      <td>-0.633016</td>\n",
       "      <td>-0.584607</td>\n",
       "      <td>-0.538362</td>\n",
       "    </tr>\n",
       "    <tr>\n",
       "      <th>1</th>\n",
       "      <td>-0.813756</td>\n",
       "      <td>-0.768316</td>\n",
       "      <td>-0.611593</td>\n",
       "      <td>-0.504274</td>\n",
       "      <td>-0.223238</td>\n",
       "      <td>-0.289385</td>\n",
       "      <td>-0.633016</td>\n",
       "      <td>-0.584607</td>\n",
       "      <td>-0.538362</td>\n",
       "    </tr>\n",
       "    <tr>\n",
       "      <th>2</th>\n",
       "      <td>-0.805569</td>\n",
       "      <td>-0.808981</td>\n",
       "      <td>-0.611593</td>\n",
       "      <td>-0.504274</td>\n",
       "      <td>-0.223238</td>\n",
       "      <td>-0.289385</td>\n",
       "      <td>-0.633016</td>\n",
       "      <td>-0.584607</td>\n",
       "      <td>-0.538362</td>\n",
       "    </tr>\n",
       "    <tr>\n",
       "      <th>3</th>\n",
       "      <td>-0.809662</td>\n",
       "      <td>-0.855353</td>\n",
       "      <td>-0.611593</td>\n",
       "      <td>-0.504274</td>\n",
       "      <td>-0.223238</td>\n",
       "      <td>-0.289385</td>\n",
       "      <td>-0.633016</td>\n",
       "      <td>-0.584607</td>\n",
       "      <td>-0.538362</td>\n",
       "    </tr>\n",
       "    <tr>\n",
       "      <th>4</th>\n",
       "      <td>-0.809662</td>\n",
       "      <td>-0.884366</td>\n",
       "      <td>-0.611593</td>\n",
       "      <td>-0.504274</td>\n",
       "      <td>-0.214670</td>\n",
       "      <td>-0.289385</td>\n",
       "      <td>-0.633016</td>\n",
       "      <td>-0.584607</td>\n",
       "      <td>-0.538362</td>\n",
       "    </tr>\n",
       "    <tr>\n",
       "      <th>...</th>\n",
       "      <td>...</td>\n",
       "      <td>...</td>\n",
       "      <td>...</td>\n",
       "      <td>...</td>\n",
       "      <td>...</td>\n",
       "      <td>...</td>\n",
       "      <td>...</td>\n",
       "      <td>...</td>\n",
       "      <td>...</td>\n",
       "    </tr>\n",
       "    <tr>\n",
       "      <th>386608</th>\n",
       "      <td>-0.614017</td>\n",
       "      <td>-0.007807</td>\n",
       "      <td>-0.524071</td>\n",
       "      <td>-0.504274</td>\n",
       "      <td>-0.223238</td>\n",
       "      <td>-0.289385</td>\n",
       "      <td>-0.619390</td>\n",
       "      <td>-0.584607</td>\n",
       "      <td>-0.538362</td>\n",
       "    </tr>\n",
       "    <tr>\n",
       "      <th>386609</th>\n",
       "      <td>-0.622204</td>\n",
       "      <td>-0.042527</td>\n",
       "      <td>-0.540014</td>\n",
       "      <td>-0.504274</td>\n",
       "      <td>-0.223238</td>\n",
       "      <td>-0.289385</td>\n",
       "      <td>-0.623994</td>\n",
       "      <td>-0.584607</td>\n",
       "      <td>-0.538362</td>\n",
       "    </tr>\n",
       "    <tr>\n",
       "      <th>386610</th>\n",
       "      <td>-0.609752</td>\n",
       "      <td>-0.007807</td>\n",
       "      <td>-0.547822</td>\n",
       "      <td>-0.494660</td>\n",
       "      <td>-0.223238</td>\n",
       "      <td>-0.289385</td>\n",
       "      <td>-0.619390</td>\n",
       "      <td>-0.584607</td>\n",
       "      <td>-0.538362</td>\n",
       "    </tr>\n",
       "    <tr>\n",
       "      <th>386611</th>\n",
       "      <td>-0.626468</td>\n",
       "      <td>-0.077484</td>\n",
       "      <td>-0.571899</td>\n",
       "      <td>-0.504274</td>\n",
       "      <td>-0.223238</td>\n",
       "      <td>-0.289385</td>\n",
       "      <td>-0.619390</td>\n",
       "      <td>-0.584607</td>\n",
       "      <td>-0.538362</td>\n",
       "    </tr>\n",
       "    <tr>\n",
       "      <th>386612</th>\n",
       "      <td>-0.605659</td>\n",
       "      <td>0.044511</td>\n",
       "      <td>-0.571899</td>\n",
       "      <td>-0.504274</td>\n",
       "      <td>-0.223238</td>\n",
       "      <td>-0.289385</td>\n",
       "      <td>-0.623994</td>\n",
       "      <td>-0.584607</td>\n",
       "      <td>-0.538362</td>\n",
       "    </tr>\n",
       "  </tbody>\n",
       "</table>\n",
       "<p>386613 rows × 9 columns</p>\n",
       "</div>"
      ],
      "text/plain": [
       "               0         1         2         3         4         5         6  \\\n",
       "0      -0.813756 -0.710291 -0.611593 -0.504274 -0.223238 -0.289385 -0.633016   \n",
       "1      -0.813756 -0.768316 -0.611593 -0.504274 -0.223238 -0.289385 -0.633016   \n",
       "2      -0.805569 -0.808981 -0.611593 -0.504274 -0.223238 -0.289385 -0.633016   \n",
       "3      -0.809662 -0.855353 -0.611593 -0.504274 -0.223238 -0.289385 -0.633016   \n",
       "4      -0.809662 -0.884366 -0.611593 -0.504274 -0.214670 -0.289385 -0.633016   \n",
       "...          ...       ...       ...       ...       ...       ...       ...   \n",
       "386608 -0.614017 -0.007807 -0.524071 -0.504274 -0.223238 -0.289385 -0.619390   \n",
       "386609 -0.622204 -0.042527 -0.540014 -0.504274 -0.223238 -0.289385 -0.623994   \n",
       "386610 -0.609752 -0.007807 -0.547822 -0.494660 -0.223238 -0.289385 -0.619390   \n",
       "386611 -0.626468 -0.077484 -0.571899 -0.504274 -0.223238 -0.289385 -0.619390   \n",
       "386612 -0.605659  0.044511 -0.571899 -0.504274 -0.223238 -0.289385 -0.623994   \n",
       "\n",
       "               7         8  \n",
       "0      -0.584607 -0.538362  \n",
       "1      -0.584607 -0.538362  \n",
       "2      -0.584607 -0.538362  \n",
       "3      -0.584607 -0.538362  \n",
       "4      -0.584607 -0.538362  \n",
       "...          ...       ...  \n",
       "386608 -0.584607 -0.538362  \n",
       "386609 -0.584607 -0.538362  \n",
       "386610 -0.584607 -0.538362  \n",
       "386611 -0.584607 -0.538362  \n",
       "386612 -0.584607 -0.538362  \n",
       "\n",
       "[386613 rows x 9 columns]"
      ]
     },
     "execution_count": 19,
     "metadata": {},
     "output_type": "execute_result"
    }
   ],
   "source": [
    "sc"
   ]
  },
  {
   "cell_type": "code",
   "execution_count": 20,
   "id": "777e3d46",
   "metadata": {},
   "outputs": [],
   "source": [
    "# Splitting data for training and testing\n",
    "X_train, X_test, y_train, y_test = train_test_split(sc, y, test_size = 0.2, random_state = 39)"
   ]
  },
  {
   "cell_type": "markdown",
   "id": "06132938",
   "metadata": {},
   "source": [
    "# Logistic Regression"
   ]
  },
  {
   "cell_type": "code",
   "execution_count": 21,
   "id": "abb5903e",
   "metadata": {},
   "outputs": [
    {
     "name": "stderr",
     "output_type": "stream",
     "text": [
      "E:\\MachineLearning\\lib\\site-packages\\sklearn\\linear_model\\_logistic.py:763: ConvergenceWarning: lbfgs failed to converge (status=1):\n",
      "STOP: TOTAL NO. of ITERATIONS REACHED LIMIT.\n",
      "\n",
      "Increase the number of iterations (max_iter) or scale the data as shown in:\n",
      "    https://scikit-learn.org/stable/modules/preprocessing.html\n",
      "Please also refer to the documentation for alternative solver options:\n",
      "    https://scikit-learn.org/stable/modules/linear_model.html#logistic-regression\n",
      "  n_iter_i = _check_optimize_result(\n"
     ]
    },
    {
     "data": {
      "text/plain": [
       "LogisticRegression()"
      ]
     },
     "execution_count": 21,
     "metadata": {},
     "output_type": "execute_result"
    }
   ],
   "source": [
    "from sklearn.linear_model import LogisticRegression\n",
    "LogisticRegression = LogisticRegression()\n",
    "LogisticRegression.fit(X_train, y_train)"
   ]
  },
  {
   "cell_type": "code",
   "execution_count": 22,
   "id": "ccdbfa78",
   "metadata": {},
   "outputs": [],
   "source": [
    "y_pred = LogisticRegression.predict(X_test)"
   ]
  },
  {
   "cell_type": "code",
   "execution_count": 23,
   "id": "b55b5d1b",
   "metadata": {},
   "outputs": [
    {
     "name": "stdout",
     "output_type": "stream",
     "text": [
      "Accuracy is: 62.24538623695408\n"
     ]
    }
   ],
   "source": [
    "from sklearn.metrics import accuracy_score\n",
    "accuracy = {accuracy_score(y_test, y_pred)}\n",
    "print(f\"Accuracy is: {accuracy_score(y_test, y_pred)* 100}\")"
   ]
  },
  {
   "cell_type": "code",
   "execution_count": 24,
   "id": "5d23df19",
   "metadata": {},
   "outputs": [
    {
     "name": "stdout",
     "output_type": "stream",
     "text": [
      "\u001b[1mClassification report : \u001b[0m\n",
      "               precision    recall  f1-score   support\n",
      "\n",
      "           0       0.82      0.98      0.89     40068\n",
      "           1       0.27      0.20      0.23      2251\n",
      "           2       0.31      0.38      0.34      2182\n",
      "           3       0.18      0.11      0.14      2147\n",
      "           4       0.22      0.20      0.21      2123\n",
      "           5       0.23      0.09      0.13      2111\n",
      "           6       0.48      0.32      0.38      2101\n",
      "           7       0.35      0.39      0.37      2141\n",
      "           8       0.19      0.19      0.19      2000\n",
      "           9       0.30      0.26      0.28      2162\n",
      "          10       0.19      0.09      0.12      2196\n",
      "          11       0.23      0.34      0.28      2200\n",
      "          12       0.18      0.10      0.13      1943\n",
      "          13       0.44      0.26      0.33      1420\n",
      "          14       0.43      0.15      0.22      1351\n",
      "          15       0.21      0.19      0.20      1250\n",
      "          16       0.48      0.26      0.34      1519\n",
      "          17       0.37      0.18      0.24      1517\n",
      "          18       0.41      0.41      0.41       873\n",
      "          19       0.20      0.23      0.21       719\n",
      "          20       0.54      0.73      0.62       714\n",
      "          21       0.09      0.00      0.01       772\n",
      "          22       0.58      0.18      0.27       624\n",
      "          23       0.50      0.51      0.51       939\n",
      "\n",
      "    accuracy                           0.62     77323\n",
      "   macro avg       0.34      0.28      0.29     77323\n",
      "weighted avg       0.57      0.62      0.58     77323\n",
      "\n",
      "\u001b[1mConfusion Matrix : \u001b[0m\n"
     ]
    },
    {
     "data": {
      "image/png": "[encoded data removed]",
      "text/plain": [
       "<Figure size 432x288 with 2 Axes>"
      ]
     },
     "metadata": {
      "needs_background": "light"
     },
     "output_type": "display_data"
    }
   ],
   "source": [
    "print('\\033[1m' +'Classification report : '+ '\\033[0m\\n', classification_report(y_test, y_pred))\n",
    "\n",
    "cm = confusion_matrix(y_pred, y_test)\n",
    "print('\\033[1m' +'Confusion Matrix : '+ '\\033[0m')\n",
    "sns.heatmap(cm, cmap = 'OrRd',annot = True, fmt='d')\n",
    "plt.show()"
   ]
  },
  {
   "cell_type": "markdown",
   "id": "bfd1ba06",
   "metadata": {},
   "source": [
    "# Evaluation"
   ]
  },
  {
   "cell_type": "code",
   "execution_count": 25,
   "id": "249642c3",
   "metadata": {},
   "outputs": [
    {
     "name": "stdout",
     "output_type": "stream",
     "text": [
      "MAE: 2.648164194353556\n",
      "MSE: 28.742418167944855\n",
      "RMSE: 5.361195591278578\n"
     ]
    }
   ],
   "source": [
    "from sklearn import metrics\n",
    "\n",
    "print('MAE:', metrics.mean_absolute_error(y_test,y_pred))\n",
    "print('MSE:', metrics.mean_squared_error(y_test, y_pred))\n",
    "print('RMSE:', np.sqrt(metrics.mean_squared_error(y_test, y_pred)))"
   ]
  },
  {
   "cell_type": "code",
   "execution_count": 26,
   "id": "da7550f7",
   "metadata": {},
   "outputs": [
    {
     "name": "stdout",
     "output_type": "stream",
     "text": [
      "Precision Score :  0.5683684883461674\n"
     ]
    }
   ],
   "source": [
    "from sklearn.metrics import precision_score\n",
    "print(\"Precision Score : \",precision_score(y_test, y_pred, average='weighted'))"
   ]
  },
  {
   "cell_type": "code",
   "execution_count": 27,
   "id": "2bd48d19",
   "metadata": {},
   "outputs": [
    {
     "name": "stdout",
     "output_type": "stream",
     "text": [
      "Recall Score :  0.6224538623695408\n"
     ]
    }
   ],
   "source": [
    "from sklearn.metrics import recall_score\n",
    "print(\"Recall Score : \",recall_score(y_test, y_pred,average='weighted'))"
   ]
  },
  {
   "cell_type": "code",
   "execution_count": 28,
   "id": "6e46e57c",
   "metadata": {},
   "outputs": [
    {
     "name": "stdout",
     "output_type": "stream",
     "text": [
      "f1_score :  0.5840095250091699\n"
     ]
    }
   ],
   "source": [
    "from sklearn.metrics import f1_score\n",
    "print(\"f1_score : \",f1_score(y_test, y_pred,average='weighted'))"
   ]
  },
  {
   "cell_type": "code",
   "execution_count": null,
   "id": "ec97e952",
   "metadata": {},
   "outputs": [],
   "source": []
  },
  {
   "cell_type": "code",
   "execution_count": null,
   "id": "7368c2fb",
   "metadata": {},
   "outputs": [],
   "source": []
  }
 ],
 "metadata": {
  "kernelspec": {
   "display_name": "Python 3 (ipykernel)",
   "language": "python",
   "name": "python3"
  },
  "language_info": {
   "codemirror_mode": {
    "name": "ipython",
    "version": 3
   },
   "file_extension": ".py",
   "mimetype": "text/x-python",
   "name": "python",
   "nbconvert_exporter": "python",
   "pygments_lexer": "ipython3",
   "version": "3.9.7"
  }
 },
 "nbformat": 4,
 "nbformat_minor": 5
}
