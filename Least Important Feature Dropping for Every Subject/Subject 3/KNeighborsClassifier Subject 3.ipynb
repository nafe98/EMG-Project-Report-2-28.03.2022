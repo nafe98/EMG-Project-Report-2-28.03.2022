{
 "cells": [
  {
   "cell_type": "markdown",
   "id": "5146ed0c",
   "metadata": {},
   "source": [
    "# Importing Libraries"
   ]
  },
  {
   "cell_type": "code",
   "execution_count": 1,
   "id": "3045e9ed",
   "metadata": {},
   "outputs": [],
   "source": [
    "import numpy as np\n",
    "import pandas as pd\n",
    "import matplotlib.pyplot as plt\n",
    "import seaborn as sns\n",
    "from sklearn.model_selection import train_test_split\n",
    "from sklearn.metrics import confusion_matrix, f1_score, accuracy_score, classification_report"
   ]
  },
  {
   "cell_type": "markdown",
   "id": "42648960",
   "metadata": {},
   "source": [
    "# Exploratory Data Analysis"
   ]
  },
  {
   "cell_type": "code",
   "execution_count": 2,
   "id": "c6cab329",
   "metadata": {
    "scrolled": false
   },
   "outputs": [
    {
     "data": {
      "text/html": [
       "<div>\n",
       "<style scoped>\n",
       "    .dataframe tbody tr th:only-of-type {\n",
       "        vertical-align: middle;\n",
       "    }\n",
       "\n",
       "    .dataframe tbody tr th {\n",
       "        vertical-align: top;\n",
       "    }\n",
       "\n",
       "    .dataframe thead th {\n",
       "        text-align: right;\n",
       "    }\n",
       "</style>\n",
       "<table border=\"1\" class=\"dataframe\">\n",
       "  <thead>\n",
       "    <tr style=\"text-align: right;\">\n",
       "      <th></th>\n",
       "      <th>Emg1</th>\n",
       "      <th>Emg2</th>\n",
       "      <th>Emg3</th>\n",
       "      <th>Emg4</th>\n",
       "      <th>Emg5</th>\n",
       "      <th>Emg6</th>\n",
       "      <th>Emg7</th>\n",
       "      <th>Emg8</th>\n",
       "      <th>Emg9</th>\n",
       "      <th>Emg10</th>\n",
       "      <th>repetition</th>\n",
       "      <th>rerepetition</th>\n",
       "      <th>stimulus</th>\n",
       "      <th>restimulus</th>\n",
       "    </tr>\n",
       "  </thead>\n",
       "  <tbody>\n",
       "    <tr>\n",
       "      <th>388179</th>\n",
       "      <td>0.0024</td>\n",
       "      <td>0.0024</td>\n",
       "      <td>0.0024</td>\n",
       "      <td>0.0024</td>\n",
       "      <td>0.0024</td>\n",
       "      <td>0.0024</td>\n",
       "      <td>0.0024</td>\n",
       "      <td>0.0562</td>\n",
       "      <td>0.0024</td>\n",
       "      <td>0.0049</td>\n",
       "      <td>0</td>\n",
       "      <td>0</td>\n",
       "      <td>0</td>\n",
       "      <td>0</td>\n",
       "    </tr>\n",
       "    <tr>\n",
       "      <th>279214</th>\n",
       "      <td>0.0024</td>\n",
       "      <td>0.0024</td>\n",
       "      <td>0.0024</td>\n",
       "      <td>0.0024</td>\n",
       "      <td>0.0024</td>\n",
       "      <td>0.0024</td>\n",
       "      <td>0.0024</td>\n",
       "      <td>0.0244</td>\n",
       "      <td>0.0024</td>\n",
       "      <td>0.0610</td>\n",
       "      <td>0</td>\n",
       "      <td>0</td>\n",
       "      <td>0</td>\n",
       "      <td>0</td>\n",
       "    </tr>\n",
       "    <tr>\n",
       "      <th>98431</th>\n",
       "      <td>0.0977</td>\n",
       "      <td>0.0024</td>\n",
       "      <td>0.0024</td>\n",
       "      <td>0.0024</td>\n",
       "      <td>0.0024</td>\n",
       "      <td>0.0024</td>\n",
       "      <td>0.0830</td>\n",
       "      <td>0.0269</td>\n",
       "      <td>0.0024</td>\n",
       "      <td>0.0024</td>\n",
       "      <td>8</td>\n",
       "      <td>8</td>\n",
       "      <td>12</td>\n",
       "      <td>12</td>\n",
       "    </tr>\n",
       "    <tr>\n",
       "      <th>422308</th>\n",
       "      <td>0.0024</td>\n",
       "      <td>0.0024</td>\n",
       "      <td>0.0024</td>\n",
       "      <td>0.0024</td>\n",
       "      <td>0.0024</td>\n",
       "      <td>0.0024</td>\n",
       "      <td>0.0024</td>\n",
       "      <td>0.0024</td>\n",
       "      <td>0.0024</td>\n",
       "      <td>0.1294</td>\n",
       "      <td>0</td>\n",
       "      <td>0</td>\n",
       "      <td>0</td>\n",
       "      <td>0</td>\n",
       "    </tr>\n",
       "    <tr>\n",
       "      <th>76462</th>\n",
       "      <td>0.0024</td>\n",
       "      <td>0.0024</td>\n",
       "      <td>0.0049</td>\n",
       "      <td>0.0024</td>\n",
       "      <td>0.0024</td>\n",
       "      <td>0.0024</td>\n",
       "      <td>0.0024</td>\n",
       "      <td>0.0635</td>\n",
       "      <td>0.0024</td>\n",
       "      <td>0.0024</td>\n",
       "      <td>0</td>\n",
       "      <td>0</td>\n",
       "      <td>0</td>\n",
       "      <td>0</td>\n",
       "    </tr>\n",
       "  </tbody>\n",
       "</table>\n",
       "</div>"
      ],
      "text/plain": [
       "          Emg1    Emg2    Emg3    Emg4    Emg5    Emg6    Emg7    Emg8  \\\n",
       "388179  0.0024  0.0024  0.0024  0.0024  0.0024  0.0024  0.0024  0.0562   \n",
       "279214  0.0024  0.0024  0.0024  0.0024  0.0024  0.0024  0.0024  0.0244   \n",
       "98431   0.0977  0.0024  0.0024  0.0024  0.0024  0.0024  0.0830  0.0269   \n",
       "422308  0.0024  0.0024  0.0024  0.0024  0.0024  0.0024  0.0024  0.0024   \n",
       "76462   0.0024  0.0024  0.0049  0.0024  0.0024  0.0024  0.0024  0.0635   \n",
       "\n",
       "          Emg9   Emg10  repetition  rerepetition  stimulus  restimulus  \n",
       "388179  0.0024  0.0049           0             0         0           0  \n",
       "279214  0.0024  0.0610           0             0         0           0  \n",
       "98431   0.0024  0.0024           8             8        12          12  \n",
       "422308  0.0024  0.1294           0             0         0           0  \n",
       "76462   0.0024  0.0024           0             0         0           0  "
      ]
     },
     "execution_count": 2,
     "metadata": {},
     "output_type": "execute_result"
    }
   ],
   "source": [
    "raw_data = pd.read_excel('Dataset 1 Patient 3.xlsx')\n",
    "raw_data.sample(5)"
   ]
  },
  {
   "cell_type": "code",
   "execution_count": 3,
   "id": "8cad9bd6",
   "metadata": {},
   "outputs": [
    {
     "data": {
      "text/plain": [
       "(467777, 14)"
      ]
     },
     "execution_count": 3,
     "metadata": {},
     "output_type": "execute_result"
    }
   ],
   "source": [
    "raw_data.shape"
   ]
  },
  {
   "cell_type": "code",
   "execution_count": 4,
   "id": "d05a18f1",
   "metadata": {},
   "outputs": [
    {
     "data": {
      "text/plain": [
       "Index(['Emg1', 'Emg2', 'Emg3', 'Emg4', 'Emg5', 'Emg6', 'Emg7', 'Emg8', 'Emg9',\n",
       "       'Emg10', 'repetition', 'rerepetition', 'stimulus', 'restimulus'],\n",
       "      dtype='object')"
      ]
     },
     "execution_count": 4,
     "metadata": {},
     "output_type": "execute_result"
    }
   ],
   "source": [
    "raw_data.columns"
   ]
  },
  {
   "cell_type": "code",
   "execution_count": 5,
   "id": "259f05e6",
   "metadata": {},
   "outputs": [
    {
     "name": "stdout",
     "output_type": "stream",
     "text": [
      "<class 'pandas.core.frame.DataFrame'>\n",
      "RangeIndex: 467777 entries, 0 to 467776\n",
      "Data columns (total 14 columns):\n",
      " #   Column        Non-Null Count   Dtype  \n",
      "---  ------        --------------   -----  \n",
      " 0   Emg1          467777 non-null  float64\n",
      " 1   Emg2          467777 non-null  float64\n",
      " 2   Emg3          467777 non-null  float64\n",
      " 3   Emg4          467777 non-null  float64\n",
      " 4   Emg5          467777 non-null  float64\n",
      " 5   Emg6          467777 non-null  float64\n",
      " 6   Emg7          467777 non-null  float64\n",
      " 7   Emg8          467777 non-null  float64\n",
      " 8   Emg9          467777 non-null  float64\n",
      " 9   Emg10         467777 non-null  float64\n",
      " 10  repetition    467777 non-null  int64  \n",
      " 11  rerepetition  467777 non-null  int64  \n",
      " 12  stimulus      467777 non-null  int64  \n",
      " 13  restimulus    467777 non-null  int64  \n",
      "dtypes: float64(10), int64(4)\n",
      "memory usage: 50.0 MB\n"
     ]
    }
   ],
   "source": [
    "raw_data.info()"
   ]
  },
  {
   "cell_type": "code",
   "execution_count": 6,
   "id": "613a1cc1",
   "metadata": {},
   "outputs": [
    {
     "data": {
      "text/html": [
       "<div>\n",
       "<style scoped>\n",
       "    .dataframe tbody tr th:only-of-type {\n",
       "        vertical-align: middle;\n",
       "    }\n",
       "\n",
       "    .dataframe tbody tr th {\n",
       "        vertical-align: top;\n",
       "    }\n",
       "\n",
       "    .dataframe thead th {\n",
       "        text-align: right;\n",
       "    }\n",
       "</style>\n",
       "<table border=\"1\" class=\"dataframe\">\n",
       "  <thead>\n",
       "    <tr style=\"text-align: right;\">\n",
       "      <th></th>\n",
       "      <th>Emg1</th>\n",
       "      <th>Emg2</th>\n",
       "      <th>Emg3</th>\n",
       "      <th>Emg4</th>\n",
       "      <th>Emg5</th>\n",
       "      <th>Emg6</th>\n",
       "      <th>Emg7</th>\n",
       "      <th>Emg8</th>\n",
       "      <th>Emg9</th>\n",
       "      <th>Emg10</th>\n",
       "      <th>repetition</th>\n",
       "      <th>rerepetition</th>\n",
       "      <th>stimulus</th>\n",
       "      <th>restimulus</th>\n",
       "    </tr>\n",
       "  </thead>\n",
       "  <tbody>\n",
       "    <tr>\n",
       "      <th>count</th>\n",
       "      <td>467777.000000</td>\n",
       "      <td>467777.000000</td>\n",
       "      <td>467777.000000</td>\n",
       "      <td>467777.000000</td>\n",
       "      <td>467777.000000</td>\n",
       "      <td>467777.000000</td>\n",
       "      <td>467777.000000</td>\n",
       "      <td>467777.000000</td>\n",
       "      <td>467777.000000</td>\n",
       "      <td>467777.000000</td>\n",
       "      <td>467777.000000</td>\n",
       "      <td>467777.000000</td>\n",
       "      <td>467777.000000</td>\n",
       "      <td>467777.000000</td>\n",
       "    </tr>\n",
       "    <tr>\n",
       "      <th>mean</th>\n",
       "      <td>0.110394</td>\n",
       "      <td>0.093456</td>\n",
       "      <td>0.099184</td>\n",
       "      <td>0.046686</td>\n",
       "      <td>0.013591</td>\n",
       "      <td>0.016319</td>\n",
       "      <td>0.221623</td>\n",
       "      <td>0.281546</td>\n",
       "      <td>0.083071</td>\n",
       "      <td>0.094819</td>\n",
       "      <td>3.153227</td>\n",
       "      <td>2.207094</td>\n",
       "      <td>5.587872</td>\n",
       "      <td>3.993129</td>\n",
       "    </tr>\n",
       "    <tr>\n",
       "      <th>std</th>\n",
       "      <td>0.276184</td>\n",
       "      <td>0.220480</td>\n",
       "      <td>0.278285</td>\n",
       "      <td>0.163785</td>\n",
       "      <td>0.057752</td>\n",
       "      <td>0.039971</td>\n",
       "      <td>0.347750</td>\n",
       "      <td>0.423341</td>\n",
       "      <td>0.256250</td>\n",
       "      <td>0.181107</td>\n",
       "      <td>3.482794</td>\n",
       "      <td>3.266631</td>\n",
       "      <td>6.575499</td>\n",
       "      <td>6.231178</td>\n",
       "    </tr>\n",
       "    <tr>\n",
       "      <th>min</th>\n",
       "      <td>0.002400</td>\n",
       "      <td>0.002400</td>\n",
       "      <td>0.002400</td>\n",
       "      <td>0.002400</td>\n",
       "      <td>0.002400</td>\n",
       "      <td>0.002400</td>\n",
       "      <td>0.002400</td>\n",
       "      <td>0.002400</td>\n",
       "      <td>0.000000</td>\n",
       "      <td>0.002400</td>\n",
       "      <td>0.000000</td>\n",
       "      <td>0.000000</td>\n",
       "      <td>0.000000</td>\n",
       "      <td>0.000000</td>\n",
       "    </tr>\n",
       "    <tr>\n",
       "      <th>25%</th>\n",
       "      <td>0.002400</td>\n",
       "      <td>0.002400</td>\n",
       "      <td>0.002400</td>\n",
       "      <td>0.002400</td>\n",
       "      <td>0.002400</td>\n",
       "      <td>0.002400</td>\n",
       "      <td>0.002400</td>\n",
       "      <td>0.043900</td>\n",
       "      <td>0.002400</td>\n",
       "      <td>0.002400</td>\n",
       "      <td>0.000000</td>\n",
       "      <td>0.000000</td>\n",
       "      <td>0.000000</td>\n",
       "      <td>0.000000</td>\n",
       "    </tr>\n",
       "    <tr>\n",
       "      <th>50%</th>\n",
       "      <td>0.012200</td>\n",
       "      <td>0.002400</td>\n",
       "      <td>0.002400</td>\n",
       "      <td>0.002400</td>\n",
       "      <td>0.002400</td>\n",
       "      <td>0.002400</td>\n",
       "      <td>0.102500</td>\n",
       "      <td>0.122100</td>\n",
       "      <td>0.002400</td>\n",
       "      <td>0.017100</td>\n",
       "      <td>2.000000</td>\n",
       "      <td>0.000000</td>\n",
       "      <td>3.000000</td>\n",
       "      <td>0.000000</td>\n",
       "    </tr>\n",
       "    <tr>\n",
       "      <th>75%</th>\n",
       "      <td>0.087900</td>\n",
       "      <td>0.070800</td>\n",
       "      <td>0.017100</td>\n",
       "      <td>0.002400</td>\n",
       "      <td>0.002400</td>\n",
       "      <td>0.007300</td>\n",
       "      <td>0.295400</td>\n",
       "      <td>0.361300</td>\n",
       "      <td>0.009800</td>\n",
       "      <td>0.117200</td>\n",
       "      <td>6.000000</td>\n",
       "      <td>4.000000</td>\n",
       "      <td>10.000000</td>\n",
       "      <td>7.000000</td>\n",
       "    </tr>\n",
       "    <tr>\n",
       "      <th>max</th>\n",
       "      <td>4.665500</td>\n",
       "      <td>4.665500</td>\n",
       "      <td>4.162600</td>\n",
       "      <td>4.016100</td>\n",
       "      <td>2.270500</td>\n",
       "      <td>0.791000</td>\n",
       "      <td>4.663100</td>\n",
       "      <td>4.665500</td>\n",
       "      <td>4.523900</td>\n",
       "      <td>2.832000</td>\n",
       "      <td>10.000000</td>\n",
       "      <td>10.000000</td>\n",
       "      <td>23.000000</td>\n",
       "      <td>23.000000</td>\n",
       "    </tr>\n",
       "  </tbody>\n",
       "</table>\n",
       "</div>"
      ],
      "text/plain": [
       "                Emg1           Emg2           Emg3           Emg4  \\\n",
       "count  467777.000000  467777.000000  467777.000000  467777.000000   \n",
       "mean        0.110394       0.093456       0.099184       0.046686   \n",
       "std         0.276184       0.220480       0.278285       0.163785   \n",
       "min         0.002400       0.002400       0.002400       0.002400   \n",
       "25%         0.002400       0.002400       0.002400       0.002400   \n",
       "50%         0.012200       0.002400       0.002400       0.002400   \n",
       "75%         0.087900       0.070800       0.017100       0.002400   \n",
       "max         4.665500       4.665500       4.162600       4.016100   \n",
       "\n",
       "                Emg5           Emg6           Emg7           Emg8  \\\n",
       "count  467777.000000  467777.000000  467777.000000  467777.000000   \n",
       "mean        0.013591       0.016319       0.221623       0.281546   \n",
       "std         0.057752       0.039971       0.347750       0.423341   \n",
       "min         0.002400       0.002400       0.002400       0.002400   \n",
       "25%         0.002400       0.002400       0.002400       0.043900   \n",
       "50%         0.002400       0.002400       0.102500       0.122100   \n",
       "75%         0.002400       0.007300       0.295400       0.361300   \n",
       "max         2.270500       0.791000       4.663100       4.665500   \n",
       "\n",
       "                Emg9          Emg10     repetition   rerepetition  \\\n",
       "count  467777.000000  467777.000000  467777.000000  467777.000000   \n",
       "mean        0.083071       0.094819       3.153227       2.207094   \n",
       "std         0.256250       0.181107       3.482794       3.266631   \n",
       "min         0.000000       0.002400       0.000000       0.000000   \n",
       "25%         0.002400       0.002400       0.000000       0.000000   \n",
       "50%         0.002400       0.017100       2.000000       0.000000   \n",
       "75%         0.009800       0.117200       6.000000       4.000000   \n",
       "max         4.523900       2.832000      10.000000      10.000000   \n",
       "\n",
       "            stimulus     restimulus  \n",
       "count  467777.000000  467777.000000  \n",
       "mean        5.587872       3.993129  \n",
       "std         6.575499       6.231178  \n",
       "min         0.000000       0.000000  \n",
       "25%         0.000000       0.000000  \n",
       "50%         3.000000       0.000000  \n",
       "75%        10.000000       7.000000  \n",
       "max        23.000000      23.000000  "
      ]
     },
     "execution_count": 6,
     "metadata": {},
     "output_type": "execute_result"
    }
   ],
   "source": [
    "raw_data.describe(include='all')"
   ]
  },
  {
   "cell_type": "code",
   "execution_count": 7,
   "id": "fd128768",
   "metadata": {},
   "outputs": [
    {
     "name": "stdout",
     "output_type": "stream",
     "text": [
      "Unique Dependent values and their counts :\n",
      "0     199613\n",
      "4      15514\n",
      "8      15513\n",
      "7      15506\n",
      "2      15493\n",
      "12     15490\n",
      "9      15468\n",
      "5      15459\n",
      "6      15456\n",
      "3      15450\n",
      "11     15450\n",
      "1      15442\n",
      "10     15430\n",
      "17     10356\n",
      "13     10343\n",
      "14     10339\n",
      "15     10297\n",
      "16     10268\n",
      "19      5181\n",
      "21      5174\n",
      "18      5169\n",
      "20      5133\n",
      "22      5129\n",
      "23      5104\n",
      "Name: stimulus, dtype: int64\n"
     ]
    }
   ],
   "source": [
    "print(\"Unique Dependent values and their counts :\")\n",
    "print(raw_data[\"stimulus\"].value_counts())"
   ]
  },
  {
   "cell_type": "code",
   "execution_count": 8,
   "id": "93de5c20",
   "metadata": {},
   "outputs": [
    {
     "data": {
      "text/plain": [
       "Text(0, 0.5, 'Frequency')"
      ]
     },
     "execution_count": 8,
     "metadata": {},
     "output_type": "execute_result"
    },
    {
     "data": {
      "image/png": "[encoded data removed]",
      "text/plain": [
       "<Figure size 432x288 with 1 Axes>"
      ]
     },
     "metadata": {
      "needs_background": "light"
     },
     "output_type": "display_data"
    }
   ],
   "source": [
    "count_classes = pd.value_counts(raw_data['stimulus'], sort = True)\n",
    "\n",
    "count_classes.plot(kind = 'bar', rot=0)\n",
    "\n",
    "plt.title(\"stimulus Class Distribution\")\n",
    "\n",
    "plt.xlabel(\"Class\")\n",
    "\n",
    "plt.ylabel(\"Frequency\")"
   ]
  },
  {
   "cell_type": "markdown",
   "id": "359a141d",
   "metadata": {},
   "source": [
    "# Data Cleaning and Exploratory Data Analysis with New Data"
   ]
  },
  {
   "cell_type": "code",
   "execution_count": 9,
   "id": "34a50c05",
   "metadata": {},
   "outputs": [],
   "source": [
    "index_names = raw_data[ (raw_data['stimulus'] != raw_data['restimulus'])].index\n",
    "raw_data.drop(index_names, inplace = True)"
   ]
  },
  {
   "cell_type": "code",
   "execution_count": 10,
   "id": "78d479cc",
   "metadata": {},
   "outputs": [],
   "source": [
    "index_names = raw_data[ (raw_data['repetition'] != raw_data['rerepetition'])].index\n",
    "raw_data.drop(index_names, inplace = True)"
   ]
  },
  {
   "cell_type": "code",
   "execution_count": 11,
   "id": "8418d307",
   "metadata": {},
   "outputs": [
    {
     "data": {
      "text/html": [
       "<div>\n",
       "<style scoped>\n",
       "    .dataframe tbody tr th:only-of-type {\n",
       "        vertical-align: middle;\n",
       "    }\n",
       "\n",
       "    .dataframe tbody tr th {\n",
       "        vertical-align: top;\n",
       "    }\n",
       "\n",
       "    .dataframe thead th {\n",
       "        text-align: right;\n",
       "    }\n",
       "</style>\n",
       "<table border=\"1\" class=\"dataframe\">\n",
       "  <thead>\n",
       "    <tr style=\"text-align: right;\">\n",
       "      <th></th>\n",
       "      <th>Emg1</th>\n",
       "      <th>Emg2</th>\n",
       "      <th>Emg3</th>\n",
       "      <th>Emg4</th>\n",
       "      <th>Emg5</th>\n",
       "      <th>Emg6</th>\n",
       "      <th>Emg7</th>\n",
       "      <th>Emg8</th>\n",
       "      <th>Emg9</th>\n",
       "      <th>Emg10</th>\n",
       "      <th>repetition</th>\n",
       "      <th>rerepetition</th>\n",
       "      <th>stimulus</th>\n",
       "      <th>restimulus</th>\n",
       "    </tr>\n",
       "  </thead>\n",
       "  <tbody>\n",
       "    <tr>\n",
       "      <th>54171</th>\n",
       "      <td>0.0146</td>\n",
       "      <td>0.0024</td>\n",
       "      <td>0.0269</td>\n",
       "      <td>0.0024</td>\n",
       "      <td>0.0024</td>\n",
       "      <td>0.0024</td>\n",
       "      <td>0.2100</td>\n",
       "      <td>0.1733</td>\n",
       "      <td>0.0049</td>\n",
       "      <td>0.0195</td>\n",
       "      <td>5</td>\n",
       "      <td>5</td>\n",
       "      <td>7</td>\n",
       "      <td>7</td>\n",
       "    </tr>\n",
       "    <tr>\n",
       "      <th>373216</th>\n",
       "      <td>0.0073</td>\n",
       "      <td>0.0024</td>\n",
       "      <td>0.0024</td>\n",
       "      <td>0.0024</td>\n",
       "      <td>0.0024</td>\n",
       "      <td>0.0024</td>\n",
       "      <td>0.1685</td>\n",
       "      <td>0.2637</td>\n",
       "      <td>0.0024</td>\n",
       "      <td>0.0195</td>\n",
       "      <td>0</td>\n",
       "      <td>0</td>\n",
       "      <td>0</td>\n",
       "      <td>0</td>\n",
       "    </tr>\n",
       "    <tr>\n",
       "      <th>463054</th>\n",
       "      <td>0.7690</td>\n",
       "      <td>0.5542</td>\n",
       "      <td>0.0830</td>\n",
       "      <td>0.0537</td>\n",
       "      <td>0.0293</td>\n",
       "      <td>0.0464</td>\n",
       "      <td>0.3198</td>\n",
       "      <td>1.1572</td>\n",
       "      <td>0.4028</td>\n",
       "      <td>0.2002</td>\n",
       "      <td>5</td>\n",
       "      <td>5</td>\n",
       "      <td>23</td>\n",
       "      <td>23</td>\n",
       "    </tr>\n",
       "    <tr>\n",
       "      <th>266989</th>\n",
       "      <td>0.3149</td>\n",
       "      <td>0.3369</td>\n",
       "      <td>0.0903</td>\n",
       "      <td>0.0220</td>\n",
       "      <td>0.0098</td>\n",
       "      <td>0.0854</td>\n",
       "      <td>0.7178</td>\n",
       "      <td>0.7178</td>\n",
       "      <td>0.0757</td>\n",
       "      <td>0.7397</td>\n",
       "      <td>4</td>\n",
       "      <td>4</td>\n",
       "      <td>3</td>\n",
       "      <td>3</td>\n",
       "    </tr>\n",
       "    <tr>\n",
       "      <th>276857</th>\n",
       "      <td>0.4126</td>\n",
       "      <td>0.2954</td>\n",
       "      <td>0.5737</td>\n",
       "      <td>0.0342</td>\n",
       "      <td>0.0024</td>\n",
       "      <td>0.0024</td>\n",
       "      <td>0.1099</td>\n",
       "      <td>0.6934</td>\n",
       "      <td>0.2319</td>\n",
       "      <td>0.9961</td>\n",
       "      <td>3</td>\n",
       "      <td>3</td>\n",
       "      <td>4</td>\n",
       "      <td>4</td>\n",
       "    </tr>\n",
       "  </tbody>\n",
       "</table>\n",
       "</div>"
      ],
      "text/plain": [
       "          Emg1    Emg2    Emg3    Emg4    Emg5    Emg6    Emg7    Emg8  \\\n",
       "54171   0.0146  0.0024  0.0269  0.0024  0.0024  0.0024  0.2100  0.1733   \n",
       "373216  0.0073  0.0024  0.0024  0.0024  0.0024  0.0024  0.1685  0.2637   \n",
       "463054  0.7690  0.5542  0.0830  0.0537  0.0293  0.0464  0.3198  1.1572   \n",
       "266989  0.3149  0.3369  0.0903  0.0220  0.0098  0.0854  0.7178  0.7178   \n",
       "276857  0.4126  0.2954  0.5737  0.0342  0.0024  0.0024  0.1099  0.6934   \n",
       "\n",
       "          Emg9   Emg10  repetition  rerepetition  stimulus  restimulus  \n",
       "54171   0.0049  0.0195           5             5         7           7  \n",
       "373216  0.0024  0.0195           0             0         0           0  \n",
       "463054  0.4028  0.2002           5             5        23          23  \n",
       "266989  0.0757  0.7397           4             4         3           3  \n",
       "276857  0.2319  0.9961           3             3         4           4  "
      ]
     },
     "execution_count": 11,
     "metadata": {},
     "output_type": "execute_result"
    }
   ],
   "source": [
    "raw_data.sample(5)"
   ]
  },
  {
   "cell_type": "code",
   "execution_count": 12,
   "id": "ff5d7709",
   "metadata": {},
   "outputs": [
    {
     "data": {
      "text/plain": [
       "(381304, 14)"
      ]
     },
     "execution_count": 12,
     "metadata": {},
     "output_type": "execute_result"
    }
   ],
   "source": [
    "raw_data.shape"
   ]
  },
  {
   "cell_type": "code",
   "execution_count": 13,
   "id": "9df2c3c9",
   "metadata": {},
   "outputs": [
    {
     "name": "stdout",
     "output_type": "stream",
     "text": [
      "<class 'pandas.core.frame.DataFrame'>\n",
      "Int64Index: 381304 entries, 0 to 467776\n",
      "Data columns (total 14 columns):\n",
      " #   Column        Non-Null Count   Dtype  \n",
      "---  ------        --------------   -----  \n",
      " 0   Emg1          381304 non-null  float64\n",
      " 1   Emg2          381304 non-null  float64\n",
      " 2   Emg3          381304 non-null  float64\n",
      " 3   Emg4          381304 non-null  float64\n",
      " 4   Emg5          381304 non-null  float64\n",
      " 5   Emg6          381304 non-null  float64\n",
      " 6   Emg7          381304 non-null  float64\n",
      " 7   Emg8          381304 non-null  float64\n",
      " 8   Emg9          381304 non-null  float64\n",
      " 9   Emg10         381304 non-null  float64\n",
      " 10  repetition    381304 non-null  int64  \n",
      " 11  rerepetition  381304 non-null  int64  \n",
      " 12  stimulus      381304 non-null  int64  \n",
      " 13  restimulus    381304 non-null  int64  \n",
      "dtypes: float64(10), int64(4)\n",
      "memory usage: 51.7 MB\n"
     ]
    }
   ],
   "source": [
    "raw_data.info()"
   ]
  },
  {
   "cell_type": "code",
   "execution_count": 14,
   "id": "fbec9c31",
   "metadata": {},
   "outputs": [
    {
     "name": "stdout",
     "output_type": "stream",
     "text": [
      "Emg1            False\n",
      "Emg2            False\n",
      "Emg3            False\n",
      "Emg4            False\n",
      "Emg5            False\n",
      "Emg6            False\n",
      "Emg7            False\n",
      "Emg8            False\n",
      "Emg9            False\n",
      "Emg10           False\n",
      "repetition      False\n",
      "rerepetition    False\n",
      "stimulus        False\n",
      "restimulus      False\n",
      "dtype: bool\n"
     ]
    }
   ],
   "source": [
    "print(raw_data.isnull().any())"
   ]
  },
  {
   "cell_type": "code",
   "execution_count": 15,
   "id": "3a406dae",
   "metadata": {},
   "outputs": [],
   "source": [
    "X = raw_data.iloc[:,0:10]\n",
    "y = raw_data.stimulus"
   ]
  },
  {
   "cell_type": "markdown",
   "id": "065cac38",
   "metadata": {},
   "source": [
    "# Dropping Feature 5"
   ]
  },
  {
   "cell_type": "code",
   "execution_count": 16,
   "id": "205ea037",
   "metadata": {},
   "outputs": [
    {
     "data": {
      "text/html": [
       "<div>\n",
       "<style scoped>\n",
       "    .dataframe tbody tr th:only-of-type {\n",
       "        vertical-align: middle;\n",
       "    }\n",
       "\n",
       "    .dataframe tbody tr th {\n",
       "        vertical-align: top;\n",
       "    }\n",
       "\n",
       "    .dataframe thead th {\n",
       "        text-align: right;\n",
       "    }\n",
       "</style>\n",
       "<table border=\"1\" class=\"dataframe\">\n",
       "  <thead>\n",
       "    <tr style=\"text-align: right;\">\n",
       "      <th></th>\n",
       "      <th>Emg1</th>\n",
       "      <th>Emg2</th>\n",
       "      <th>Emg3</th>\n",
       "      <th>Emg4</th>\n",
       "      <th>Emg6</th>\n",
       "      <th>Emg7</th>\n",
       "      <th>Emg8</th>\n",
       "      <th>Emg9</th>\n",
       "      <th>Emg10</th>\n",
       "    </tr>\n",
       "  </thead>\n",
       "  <tbody>\n",
       "    <tr>\n",
       "      <th>0</th>\n",
       "      <td>0.0024</td>\n",
       "      <td>0.0024</td>\n",
       "      <td>0.0024</td>\n",
       "      <td>0.0024</td>\n",
       "      <td>0.0024</td>\n",
       "      <td>0.0024</td>\n",
       "      <td>0.0464</td>\n",
       "      <td>0.0024</td>\n",
       "      <td>0.0073</td>\n",
       "    </tr>\n",
       "    <tr>\n",
       "      <th>1</th>\n",
       "      <td>0.0024</td>\n",
       "      <td>0.0024</td>\n",
       "      <td>0.0024</td>\n",
       "      <td>0.0024</td>\n",
       "      <td>0.0024</td>\n",
       "      <td>0.0024</td>\n",
       "      <td>0.0488</td>\n",
       "      <td>0.0024</td>\n",
       "      <td>0.0073</td>\n",
       "    </tr>\n",
       "    <tr>\n",
       "      <th>2</th>\n",
       "      <td>0.0049</td>\n",
       "      <td>0.0024</td>\n",
       "      <td>0.0024</td>\n",
       "      <td>0.0024</td>\n",
       "      <td>0.0024</td>\n",
       "      <td>0.0024</td>\n",
       "      <td>0.0513</td>\n",
       "      <td>0.0024</td>\n",
       "      <td>0.0122</td>\n",
       "    </tr>\n",
       "    <tr>\n",
       "      <th>3</th>\n",
       "      <td>0.0024</td>\n",
       "      <td>0.0024</td>\n",
       "      <td>0.0024</td>\n",
       "      <td>0.0024</td>\n",
       "      <td>0.0024</td>\n",
       "      <td>0.0024</td>\n",
       "      <td>0.0586</td>\n",
       "      <td>0.0024</td>\n",
       "      <td>0.0098</td>\n",
       "    </tr>\n",
       "    <tr>\n",
       "      <th>4</th>\n",
       "      <td>0.0024</td>\n",
       "      <td>0.0024</td>\n",
       "      <td>0.0024</td>\n",
       "      <td>0.0024</td>\n",
       "      <td>0.0024</td>\n",
       "      <td>0.0024</td>\n",
       "      <td>0.0562</td>\n",
       "      <td>0.0024</td>\n",
       "      <td>0.0073</td>\n",
       "    </tr>\n",
       "  </tbody>\n",
       "</table>\n",
       "</div>"
      ],
      "text/plain": [
       "     Emg1    Emg2    Emg3    Emg4    Emg6    Emg7    Emg8    Emg9   Emg10\n",
       "0  0.0024  0.0024  0.0024  0.0024  0.0024  0.0024  0.0464  0.0024  0.0073\n",
       "1  0.0024  0.0024  0.0024  0.0024  0.0024  0.0024  0.0488  0.0024  0.0073\n",
       "2  0.0049  0.0024  0.0024  0.0024  0.0024  0.0024  0.0513  0.0024  0.0122\n",
       "3  0.0024  0.0024  0.0024  0.0024  0.0024  0.0024  0.0586  0.0024  0.0098\n",
       "4  0.0024  0.0024  0.0024  0.0024  0.0024  0.0024  0.0562  0.0024  0.0073"
      ]
     },
     "execution_count": 16,
     "metadata": {},
     "output_type": "execute_result"
    }
   ],
   "source": [
    "drop_list1 = ['Emg5']\n",
    "X = X.drop(drop_list1,axis = 1 )       \n",
    "X.head()"
   ]
  },
  {
   "cell_type": "markdown",
   "id": "797d6a4c",
   "metadata": {},
   "source": [
    "# Standard Scaler"
   ]
  },
  {
   "cell_type": "code",
   "execution_count": 17,
   "id": "eb46d537",
   "metadata": {},
   "outputs": [],
   "source": [
    "from sklearn.preprocessing import StandardScaler\n",
    "standardscaler=StandardScaler()"
   ]
  },
  {
   "cell_type": "code",
   "execution_count": 18,
   "id": "6e891df5",
   "metadata": {},
   "outputs": [],
   "source": [
    "sc = pd.DataFrame(standardscaler.fit_transform(X))"
   ]
  },
  {
   "cell_type": "code",
   "execution_count": 19,
   "id": "28f47777",
   "metadata": {},
   "outputs": [
    {
     "data": {
      "text/html": [
       "<div>\n",
       "<style scoped>\n",
       "    .dataframe tbody tr th:only-of-type {\n",
       "        vertical-align: middle;\n",
       "    }\n",
       "\n",
       "    .dataframe tbody tr th {\n",
       "        vertical-align: top;\n",
       "    }\n",
       "\n",
       "    .dataframe thead th {\n",
       "        text-align: right;\n",
       "    }\n",
       "</style>\n",
       "<table border=\"1\" class=\"dataframe\">\n",
       "  <thead>\n",
       "    <tr style=\"text-align: right;\">\n",
       "      <th></th>\n",
       "      <th>0</th>\n",
       "      <th>1</th>\n",
       "      <th>2</th>\n",
       "      <th>3</th>\n",
       "      <th>4</th>\n",
       "      <th>5</th>\n",
       "      <th>6</th>\n",
       "      <th>7</th>\n",
       "      <th>8</th>\n",
       "    </tr>\n",
       "  </thead>\n",
       "  <tbody>\n",
       "    <tr>\n",
       "      <th>0</th>\n",
       "      <td>-0.423000</td>\n",
       "      <td>-0.446714</td>\n",
       "      <td>-0.385645</td>\n",
       "      <td>-0.300581</td>\n",
       "      <td>-0.377081</td>\n",
       "      <td>-0.648089</td>\n",
       "      <td>-0.584409</td>\n",
       "      <td>-0.348787</td>\n",
       "      <td>-0.519403</td>\n",
       "    </tr>\n",
       "    <tr>\n",
       "      <th>1</th>\n",
       "      <td>-0.423000</td>\n",
       "      <td>-0.446714</td>\n",
       "      <td>-0.385645</td>\n",
       "      <td>-0.300581</td>\n",
       "      <td>-0.377081</td>\n",
       "      <td>-0.648089</td>\n",
       "      <td>-0.579156</td>\n",
       "      <td>-0.348787</td>\n",
       "      <td>-0.519403</td>\n",
       "    </tr>\n",
       "    <tr>\n",
       "      <th>2</th>\n",
       "      <td>-0.414693</td>\n",
       "      <td>-0.446714</td>\n",
       "      <td>-0.385645</td>\n",
       "      <td>-0.300581</td>\n",
       "      <td>-0.377081</td>\n",
       "      <td>-0.648089</td>\n",
       "      <td>-0.573684</td>\n",
       "      <td>-0.348787</td>\n",
       "      <td>-0.494350</td>\n",
       "    </tr>\n",
       "    <tr>\n",
       "      <th>3</th>\n",
       "      <td>-0.423000</td>\n",
       "      <td>-0.446714</td>\n",
       "      <td>-0.385645</td>\n",
       "      <td>-0.300581</td>\n",
       "      <td>-0.377081</td>\n",
       "      <td>-0.648089</td>\n",
       "      <td>-0.557706</td>\n",
       "      <td>-0.348787</td>\n",
       "      <td>-0.506621</td>\n",
       "    </tr>\n",
       "    <tr>\n",
       "      <th>4</th>\n",
       "      <td>-0.423000</td>\n",
       "      <td>-0.446714</td>\n",
       "      <td>-0.385645</td>\n",
       "      <td>-0.300581</td>\n",
       "      <td>-0.377081</td>\n",
       "      <td>-0.648089</td>\n",
       "      <td>-0.562959</td>\n",
       "      <td>-0.348787</td>\n",
       "      <td>-0.519403</td>\n",
       "    </tr>\n",
       "    <tr>\n",
       "      <th>...</th>\n",
       "      <td>...</td>\n",
       "      <td>...</td>\n",
       "      <td>...</td>\n",
       "      <td>...</td>\n",
       "      <td>...</td>\n",
       "      <td>...</td>\n",
       "      <td>...</td>\n",
       "      <td>...</td>\n",
       "      <td>...</td>\n",
       "    </tr>\n",
       "    <tr>\n",
       "      <th>381299</th>\n",
       "      <td>-0.414693</td>\n",
       "      <td>-0.446714</td>\n",
       "      <td>-0.385645</td>\n",
       "      <td>-0.300581</td>\n",
       "      <td>-0.377081</td>\n",
       "      <td>-0.648089</td>\n",
       "      <td>-0.616583</td>\n",
       "      <td>-0.348787</td>\n",
       "      <td>0.117139</td>\n",
       "    </tr>\n",
       "    <tr>\n",
       "      <th>381300</th>\n",
       "      <td>-0.414693</td>\n",
       "      <td>-0.446714</td>\n",
       "      <td>-0.385645</td>\n",
       "      <td>-0.300581</td>\n",
       "      <td>-0.377081</td>\n",
       "      <td>-0.648089</td>\n",
       "      <td>-0.616583</td>\n",
       "      <td>-0.348787</td>\n",
       "      <td>0.154974</td>\n",
       "    </tr>\n",
       "    <tr>\n",
       "      <th>381301</th>\n",
       "      <td>-0.423000</td>\n",
       "      <td>-0.446714</td>\n",
       "      <td>-0.385645</td>\n",
       "      <td>-0.300581</td>\n",
       "      <td>-0.377081</td>\n",
       "      <td>-0.648089</td>\n",
       "      <td>-0.621836</td>\n",
       "      <td>-0.348787</td>\n",
       "      <td>0.167245</td>\n",
       "    </tr>\n",
       "    <tr>\n",
       "      <th>381302</th>\n",
       "      <td>-0.423000</td>\n",
       "      <td>-0.446714</td>\n",
       "      <td>-0.385645</td>\n",
       "      <td>-0.300581</td>\n",
       "      <td>-0.377081</td>\n",
       "      <td>-0.648089</td>\n",
       "      <td>-0.600386</td>\n",
       "      <td>-0.348787</td>\n",
       "      <td>0.167245</td>\n",
       "    </tr>\n",
       "    <tr>\n",
       "      <th>381303</th>\n",
       "      <td>-0.414693</td>\n",
       "      <td>-0.446714</td>\n",
       "      <td>-0.377419</td>\n",
       "      <td>-0.300581</td>\n",
       "      <td>-0.377081</td>\n",
       "      <td>-0.648089</td>\n",
       "      <td>-0.595133</td>\n",
       "      <td>-0.348787</td>\n",
       "      <td>0.129921</td>\n",
       "    </tr>\n",
       "  </tbody>\n",
       "</table>\n",
       "<p>381304 rows × 9 columns</p>\n",
       "</div>"
      ],
      "text/plain": [
       "               0         1         2         3         4         5         6  \\\n",
       "0      -0.423000 -0.446714 -0.385645 -0.300581 -0.377081 -0.648089 -0.584409   \n",
       "1      -0.423000 -0.446714 -0.385645 -0.300581 -0.377081 -0.648089 -0.579156   \n",
       "2      -0.414693 -0.446714 -0.385645 -0.300581 -0.377081 -0.648089 -0.573684   \n",
       "3      -0.423000 -0.446714 -0.385645 -0.300581 -0.377081 -0.648089 -0.557706   \n",
       "4      -0.423000 -0.446714 -0.385645 -0.300581 -0.377081 -0.648089 -0.562959   \n",
       "...          ...       ...       ...       ...       ...       ...       ...   \n",
       "381299 -0.414693 -0.446714 -0.385645 -0.300581 -0.377081 -0.648089 -0.616583   \n",
       "381300 -0.414693 -0.446714 -0.385645 -0.300581 -0.377081 -0.648089 -0.616583   \n",
       "381301 -0.423000 -0.446714 -0.385645 -0.300581 -0.377081 -0.648089 -0.621836   \n",
       "381302 -0.423000 -0.446714 -0.385645 -0.300581 -0.377081 -0.648089 -0.600386   \n",
       "381303 -0.414693 -0.446714 -0.377419 -0.300581 -0.377081 -0.648089 -0.595133   \n",
       "\n",
       "               7         8  \n",
       "0      -0.348787 -0.519403  \n",
       "1      -0.348787 -0.519403  \n",
       "2      -0.348787 -0.494350  \n",
       "3      -0.348787 -0.506621  \n",
       "4      -0.348787 -0.519403  \n",
       "...          ...       ...  \n",
       "381299 -0.348787  0.117139  \n",
       "381300 -0.348787  0.154974  \n",
       "381301 -0.348787  0.167245  \n",
       "381302 -0.348787  0.167245  \n",
       "381303 -0.348787  0.129921  \n",
       "\n",
       "[381304 rows x 9 columns]"
      ]
     },
     "execution_count": 19,
     "metadata": {},
     "output_type": "execute_result"
    }
   ],
   "source": [
    "sc"
   ]
  },
  {
   "cell_type": "code",
   "execution_count": 20,
   "id": "83683085",
   "metadata": {},
   "outputs": [],
   "source": [
    "# Splitting data for training and testing\n",
    "X_train, X_test, y_train, y_test = train_test_split(sc, y, test_size = 0.2, random_state = 39)"
   ]
  },
  {
   "cell_type": "markdown",
   "id": "676e9bd7",
   "metadata": {},
   "source": [
    "# KNeighborsClassifier"
   ]
  },
  {
   "cell_type": "code",
   "execution_count": 21,
   "id": "30a0e188",
   "metadata": {},
   "outputs": [
    {
     "data": {
      "text/plain": [
       "KNeighborsClassifier()"
      ]
     },
     "execution_count": 21,
     "metadata": {},
     "output_type": "execute_result"
    }
   ],
   "source": [
    "from sklearn.neighbors import KNeighborsClassifier\n",
    "KNeighborsClassifier = KNeighborsClassifier()\n",
    "KNeighborsClassifier.fit(X_train, y_train)"
   ]
  },
  {
   "cell_type": "code",
   "execution_count": 22,
   "id": "0249d6ed",
   "metadata": {},
   "outputs": [],
   "source": [
    "y_pred = KNeighborsClassifier.predict(X_test)"
   ]
  },
  {
   "cell_type": "code",
   "execution_count": 23,
   "id": "288d1cf4",
   "metadata": {},
   "outputs": [
    {
     "name": "stdout",
     "output_type": "stream",
     "text": [
      "Accuracy is: 88.13548209438639\n"
     ]
    }
   ],
   "source": [
    "from sklearn.metrics import accuracy_score\n",
    "accuracy = {accuracy_score(y_test, y_pred)}\n",
    "print(f\"Accuracy is: {accuracy_score(y_test, y_pred)* 100}\")"
   ]
  },
  {
   "cell_type": "code",
   "execution_count": 24,
   "id": "9595f210",
   "metadata": {},
   "outputs": [
    {
     "name": "stdout",
     "output_type": "stream",
     "text": [
      "\u001b[1mClassification report : \u001b[0m\n",
      "               precision    recall  f1-score   support\n",
      "\n",
      "           0       0.91      0.98      0.94     39341\n",
      "           1       0.82      0.81      0.82      2050\n",
      "           2       0.85      0.80      0.82      2158\n",
      "           3       0.81      0.70      0.75      2144\n",
      "           4       0.92      0.87      0.89      2037\n",
      "           5       0.84      0.80      0.82      2052\n",
      "           6       0.88      0.84      0.86      1952\n",
      "           7       0.73      0.69      0.71      2048\n",
      "           8       0.85      0.78      0.81      2084\n",
      "           9       0.83      0.75      0.79      1918\n",
      "          10       0.82      0.73      0.78      2029\n",
      "          11       0.92      0.83      0.87      1973\n",
      "          12       0.87      0.72      0.79      2082\n",
      "          13       0.86      0.82      0.84      1601\n",
      "          14       0.80      0.70      0.75      1305\n",
      "          15       0.69      0.61      0.65      1473\n",
      "          16       0.89      0.76      0.82      1608\n",
      "          17       0.82      0.79      0.80      1367\n",
      "          18       0.81      0.66      0.72       904\n",
      "          19       0.84      0.84      0.84       794\n",
      "          20       1.00      0.96      0.98       925\n",
      "          21       0.95      0.82      0.88       699\n",
      "          22       0.98      0.94      0.96       829\n",
      "          23       0.98      0.94      0.96       888\n",
      "\n",
      "    accuracy                           0.88     76261\n",
      "   macro avg       0.86      0.80      0.83     76261\n",
      "weighted avg       0.88      0.88      0.88     76261\n",
      "\n",
      "\u001b[1mConfusion Matrix : \u001b[0m\n"
     ]
    },
    {
     "data": {
      "image/png": "[encoded data removed]",
      "text/plain": [
       "<Figure size 432x288 with 2 Axes>"
      ]
     },
     "metadata": {
      "needs_background": "light"
     },
     "output_type": "display_data"
    }
   ],
   "source": [
    "print('\\033[1m' +'Classification report : '+ '\\033[0m\\n', classification_report(y_test, y_pred))\n",
    "\n",
    "cm = confusion_matrix(y_pred, y_test)\n",
    "print('\\033[1m' +'Confusion Matrix : '+ '\\033[0m')\n",
    "sns.heatmap(cm, cmap = 'OrRd',annot = True, fmt='d')\n",
    "plt.show()"
   ]
  },
  {
   "cell_type": "markdown",
   "id": "12894e89",
   "metadata": {},
   "source": [
    "# Evaluation"
   ]
  },
  {
   "cell_type": "code",
   "execution_count": 25,
   "id": "67c898f1",
   "metadata": {},
   "outputs": [
    {
     "name": "stdout",
     "output_type": "stream",
     "text": [
      "MAE: 0.8985457835590931\n",
      "MSE: 9.91072763273495\n",
      "RMSE: 3.14813081569603\n"
     ]
    }
   ],
   "source": [
    "from sklearn import metrics\n",
    "\n",
    "print('MAE:', metrics.mean_absolute_error(y_test,y_pred))\n",
    "print('MSE:', metrics.mean_squared_error(y_test, y_pred))\n",
    "print('RMSE:', np.sqrt(metrics.mean_squared_error(y_test, y_pred)))"
   ]
  },
  {
   "cell_type": "code",
   "execution_count": 26,
   "id": "1c13a208",
   "metadata": {},
   "outputs": [
    {
     "name": "stdout",
     "output_type": "stream",
     "text": [
      "Precision Score :  0.8788678038043168\n",
      "Recall Score :  0.8813548209438639\n",
      "f1_score :  0.8784776120910183\n"
     ]
    }
   ],
   "source": [
    "from sklearn.metrics import precision_score\n",
    "print(\"Precision Score : \",precision_score(y_test, y_pred, average='weighted'))\n",
    "\n",
    "\n",
    "from sklearn.metrics import recall_score\n",
    "print(\"Recall Score : \",recall_score(y_test, y_pred,average='weighted'))\n",
    "\n",
    "\n",
    "from sklearn.metrics import f1_score\n",
    "print(\"f1_score : \",f1_score(y_test, y_pred,average='weighted'))"
   ]
  },
  {
   "cell_type": "code",
   "execution_count": null,
   "id": "e8e0e070",
   "metadata": {},
   "outputs": [],
   "source": []
  }
 ],
 "metadata": {
  "kernelspec": {
   "display_name": "Python 3 (ipykernel)",
   "language": "python",
   "name": "python3"
  },
  "language_info": {
   "codemirror_mode": {
    "name": "ipython",
    "version": 3
   },
   "file_extension": ".py",
   "mimetype": "text/x-python",
   "name": "python",
   "nbconvert_exporter": "python",
   "pygments_lexer": "ipython3",
   "version": "3.8.12"
  }
 },
 "nbformat": 4,
 "nbformat_minor": 5
}
